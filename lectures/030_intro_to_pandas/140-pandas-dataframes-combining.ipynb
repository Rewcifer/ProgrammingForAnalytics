{
 "cells": [
  {
   "cell_type": "code",
   "execution_count": null,
   "metadata": {},
   "outputs": [],
   "source": [
    "import numpy as np\n",
    "import pandas as pd\n",
    "import matplotlib.pyplot as plt"
   ]
  },
  {
   "cell_type": "code",
   "execution_count": null,
   "metadata": {},
   "outputs": [],
   "source": [
    "%reload_ext postcell\n",
    "%postcell register"
   ]
  },
  {
   "cell_type": "code",
   "execution_count": null,
   "metadata": {},
   "outputs": [],
   "source": [
    "%matplotlib inline"
   ]
  },
  {
   "cell_type": "markdown",
   "metadata": {},
   "source": [
    "### `pd.concat` combines dataframes vertically or horizontally"
   ]
  },
  {
   "cell_type": "markdown",
   "metadata": {},
   "source": [
    "Combining multiple datasets is very common. Given these two dataframes, you can combine them via `pd.concat`:"
   ]
  },
  {
   "cell_type": "code",
   "execution_count": null,
   "metadata": {},
   "outputs": [],
   "source": [
    "simpsons_2assignments_pd = pd.DataFrame(((np.random.rand(5,2) * 100) )\n",
    "             , columns=['Assignment 1', 'Assignment 2']\n",
    "             , index=['Homer', 'Marge', 'Bart', 'Lisa', 'Maggie']\n",
    "            )\n",
    "simpsons_2assignments_pd = simpsons_2assignments_pd.round()\n",
    "\n",
    "got_2assignments_pd = pd.DataFrame(((np.random.rand(5,2) * 100) )\n",
    "             , columns=['Assignment 1', 'Assignment 2']\n",
    "             , index=[ 'Jon', 'Arya', 'Ned', 'Danny', 'That red lady']\n",
    "            )\n",
    "got_2assignments_pd = got_2assignments_pd.round()"
   ]
  },
  {
   "cell_type": "markdown",
   "metadata": {},
   "source": [
    "#### Combine the following two dataframes vertically"
   ]
  },
  {
   "cell_type": "code",
   "execution_count": null,
   "metadata": {},
   "outputs": [],
   "source": [
    "#simpsons_2assignments_pd['Assignment 3'] = '100'"
   ]
  },
  {
   "cell_type": "code",
   "execution_count": null,
   "metadata": {},
   "outputs": [],
   "source": [
    "simpsons_2assignments_pd"
   ]
  },
  {
   "cell_type": "code",
   "execution_count": null,
   "metadata": {},
   "outputs": [],
   "source": [
    "got_2assignments_pd"
   ]
  },
  {
   "cell_type": "code",
   "execution_count": null,
   "metadata": {},
   "outputs": [],
   "source": [
    "pd.concat([simpsons_2assignments_pd, got_2assignments_pd])"
   ]
  },
  {
   "cell_type": "markdown",
   "metadata": {},
   "source": [
    "We can add an `axis` parameter, but it isn't needed, by default"
   ]
  },
  {
   "cell_type": "code",
   "execution_count": null,
   "metadata": {},
   "outputs": [],
   "source": [
    "pd.concat([simpsons_2assignments_pd, got_2assignments_pd], axis='rows')"
   ]
  },
  {
   "cell_type": "markdown",
   "metadata": {},
   "source": [
    "**Exercise** Please take the first two rows of `simpsons_2assignments_pd` and the last two rows of `got_2assignments_pd` and combine them (vertically) into a single dataframe"
   ]
  },
  {
   "cell_type": "code",
   "execution_count": null,
   "metadata": {},
   "outputs": [],
   "source": [
    "%%postcell exercise_030_140_a\n",
    "\n",
    "#type your answer here\n"
   ]
  },
  {
   "cell_type": "markdown",
   "metadata": {},
   "source": [
    "#### Combine the following two dataframes horizontally"
   ]
  },
  {
   "cell_type": "code",
   "execution_count": null,
   "metadata": {},
   "outputs": [],
   "source": [
    "simpsons_2assignments_pd"
   ]
  },
  {
   "cell_type": "code",
   "execution_count": null,
   "metadata": {},
   "outputs": [],
   "source": [
    "simpsons_2more_assignments_pd = pd.DataFrame(((np.random.rand(5,2) * 100) )\n",
    "             , columns=['Assignment 3', 'Assignment 4']\n",
    "             , index=['Homer', 'Marge', 'Bart', 'Lisa', 'Maggie']\n",
    "            )\n",
    "simpsons_2more_assignments_pd = simpsons_2more_assignments_pd.round()\n",
    "simpsons_2more_assignments_pd"
   ]
  },
  {
   "cell_type": "code",
   "execution_count": null,
   "metadata": {},
   "outputs": [],
   "source": [
    "pd.concat([simpsons_2assignments_pd, simpsons_2more_assignments_pd], axis='columns')"
   ]
  },
  {
   "cell_type": "markdown",
   "metadata": {},
   "source": [
    "What if the second table didn't have enough entries for everyone in the first dataframe (remember the importance of `index`)"
   ]
  },
  {
   "cell_type": "code",
   "execution_count": null,
   "metadata": {},
   "outputs": [],
   "source": [
    "simpsons_2more_assignments_pd.loc['Homer':'Bart']"
   ]
  },
  {
   "cell_type": "code",
   "execution_count": null,
   "metadata": {},
   "outputs": [],
   "source": [
    "pd.concat([simpsons_2assignments_pd, simpsons_2more_assignments_pd.loc['Homer':'Bart']], axis='columns', sort=False)"
   ]
  },
  {
   "cell_type": "markdown",
   "metadata": {},
   "source": [
    "**Note** `pd.concat` takes an _array_ of dataframes"
   ]
  },
  {
   "cell_type": "markdown",
   "metadata": {},
   "source": [
    "### `pd.merge` to do sql style joins"
   ]
  },
  {
   "cell_type": "markdown",
   "metadata": {},
   "source": [
    "`pd.concat` is quite a bit more powerful than just plopping together two dataframes, vertically or horizontally. It provides many features of sql's joins. However, I generally use `pd.merge` or `df.merge` to duplicate the functioanlity of sql.\n",
    "\n",
    "This stackoverflow answer provides better comparison of `merge`, `join` and `concat` than any book or documentation I've read: https://stackoverflow.com/questions/40468069/merge-two-dataframes-by-index/40468090#40468090\n",
    "\n",
    "Note that since corporate environments generally store data in sql databases, I prefer to do my joins there, rather than in pandas. SQL servers usually have more memory, faster computation and better optimizers, resulting in faster joins."
   ]
  },
  {
   "cell_type": "markdown",
   "metadata": {},
   "source": [
    "#### Combine the following two dataframes"
   ]
  },
  {
   "cell_type": "code",
   "execution_count": null,
   "metadata": {},
   "outputs": [],
   "source": [
    "simpsons_jobs_df = pd.DataFrame({'age':[38, 107, 42, 56, 37], \n",
    "              'iq': [55, 107, 100, 111, 83],\n",
    "              'profession': ['Nuclear Safety Inspector', 'CEO', 'Teacher', 'Physician', 'Business Owner'],\n",
    "             }\n",
    "            , index = ['Homer', 'Mr. Burns', 'Mrs Krabapple', 'Dr. Hiburt', 'Moe'])\n",
    "simpsons_jobs_df"
   ]
  },
  {
   "cell_type": "code",
   "execution_count": null,
   "metadata": {},
   "outputs": [],
   "source": [
    "profession_df = pd.DataFrame({'salary':[36000, 17000000, 29000, 120000, 80000], \n",
    "              'vacation_days': [10, 90, 90, 12, 3]\n",
    "             }\n",
    "            , index = ['Nuclear Safety Inspector', 'CEO', 'Teacher', 'Physician', 'Business Owner'])\n",
    "profession_df"
   ]
  },
  {
   "cell_type": "markdown",
   "metadata": {},
   "source": [
    "Notice that for each rows in the dataframe containing Simpsons characters, we need to find the `profession` column, match that with the index in the second dataframe. Instead of doing this manually, we can let `merge` do this for us:"
   ]
  },
  {
   "cell_type": "code",
   "execution_count": null,
   "metadata": {},
   "outputs": [],
   "source": [
    "pd.merge(simpsons_jobs_df, profession_df, left_on='profession', right_index=True)"
   ]
  },
  {
   "cell_type": "markdown",
   "metadata": {},
   "source": [
    "**Dealing with join complexity** You should know that Pandas lets you do such joins. Detail description of joins will be explained in your sql class. Once you understand these concepts via SQL, using `merge` will become trivial."
   ]
  },
  {
   "cell_type": "code",
   "execution_count": null,
   "metadata": {},
   "outputs": [],
   "source": []
  }
 ],
 "metadata": {
  "kernelspec": {
   "display_name": "Python 3",
   "language": "python",
   "name": "python3"
  },
  "language_info": {
   "codemirror_mode": {
    "name": "ipython",
    "version": 3
   },
   "file_extension": ".py",
   "mimetype": "text/x-python",
   "name": "python",
   "nbconvert_exporter": "python",
   "pygments_lexer": "ipython3",
   "version": "3.7.6"
  }
 },
 "nbformat": 4,
 "nbformat_minor": 4
}
