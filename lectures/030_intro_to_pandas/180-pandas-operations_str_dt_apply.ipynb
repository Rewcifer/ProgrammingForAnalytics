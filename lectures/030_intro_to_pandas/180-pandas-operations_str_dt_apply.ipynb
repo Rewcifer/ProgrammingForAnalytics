{
 "cells": [
  {
   "cell_type": "code",
   "execution_count": 1,
   "metadata": {},
   "outputs": [],
   "source": [
    "import numpy as np\n",
    "import pandas as pd"
   ]
  },
  {
   "cell_type": "code",
   "execution_count": 2,
   "metadata": {},
   "outputs": [
    {
     "name": "stdout",
     "output_type": "stream",
     "text": [
      "PostCell loaded\n",
      "Loading config file from C:\\Users\\shahb\\Documents\\GitHub\\ProgrammingForAnalytics\\postcell.conf\n",
      "Registered user TEST_STUDENT at https://postcell.io/post_cell\n"
     ]
    }
   ],
   "source": [
    "%reload_ext postcell\n",
    "%postcell register"
   ]
  },
  {
   "cell_type": "code",
   "execution_count": 24,
   "metadata": {},
   "outputs": [
    {
     "data": {
      "text/html": [
       "<div>\n",
       "<style scoped>\n",
       "    .dataframe tbody tr th:only-of-type {\n",
       "        vertical-align: middle;\n",
       "    }\n",
       "\n",
       "    .dataframe tbody tr th {\n",
       "        vertical-align: top;\n",
       "    }\n",
       "\n",
       "    .dataframe thead th {\n",
       "        text-align: right;\n",
       "    }\n",
       "</style>\n",
       "<table border=\"1\" class=\"dataframe\">\n",
       "  <thead>\n",
       "    <tr style=\"text-align: right;\">\n",
       "      <th></th>\n",
       "      <th>Name</th>\n",
       "      <th>DOB</th>\n",
       "    </tr>\n",
       "  </thead>\n",
       "  <tbody>\n",
       "    <tr>\n",
       "      <th>0</th>\n",
       "      <td>george washington</td>\n",
       "      <td>2/22/1732</td>\n",
       "    </tr>\n",
       "    <tr>\n",
       "      <th>1</th>\n",
       "      <td>john adams</td>\n",
       "      <td>10/30/1735</td>\n",
       "    </tr>\n",
       "    <tr>\n",
       "      <th>2</th>\n",
       "      <td>thomas jefferson</td>\n",
       "      <td>4/13/1743</td>\n",
       "    </tr>\n",
       "    <tr>\n",
       "      <th>3</th>\n",
       "      <td>james madison</td>\n",
       "      <td>3/16/1751</td>\n",
       "    </tr>\n",
       "    <tr>\n",
       "      <th>4</th>\n",
       "      <td>james monroe</td>\n",
       "      <td>4/28/1758</td>\n",
       "    </tr>\n",
       "    <tr>\n",
       "      <th>5</th>\n",
       "      <td>andrew jackson</td>\n",
       "      <td>3/15/1767</td>\n",
       "    </tr>\n",
       "    <tr>\n",
       "      <th>6</th>\n",
       "      <td>john quincy adams</td>\n",
       "      <td>7/11/1767</td>\n",
       "    </tr>\n",
       "  </tbody>\n",
       "</table>\n",
       "</div>"
      ],
      "text/plain": [
       "                Name         DOB\n",
       "0  george washington   2/22/1732\n",
       "1         john adams  10/30/1735\n",
       "2   thomas jefferson   4/13/1743\n",
       "3      james madison   3/16/1751\n",
       "4       james monroe   4/28/1758\n",
       "5     andrew jackson   3/15/1767\n",
       "6  john quincy adams   7/11/1767"
      ]
     },
     "execution_count": 24,
     "metadata": {},
     "output_type": "execute_result"
    }
   ],
   "source": [
    "names_ages_df = pd.DataFrame({'Name':['george washington', 'john adams', 'thomas jefferson', 'james madison', 'james monroe', 'andrew jackson', 'john quincy adams']\n",
    "                              , 'DOB':['2/22/1732', '10/30/1735', '4/13/1743', '3/16/1751', '4/28/1758', '3/15/1767', '7/11/1767']})\n",
    "names_ages_df"
   ]
  },
  {
   "cell_type": "code",
   "execution_count": 25,
   "metadata": {},
   "outputs": [
    {
     "data": {
      "text/plain": [
       "Name    object\n",
       "DOB     object\n",
       "dtype: object"
      ]
     },
     "execution_count": 25,
     "metadata": {},
     "output_type": "execute_result"
    }
   ],
   "source": [
    "names_ages_df.dtypes"
   ]
  },
  {
   "cell_type": "code",
   "execution_count": 27,
   "metadata": {},
   "outputs": [],
   "source": [
    "names_ages_df.DOB = pd.to_datetime(names_ages_df.DOB)"
   ]
  },
  {
   "cell_type": "code",
   "execution_count": 28,
   "metadata": {},
   "outputs": [
    {
     "data": {
      "text/plain": [
       "Name            object\n",
       "DOB     datetime64[ns]\n",
       "dtype: object"
      ]
     },
     "execution_count": 28,
     "metadata": {},
     "output_type": "execute_result"
    }
   ],
   "source": [
    "names_ages_df.dtypes"
   ]
  },
  {
   "cell_type": "markdown",
   "metadata": {},
   "source": [
    "# Using `str` to do string operations on Pandas columns"
   ]
  },
  {
   "cell_type": "markdown",
   "metadata": {},
   "source": [
    "Given a string, such as 'george washington', normal Python will let you change case (`capitalize`, `lower`, `upper`), `split` it into tokens and do countless other operations:"
   ]
  },
  {
   "cell_type": "code",
   "execution_count": 17,
   "metadata": {},
   "outputs": [
    {
     "data": {
      "text/plain": [
       "'George washington'"
      ]
     },
     "execution_count": 17,
     "metadata": {},
     "output_type": "execute_result"
    }
   ],
   "source": [
    "'george washington'.capitalize()"
   ]
  },
  {
   "cell_type": "markdown",
   "metadata": {},
   "source": [
    "But how can you do the same thing with pandas columns?"
   ]
  },
  {
   "cell_type": "code",
   "execution_count": 18,
   "metadata": {},
   "outputs": [
    {
     "data": {
      "text/plain": [
       "0    george washington\n",
       "1           john adams\n",
       "2     thomas jefferson\n",
       "3        james madison\n",
       "4         james monroe\n",
       "5       andrew jackson\n",
       "6    john quincy adams\n",
       "Name: Name, dtype: object"
      ]
     },
     "execution_count": 18,
     "metadata": {},
     "output_type": "execute_result"
    }
   ],
   "source": [
    "names_ages_df.Name"
   ]
  },
  {
   "cell_type": "markdown",
   "metadata": {},
   "source": [
    "The answer is `df.col.str`. Calling the `str` property will bring back all of core python's string functions:"
   ]
  },
  {
   "cell_type": "code",
   "execution_count": 19,
   "metadata": {},
   "outputs": [
    {
     "data": {
      "text/plain": [
       "0    George washington\n",
       "1           John adams\n",
       "2     Thomas jefferson\n",
       "3        James madison\n",
       "4         James monroe\n",
       "5       Andrew jackson\n",
       "6    John quincy adams\n",
       "Name: Name, dtype: object"
      ]
     },
     "execution_count": 19,
     "metadata": {},
     "output_type": "execute_result"
    }
   ],
   "source": [
    "names_ages_df.Name.str.capitalize()"
   ]
  },
  {
   "cell_type": "markdown",
   "metadata": {},
   "source": [
    "# Using `dt` to do datetime operations on Pandas columns\n",
    "\n",
    "Similar to `str`, datetime operations can be done on pandas columns via `df.col.dt`:"
   ]
  },
  {
   "cell_type": "code",
   "execution_count": 30,
   "metadata": {},
   "outputs": [
    {
     "data": {
      "text/plain": [
       "0    1732\n",
       "1    1735\n",
       "2    1743\n",
       "3    1751\n",
       "4    1758\n",
       "5    1767\n",
       "6    1767\n",
       "Name: DOB, dtype: int64"
      ]
     },
     "execution_count": 30,
     "metadata": {},
     "output_type": "execute_result"
    }
   ],
   "source": [
    "names_ages_df.DOB.dt.year"
   ]
  },
  {
   "cell_type": "markdown",
   "metadata": {},
   "source": [
    "# Using `apply` for any transformation\n",
    "\n",
    "Although pandas provides type specific methods via `str` and `dt`, using the `apply` function gives you much greater control.\n",
    "\n",
    "You can pass in a function (including `lambda` functions, see relevant lecture if you are not familiar) so each cell appears as a single input. You can then apply any transformation you like.\n",
    "\n",
    "#### Example: Change names from \"first last\" to \"Last, First\""
   ]
  },
  {
   "cell_type": "code",
   "execution_count": 36,
   "metadata": {},
   "outputs": [
    {
     "data": {
      "text/plain": [
       "'Simpson, Homer'"
      ]
     },
     "execution_count": 36,
     "metadata": {},
     "output_type": "execute_result"
    }
   ],
   "source": [
    "def last_first(name):\n",
    "    tokens = name.split()\n",
    "    return f'{tokens[1].capitalize()}, {tokens[0].capitalize()}'\n",
    "\n",
    "last_first('homer simpson')"
   ]
  },
  {
   "cell_type": "code",
   "execution_count": 37,
   "metadata": {},
   "outputs": [
    {
     "data": {
      "text/plain": [
       "0    Washington, George\n",
       "1           Adams, John\n",
       "2     Jefferson, Thomas\n",
       "3        Madison, James\n",
       "4         Monroe, James\n",
       "5       Jackson, Andrew\n",
       "6          Quincy, John\n",
       "Name: Name, dtype: object"
      ]
     },
     "execution_count": 37,
     "metadata": {},
     "output_type": "execute_result"
    }
   ],
   "source": [
    "\n",
    "names_ages_df.Name.apply(last_first)"
   ]
  },
  {
   "cell_type": "code",
   "execution_count": null,
   "metadata": {},
   "outputs": [],
   "source": []
  }
 ],
 "metadata": {
  "kernelspec": {
   "display_name": "Python 3",
   "language": "python",
   "name": "python3"
  },
  "language_info": {
   "codemirror_mode": {
    "name": "ipython",
    "version": 3
   },
   "file_extension": ".py",
   "mimetype": "text/x-python",
   "name": "python",
   "nbconvert_exporter": "python",
   "pygments_lexer": "ipython3",
   "version": "3.7.6"
  }
 },
 "nbformat": 4,
 "nbformat_minor": 4
}
