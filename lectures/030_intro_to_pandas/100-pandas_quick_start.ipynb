{
 "cells": [
  {
   "cell_type": "markdown",
   "metadata": {},
   "source": [
    "# Pandas quick start\n",
    "Pandas is a 3rd-party, open source, library used to for data science. It is perhaps the most important library for you, as a student of analytics.\n",
    "\n",
    "At a high level, Pandas provides the following functionality:\n",
    "1. Reading and writing data in various formats: csv, sql, feather and many others\n",
    "2. A set of data structures in which to store data (so higher level than lists, tuples and dictionaries)\n",
    "3. Functions to transform data in _many_ ways: individual columns, operating on multiple columns at once, aggregating in total or in by categories (aka group by), visualizing datasets, etc.\n",
    "\n",
    "Further, _upstream_ libraries, such as ones providing machine learning algorithms (scikit-learn) know how to consume Pandas data structures.\n",
    "\n",
    "Extremely helpful Pandas cheatsheet: https://pandas.pydata.org/Pandas_Cheat_Sheet.pdf (search the web, there are many more, just as useful)"
   ]
  },
  {
   "cell_type": "code",
   "execution_count": null,
   "metadata": {},
   "outputs": [],
   "source": [
    "import numpy as np # <= numpy is only used once, for the np.log function (although pandas is built on top of it)\n",
    "import pandas as pd # <= `pd` is almost always the abbreviation used for pandas\n",
    "\n",
    "import seaborn as sns # <= seaborn is not part of pandas, but very useful charting library (built on top of matplotlib)\n",
    "from bokeh.plotting import figure, show, output_file # <= another charting library, can be more interactive\n",
    "from bokeh.io import output_notebook"
   ]
  },
  {
   "cell_type": "code",
   "execution_count": null,
   "metadata": {},
   "outputs": [],
   "source": [
    "# remember, since we will be drawing some charts, we need to execute this line - because seaborn uses matplotlib\n",
    "%matplotlib inline \n",
    "\n",
    "# the following line tells pandas to avoid scietific notation\n",
    "pd.set_option('display.float_format', '{:.2f}'.format)\n",
    "\n",
    "# bokeh code to make it work in jupyter notebooks\n",
    "output_notebook()"
   ]
  },
  {
   "cell_type": "code",
   "execution_count": null,
   "metadata": {},
   "outputs": [],
   "source": [
    "%reload_ext postcell\n",
    "%postcell register"
   ]
  },
  {
   "cell_type": "markdown",
   "metadata": {},
   "source": [
    "## Quick walk-through of Pandas\n",
    "\n",
    "### Load file and take a quick look at it\n",
    "\n",
    "Note that this file is available at: https://www.kaggle.com/kumarajarshi/life-expectancy-who/home\n",
    "Go to that URL, click 'Download' which will start downloading a zip file. Load it as shown below:"
   ]
  },
  {
   "cell_type": "code",
   "execution_count": null,
   "metadata": {},
   "outputs": [],
   "source": [
    "# Read csv file\n",
    "life_df = pd.read_csv(\"../../datasets/life-expectancy/life-expectancy-who.zip2\", compression='zip')"
   ]
  },
  {
   "cell_type": "code",
   "execution_count": null,
   "metadata": {},
   "outputs": [],
   "source": [
    "life_df.head() # Look at the first 5 lines to visually inspect data"
   ]
  },
  {
   "cell_type": "code",
   "execution_count": null,
   "metadata": {},
   "outputs": [],
   "source": [
    "life_df.shape # This file has 2,938 records (rows) and 11 columns"
   ]
  },
  {
   "cell_type": "code",
   "execution_count": null,
   "metadata": {},
   "outputs": [],
   "source": [
    "life_df.columns # List of columns"
   ]
  },
  {
   "cell_type": "markdown",
   "metadata": {},
   "source": [
    "**WARNING** Notice that some columns have an extra space!"
   ]
  },
  {
   "cell_type": "code",
   "execution_count": null,
   "metadata": {},
   "outputs": [],
   "source": [
    "life_df.dtypes"
   ]
  },
  {
   "cell_type": "code",
   "execution_count": null,
   "metadata": {},
   "outputs": [],
   "source": [
    "life_df.describe() # quick summary of all the columns"
   ]
  },
  {
   "cell_type": "code",
   "execution_count": null,
   "metadata": {},
   "outputs": [],
   "source": [
    "life_df.describe().T # Flip or `transpose` the data for easier viewing"
   ]
  },
  {
   "cell_type": "markdown",
   "metadata": {},
   "source": [
    "### Visualize data"
   ]
  },
  {
   "cell_type": "code",
   "execution_count": null,
   "metadata": {},
   "outputs": [],
   "source": [
    "# Warning, this step may take a minute or two to complete\n",
    "%time sns.pairplot(life_df) # look at all variables at once - pair-plot"
   ]
  },
  {
   "cell_type": "markdown",
   "metadata": {},
   "source": [
    "The previous plot isn't very useful because there are too many columns. What if we had fewer columns? Let's just select the first few columns:"
   ]
  },
  {
   "cell_type": "code",
   "execution_count": null,
   "metadata": {},
   "outputs": [],
   "source": [
    "first_few_df = life_df[['Country', 'Year', 'Population', 'Life expectancy ', 'Adult Mortality',\n",
    "       'infant deaths', 'Alcohol', 'percentage expenditure', 'Hepatitis B',\n",
    "       'Measles ']]\n",
    "first_few_df.head()"
   ]
  },
  {
   "cell_type": "markdown",
   "metadata": {},
   "source": [
    "### Selecting columns\n",
    "\n",
    "Given dataframe `df`, you select columns by passing it a list of columns:\n",
    "\n",
    "```python\n",
    "list_of_cols = ['col1', 'col2', 'col3']\n",
    "df[list_of_cols]\n",
    "```\n",
    "\n",
    "or\n",
    "\n",
    "```python\n",
    "df[['col1', 'col2', 'col3']] # <= notice two square brackets!\n",
    "```"
   ]
  },
  {
   "cell_type": "markdown",
   "metadata": {},
   "source": [
    "**Exercise** Pick columns 'Country', 'Year' and 'Population' from dataframe 'life_df'"
   ]
  },
  {
   "cell_type": "code",
   "execution_count": null,
   "metadata": {},
   "outputs": [],
   "source": [
    "%%postcell exercise_030_a\n",
    "\n",
    "#type your answer here"
   ]
  },
  {
   "cell_type": "markdown",
   "metadata": {},
   "source": [
    "Let's also limit the data to the year 2015"
   ]
  },
  {
   "cell_type": "code",
   "execution_count": null,
   "metadata": {},
   "outputs": [],
   "source": [
    "first_few_2015_df = first_few_df[first_few_df.Year == 2015]\n",
    "first_few_2015_df"
   ]
  },
  {
   "cell_type": "code",
   "execution_count": null,
   "metadata": {},
   "outputs": [],
   "source": [
    "first_few_2015_df.shape"
   ]
  },
  {
   "cell_type": "markdown",
   "metadata": {},
   "source": [
    "### Selecting rows\n",
    "Given dataframe `df`, a criteria can be given as an expression which returns `True` for every row which should be selected\n",
    "\n",
    "```python\n",
    "mask = df.col1 < 5\n",
    "df[mask]\n",
    "```\n",
    "or\n",
    "\n",
    "```python\n",
    "df[df.col1 < 5]\n",
    "```"
   ]
  },
  {
   "cell_type": "markdown",
   "metadata": {},
   "source": [
    "**Exercise** Show rows in 'life_df' for Afghanistan"
   ]
  },
  {
   "cell_type": "code",
   "execution_count": null,
   "metadata": {},
   "outputs": [],
   "source": [
    "%%postcell exercise_030_b\n",
    "\n",
    "#type your answer here"
   ]
  },
  {
   "cell_type": "markdown",
   "metadata": {},
   "source": [
    "#### Modern Pandas suggests using `.loc[]` to select rows and columns"
   ]
  },
  {
   "cell_type": "code",
   "execution_count": null,
   "metadata": {},
   "outputs": [],
   "source": [
    "life_df.loc[life_df.Year == 2015, ['Country']].shape"
   ]
  },
  {
   "cell_type": "code",
   "execution_count": null,
   "metadata": {},
   "outputs": [],
   "source": []
  },
  {
   "cell_type": "code",
   "execution_count": null,
   "metadata": {},
   "outputs": [],
   "source": [
    "%time sns.pairplot(first_few_2015_df)"
   ]
  },
  {
   "cell_type": "code",
   "execution_count": null,
   "metadata": {},
   "outputs": [],
   "source": [
    "first_few_2015_df['Population'] # Show the column 'Population'"
   ]
  },
  {
   "cell_type": "code",
   "execution_count": null,
   "metadata": {},
   "outputs": [],
   "source": [
    "first_few_2015_df['Life expectancy '] # <= Notice the extra space!"
   ]
  },
  {
   "cell_type": "markdown",
   "metadata": {},
   "source": [
    "#### Visualize the relationship between 'Population' and 'Life expectancy '"
   ]
  },
  {
   "cell_type": "code",
   "execution_count": null,
   "metadata": {},
   "outputs": [],
   "source": [
    "sns.scatterplot(x='Population', y='Life expectancy ', data=first_few_2015_df)"
   ]
  },
  {
   "cell_type": "code",
   "execution_count": null,
   "metadata": {},
   "outputs": [],
   "source": [
    "sns.scatterplot(x='Population', y='Life expectancy ', data=first_few_2015_df[first_few_2015_df.Population < 10_500_000])"
   ]
  },
  {
   "cell_type": "code",
   "execution_count": null,
   "metadata": {},
   "outputs": [],
   "source": [
    "TOOLTIPS = [('Country', '@Country')]\n",
    "\n",
    "p = figure(title = \"Pop vs Life expectancy\", tooltips=TOOLTIPS)\n",
    "\n",
    "p.circle('Population', 'Life expectancy ', source=first_few_2015_df,fill_alpha=0.2, size=10)\n",
    "show(p)"
   ]
  },
  {
   "cell_type": "code",
   "execution_count": null,
   "metadata": {},
   "outputs": [],
   "source": [
    "first_few_2015_df['Life expectancy '].value_counts() # So what are common life expectancies?"
   ]
  },
  {
   "cell_type": "code",
   "execution_count": null,
   "metadata": {},
   "outputs": [],
   "source": [
    "min(first_few_2015_df['Life expectancy ']), max(first_few_2015_df['Life expectancy '])"
   ]
  },
  {
   "cell_type": "code",
   "execution_count": null,
   "metadata": {},
   "outputs": [],
   "source": [
    "min(first_few_2015_df['Population']), max(first_few_2015_df['Population'])"
   ]
  },
  {
   "cell_type": "code",
   "execution_count": null,
   "metadata": {},
   "outputs": [],
   "source": [
    "%timeit min(first_few_2015_df['Population']), max(first_few_2015_df['Population'])\n",
    "%timeit np.min(first_few_2015_df['Population']), np.max(first_few_2015_df['Population'])\n",
    "%timeit first_few_2015_df['Population'].min(), first_few_2015_df['Population'].max()"
   ]
  },
  {
   "cell_type": "markdown",
   "metadata": {},
   "source": [
    "Previous list of numbers is not very useful, let's plot the distribution:"
   ]
  },
  {
   "cell_type": "code",
   "execution_count": null,
   "metadata": {},
   "outputs": [],
   "source": [
    "first_few_2015_df['Life expectancy '].plot.hist()"
   ]
  },
  {
   "cell_type": "markdown",
   "metadata": {},
   "source": [
    "### Investigate infant deaths"
   ]
  },
  {
   "cell_type": "code",
   "execution_count": null,
   "metadata": {},
   "outputs": [],
   "source": [
    "first_few_2015_df['infant deaths'].plot.hist()"
   ]
  },
  {
   "cell_type": "code",
   "execution_count": null,
   "metadata": {},
   "outputs": [],
   "source": [
    "np.log(first_few_2015_df['infant deaths']+1).plot.hist() # just to \"zoom\" in quickly - dirty hack"
   ]
  },
  {
   "cell_type": "code",
   "execution_count": null,
   "metadata": {},
   "outputs": [],
   "source": [
    "#There are some cases where infant deaths are over 200???\n",
    "first_few_2015_df[first_few_2015_df['infant deaths'] > 200]"
   ]
  },
  {
   "cell_type": "markdown",
   "metadata": {},
   "source": [
    "The numbers for infant deaths are _so_ high that we need to go back to the data source and double check our understanding.\n",
    "\n",
    "**Exercise** Check the exact definition of 'infant deaths.'"
   ]
  },
  {
   "cell_type": "markdown",
   "metadata": {},
   "source": [
    "The 'Measles' value is defined as 'number of reported cases per 1,000 population.' Let's find the actual number of measles per country (in 2015):"
   ]
  },
  {
   "cell_type": "code",
   "execution_count": null,
   "metadata": {},
   "outputs": [],
   "source": [
    "first_few_2015_df['Measles'] * first_few_2015_df['Population'] # What happened? (hint, extra space)\n",
    "# Why did you get the error and have you seen that error before? "
   ]
  },
  {
   "cell_type": "code",
   "execution_count": null,
   "metadata": {},
   "outputs": [],
   "source": [
    "# In the calculation below, notice that we just added the two vectors, as if they were numbers...no loops!!\n",
    "first_few_2015_df['Measles '] * first_few_2015_df['Population']"
   ]
  },
  {
   "cell_type": "markdown",
   "metadata": {},
   "source": [
    "Something _very_ interesting happened above. We added two lists or vectors of numbers, without using a loop! Pandas and numpy (and matrix math) works this way.\n",
    "\n",
    "Let's add this column back to our data frame:"
   ]
  },
  {
   "cell_type": "code",
   "execution_count": null,
   "metadata": {},
   "outputs": [],
   "source": [
    "# We are creating a new column!\n",
    "first_few_2015_df.loc[:, 'Total Measles'] = first_few_2015_df['Measles '] * first_few_2015_df['Population']"
   ]
  },
  {
   "cell_type": "markdown",
   "metadata": {},
   "source": [
    "What's with that warning?\n",
    "Turns out, `first_few_2015_df` is not the original dataframe. It is a subsetted view. If we update this subset, what happens to the remaining rows and columns? Better to modify the original dataframe."
   ]
  },
  {
   "cell_type": "code",
   "execution_count": null,
   "metadata": {},
   "outputs": [],
   "source": [
    "life_df.loc[:, 'Total Measles'] = life_df['Measles '] * life_df['Population']"
   ]
  },
  {
   "cell_type": "code",
   "execution_count": null,
   "metadata": {},
   "outputs": [],
   "source": [
    "first_few_2015_df"
   ]
  },
  {
   "cell_type": "markdown",
   "metadata": {},
   "source": [
    "### Cheap version of Pandas\n",
    "\n",
    "Let's try to make a very tiny, very silly version of Pands ourselves.\n",
    "\n",
    "The first implementation is just a dictionary with column names as keys and lists of data as values. Here is an example:"
   ]
  },
  {
   "cell_type": "code",
   "execution_count": null,
   "metadata": {},
   "outputs": [],
   "source": [
    "import random"
   ]
  },
  {
   "cell_type": "code",
   "execution_count": null,
   "metadata": {},
   "outputs": [],
   "source": [
    "df = {\n",
    "   \"col1\": [random.random() for x in range(10)]\n",
    " , \"col2\": [random.random() for x in range(10)]\n",
    " , \"col3\": [random.random() for x in range(10)]\n",
    "}\n",
    "df"
   ]
  },
  {
   "cell_type": "code",
   "execution_count": null,
   "metadata": {},
   "outputs": [],
   "source": [
    "df['col1']"
   ]
  },
  {
   "cell_type": "markdown",
   "metadata": {},
   "source": [
    "#### Write a function to read csv files"
   ]
  },
  {
   "cell_type": "code",
   "execution_count": null,
   "metadata": {},
   "outputs": [],
   "source": [
    "import collections\n",
    "\n",
    "def create_df_from_csv(file):\n",
    "    \n",
    "    num_of_columns = None\n",
    "    header = None\n",
    "    df = collections.defaultdict(list)\n",
    "    \n",
    "    with open(file, \"r\") as f:\n",
    "        for line in f:\n",
    "            tokens = line.split(\",\") # recall that this is not the best way to parse csv files (python has a csv library built-in)\n",
    "            if not num_of_columns: \n",
    "                num_of_columns = len(tokens) # count the number of columns in the first row\n",
    "                header = [t.strip() for t in tokens] # assumes the first row will always contain header\n",
    "            else:\n",
    "                for idx, col in enumerate(header): df[col].append(tokens[idx].strip()) # assumes all rows have equal number of columns\n",
    "    return df"
   ]
  },
  {
   "cell_type": "markdown",
   "metadata": {},
   "source": [
    "For the next step, create a 10 line version of the file in datasets/life-expectancy, otherwise there will be too much data for you to see the structure of the dataframe (but the code should work, either way)"
   ]
  },
  {
   "cell_type": "code",
   "execution_count": null,
   "metadata": {},
   "outputs": [],
   "source": [
    "le_df = create_df_from_csv(\"../../datasets/life-expectancy/life_expectancy_10.csv\")\n",
    "le_df"
   ]
  },
  {
   "cell_type": "code",
   "execution_count": null,
   "metadata": {},
   "outputs": [],
   "source": [
    "le_df['Schooling']"
   ]
  },
  {
   "cell_type": "markdown",
   "metadata": {},
   "source": [
    "**Exercise** The function above is not _production ready._ What are some ways things can go wrong?\n",
    "**Exercise** How will classes combine the function (verb) and the dataframe data structure (noun)?"
   ]
  },
  {
   "cell_type": "code",
   "execution_count": null,
   "metadata": {},
   "outputs": [],
   "source": []
  }
 ],
 "metadata": {
  "kernelspec": {
   "display_name": "Python 3",
   "language": "python",
   "name": "python3"
  },
  "language_info": {
   "codemirror_mode": {
    "name": "ipython",
    "version": 3
   },
   "file_extension": ".py",
   "mimetype": "text/x-python",
   "name": "python",
   "nbconvert_exporter": "python",
   "pygments_lexer": "ipython3",
   "version": "3.8.5"
  }
 },
 "nbformat": 4,
 "nbformat_minor": 4
}
