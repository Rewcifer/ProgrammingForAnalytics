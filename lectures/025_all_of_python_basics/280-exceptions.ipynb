{
 "cells": [
  {
   "cell_type": "code",
   "execution_count": 1,
   "id": "99f38927-93bd-4072-b20e-8153f9666605",
   "metadata": {
    "tags": []
   },
   "outputs": [],
   "source": [
    "import os"
   ]
  },
  {
   "cell_type": "markdown",
   "id": "2c43876f-854a-4ed6-af30-c37152e1b16e",
   "metadata": {},
   "source": [
    "# Python exceptions"
   ]
  },
  {
   "cell_type": "markdown",
   "id": "8a92b9a0-76bb-4bdd-acef-b0ef6fdb5960",
   "metadata": {},
   "source": [
    "Many modern langauges such as Python, Java, C# include an error handling mechanism called exceptions, and supporting syntax called the \"try/catch\" or \"try/except\" block.\n",
    "\n",
    "\"Exceptions\" are named very appropriately, they indicate that something unexpected or _exceptional_ has taken place inside a function. In other words, something is wrong!\n",
    "\n",
    "Take a look at this function:"
   ]
  },
  {
   "cell_type": "markdown",
   "id": "c28fe7c4-f4d9-4b4b-b7b1-e8fe1896ae0e",
   "metadata": {},
   "source": [
    "```python\n",
    "def read_file(filename):\n",
    "    f = open(filename) <== What if the file doesn't exist?? Will the whole program die?\n",
    "    return f.readlines()\n",
    "```\n",
    "\n",
    "In languages without exceptions, you might do defensive programming as such:\n",
    "```python\n",
    "def read_file(filename):\n",
    "    \n",
    "    if not os.path.isfile(filename):\n",
    "        return -1 <== Negative code indicates that this function did not execute correctly\n",
    "    \n",
    "    f = open(filename)\n",
    "    return f.readlines()\n",
    "```\n",
    "\n",
    "Exceptions allow us to manage errors in a safer and more rigorous manner:"
   ]
  },
  {
   "cell_type": "code",
   "execution_count": 2,
   "id": "2d8d4a5a-43aa-4f1a-b89d-02575bdb02be",
   "metadata": {
    "tags": []
   },
   "outputs": [],
   "source": [
    "def read_file(filename):\n",
    "    try:\n",
    "        f = open(filename)\n",
    "        return f.readlines()\n",
    "    except:\n",
    "        print(\"Horrible error, the file wasn't found\")\n",
    "        return \"\""
   ]
  },
  {
   "cell_type": "code",
   "execution_count": 3,
   "id": "998fecdf-bb30-4a0e-bf4a-cd0c69e6f567",
   "metadata": {
    "tags": []
   },
   "outputs": [
    {
     "name": "stdout",
     "output_type": "stream",
     "text": [
      "Horrible error, the file wasn't found\n"
     ]
    },
    {
     "data": {
      "text/plain": [
       "''"
      ]
     },
     "execution_count": 3,
     "metadata": {},
     "output_type": "execute_result"
    }
   ],
   "source": [
    "read_file(\"nofile.txt\")"
   ]
  },
  {
   "cell_type": "markdown",
   "id": "e8ee6e5c-cc83-4294-91cd-9387141a636a",
   "metadata": {},
   "source": [
    "Exceptions allow us to catch specific error scenarios:"
   ]
  },
  {
   "cell_type": "code",
   "execution_count": 9,
   "id": "dcadea28-99b5-437a-aca0-82678699583d",
   "metadata": {
    "tags": []
   },
   "outputs": [],
   "source": [
    "def read_file2(filename):\n",
    "    try:\n",
    "        f = open(filename)\n",
    "        return f.readlines()\n",
    "    except FileNotFoundError:\n",
    "        print(\"Horrible error, the file wasn't found\")\n",
    "        return \"\"\n",
    "    except PermissionError:\n",
    "        print(\"The file exists but you do not have access to access it\")\n",
    "        return \"\""
   ]
  },
  {
   "cell_type": "code",
   "execution_count": 10,
   "id": "c437742b-4f9b-4cde-8465-c97039bfdcf3",
   "metadata": {
    "tags": []
   },
   "outputs": [
    {
     "name": "stdout",
     "output_type": "stream",
     "text": [
      "Horrible error, the file wasn't found\n"
     ]
    },
    {
     "data": {
      "text/plain": [
       "''"
      ]
     },
     "execution_count": 10,
     "metadata": {},
     "output_type": "execute_result"
    }
   ],
   "source": [
    "read_file2('nofile.txt')"
   ]
  },
  {
   "cell_type": "markdown",
   "id": "42f91c28-26bd-4394-8559-07b7adde70bd",
   "metadata": {},
   "source": [
    "**Note** Here is an unexpected pro-tip, you generally should not \"catch\" exceptions. For example, if the file exist, you can't do anything about it anyway, just let the program crash!"
   ]
  },
  {
   "cell_type": "code",
   "execution_count": 4,
   "id": "944ef106-93d6-4dfc-afd9-ee9a983bdc00",
   "metadata": {
    "tags": []
   },
   "outputs": [],
   "source": [
    "def read_file3(filename):\n",
    "    f = open(filename)\n",
    "    return f.readlines()"
   ]
  },
  {
   "cell_type": "code",
   "execution_count": 6,
   "id": "e619994f-e205-4590-b3fb-0adaf2850d65",
   "metadata": {
    "tags": []
   },
   "outputs": [
    {
     "ename": "FileNotFoundError",
     "evalue": "[Errno 2] No such file or directory: 'nofile.txt'",
     "output_type": "error",
     "traceback": [
      "\u001b[1;31m---------------------------------------------------------------------------\u001b[0m",
      "\u001b[1;31mFileNotFoundError\u001b[0m                         Traceback (most recent call last)",
      "Cell \u001b[1;32mIn[6], line 1\u001b[0m\n\u001b[1;32m----> 1\u001b[0m read_file3(\u001b[38;5;124m'\u001b[39m\u001b[38;5;124mnofile.txt\u001b[39m\u001b[38;5;124m'\u001b[39m)\n",
      "Cell \u001b[1;32mIn[4], line 2\u001b[0m, in \u001b[0;36mread_file3\u001b[1;34m(filename)\u001b[0m\n\u001b[0;32m      1\u001b[0m \u001b[38;5;28;01mdef\u001b[39;00m \u001b[38;5;21mread_file3\u001b[39m(filename):\n\u001b[1;32m----> 2\u001b[0m     f \u001b[38;5;241m=\u001b[39m \u001b[38;5;28mopen\u001b[39m(filename)\n\u001b[0;32m      3\u001b[0m     \u001b[38;5;28;01mreturn\u001b[39;00m f\u001b[38;5;241m.\u001b[39mreadlines()\n",
      "File \u001b[1;32m~\\anaconda3\\Lib\\site-packages\\IPython\\core\\interactiveshell.py:286\u001b[0m, in \u001b[0;36m_modified_open\u001b[1;34m(file, *args, **kwargs)\u001b[0m\n\u001b[0;32m    279\u001b[0m \u001b[38;5;28;01mif\u001b[39;00m file \u001b[38;5;129;01min\u001b[39;00m {\u001b[38;5;241m0\u001b[39m, \u001b[38;5;241m1\u001b[39m, \u001b[38;5;241m2\u001b[39m}:\n\u001b[0;32m    280\u001b[0m     \u001b[38;5;28;01mraise\u001b[39;00m \u001b[38;5;167;01mValueError\u001b[39;00m(\n\u001b[0;32m    281\u001b[0m         \u001b[38;5;124mf\u001b[39m\u001b[38;5;124m\"\u001b[39m\u001b[38;5;124mIPython won\u001b[39m\u001b[38;5;124m'\u001b[39m\u001b[38;5;124mt let you open fd=\u001b[39m\u001b[38;5;132;01m{\u001b[39;00mfile\u001b[38;5;132;01m}\u001b[39;00m\u001b[38;5;124m by default \u001b[39m\u001b[38;5;124m\"\u001b[39m\n\u001b[0;32m    282\u001b[0m         \u001b[38;5;124m\"\u001b[39m\u001b[38;5;124mas it is likely to crash IPython. If you know what you are doing, \u001b[39m\u001b[38;5;124m\"\u001b[39m\n\u001b[0;32m    283\u001b[0m         \u001b[38;5;124m\"\u001b[39m\u001b[38;5;124myou can use builtins\u001b[39m\u001b[38;5;124m'\u001b[39m\u001b[38;5;124m open.\u001b[39m\u001b[38;5;124m\"\u001b[39m\n\u001b[0;32m    284\u001b[0m     )\n\u001b[1;32m--> 286\u001b[0m \u001b[38;5;28;01mreturn\u001b[39;00m io_open(file, \u001b[38;5;241m*\u001b[39margs, \u001b[38;5;241m*\u001b[39m\u001b[38;5;241m*\u001b[39mkwargs)\n",
      "\u001b[1;31mFileNotFoundError\u001b[0m: [Errno 2] No such file or directory: 'nofile.txt'"
     ]
    }
   ],
   "source": [
    "read_file3('nofile.txt')"
   ]
  },
  {
   "cell_type": "markdown",
   "id": "d288d1be-6cb3-47dc-bfb0-d6dc3cfb9834",
   "metadata": {},
   "source": [
    "### try...except...else\n",
    "Python provides an `else` block, which executes if NO exception was raised"
   ]
  },
  {
   "cell_type": "code",
   "execution_count": 28,
   "id": "aecf003e-fcfe-4690-ab7f-eac0ae03e48d",
   "metadata": {
    "tags": []
   },
   "outputs": [],
   "source": [
    "def read_file4(filename):\n",
    "    try:\n",
    "        f = open(filename)\n",
    "        rslt= f.readlines()\n",
    "    except FileNotFoundError:\n",
    "        print(\"Horrible error, the file wasn't found\")\n",
    "        return \"\"\n",
    "    except PermissionError:\n",
    "        print(\"The file exists but you do not have access to access it\")\n",
    "        return \"\"\n",
    "    else:\n",
    "        print(\"File read correctly\")\n",
    "    return rslt"
   ]
  },
  {
   "cell_type": "code",
   "execution_count": 29,
   "id": "07cf56c5-720f-4243-b109-0a48ac03d9ed",
   "metadata": {
    "tags": []
   },
   "outputs": [
    {
     "name": "stdout",
     "output_type": "stream",
     "text": [
      "File read correctly\n"
     ]
    },
    {
     "data": {
      "text/plain": [
       "['{\\n',\n",
       " '    \"class_id\": \"2024_quarter1_saturday_advancedpythonfords\",\\n',\n",
       " '    \"instructor_id\": \"doJIH2jibYWOOJyGm6zsDNe93722\",\\n',\n",
       " '    \"should_send_to_server\": \"true\",\\n',\n",
       " '    \"student_id\": \"Shahbaz_Chaudhary\",\\n',\n",
       " '    \"url\": \"https://postcell.io/post_cell\"\\n',\n",
       " '}']"
      ]
     },
     "execution_count": 29,
     "metadata": {},
     "output_type": "execute_result"
    }
   ],
   "source": [
    "read_file4('../../postcell.conf')"
   ]
  },
  {
   "cell_type": "markdown",
   "id": "0e50b0cc-94e0-4a1f-858d-ba41f7356515",
   "metadata": {},
   "source": [
    "Realistically there aren't very many useases for the `try ... else` clause. Most languages which provide exception handling don't provide a `try/else` clause. "
   ]
  },
  {
   "cell_type": "markdown",
   "id": "78ba4129-b7b9-4d53-9868-c65b1f6190c0",
   "metadata": {},
   "source": [
    "### try...except...finally\n",
    "Unlike the `try/else` clause, the `try/finally` clause is extremely important. It is sometimes necessary to cleanup resource which were acquired during a try block."
   ]
  },
  {
   "cell_type": "code",
   "execution_count": 36,
   "id": "98e8be89-51ec-41ba-8a2f-78765ca2210a",
   "metadata": {
    "tags": []
   },
   "outputs": [],
   "source": [
    "def read_files5(file1, file2):\n",
    "    try:\n",
    "        f1, f2 = None, None\n",
    "        f1 = open(file1)\n",
    "        f2 = open(file2)\n",
    "    except FileNotFoundError:\n",
    "        print(\"Horrible error, the file wasn't found\")\n",
    "    finally:\n",
    "        print(\"Closing open files\")\n",
    "        if f1: f1.close()\n",
    "        if f2: f2.close()"
   ]
  },
  {
   "cell_type": "markdown",
   "id": "d872c856-c351-432d-bf9f-929a903e06b1",
   "metadata": {},
   "source": [
    "Notice which part of the try/except/finally block gets called if an exception is raised or isn't raised"
   ]
  },
  {
   "cell_type": "code",
   "execution_count": 37,
   "id": "4277aad0-21ac-43f0-ad07-8f6b8a51100d",
   "metadata": {
    "tags": []
   },
   "outputs": [
    {
     "name": "stdout",
     "output_type": "stream",
     "text": [
      "Horrible error, the file wasn't found\n",
      "Closing open files\n"
     ]
    }
   ],
   "source": [
    "read_files5('nofile.txt', 'nofile.csv')"
   ]
  },
  {
   "cell_type": "code",
   "execution_count": 38,
   "id": "d664b5d0-098e-4a0c-a7d8-fb5a95ba1e13",
   "metadata": {
    "tags": []
   },
   "outputs": [
    {
     "name": "stdout",
     "output_type": "stream",
     "text": [
      "Closing open files\n"
     ]
    }
   ],
   "source": [
    "read_files5('../../postcell.conf', '../../postcell.conf')"
   ]
  },
  {
   "cell_type": "markdown",
   "id": "3db07acb-34ac-4a9e-8e00-c6b82b32afc3",
   "metadata": {},
   "source": [
    "### Raise exceptions\n",
    "\n",
    "If you are writing a function or a full library, you may have to raise exceptions yourself. The syntax is very simple:"
   ]
  },
  {
   "cell_type": "code",
   "execution_count": 11,
   "id": "5fc16292-69be-4674-aa75-78b848ff73ad",
   "metadata": {
    "tags": []
   },
   "outputs": [],
   "source": [
    "def get_lottery_number(password):\n",
    "    LOTTERY_NUM = 42\n",
    "    if password == 123:\n",
    "        return LOTTERY_NUM\n",
    "    else:\n",
    "        raise PermissionError(\"Bad password :( \")"
   ]
  },
  {
   "cell_type": "code",
   "execution_count": 12,
   "id": "7bcbb429-4cef-4ae0-80cf-dfbe93a1d211",
   "metadata": {
    "tags": []
   },
   "outputs": [
    {
     "ename": "PermissionError",
     "evalue": "Bad password :( ",
     "output_type": "error",
     "traceback": [
      "\u001b[1;31m---------------------------------------------------------------------------\u001b[0m",
      "\u001b[1;31mPermissionError\u001b[0m                           Traceback (most recent call last)",
      "Cell \u001b[1;32mIn[12], line 1\u001b[0m\n\u001b[1;32m----> 1\u001b[0m get_lottery_number(\u001b[38;5;241m456\u001b[39m)\n",
      "Cell \u001b[1;32mIn[11], line 6\u001b[0m, in \u001b[0;36mget_lottery_number\u001b[1;34m(password)\u001b[0m\n\u001b[0;32m      4\u001b[0m     \u001b[38;5;28;01mreturn\u001b[39;00m LOTTERY_NUM\n\u001b[0;32m      5\u001b[0m \u001b[38;5;28;01melse\u001b[39;00m:\n\u001b[1;32m----> 6\u001b[0m     \u001b[38;5;28;01mraise\u001b[39;00m \u001b[38;5;167;01mPermissionError\u001b[39;00m(\u001b[38;5;124m\"\u001b[39m\u001b[38;5;124mBad password :( \u001b[39m\u001b[38;5;124m\"\u001b[39m)\n",
      "\u001b[1;31mPermissionError\u001b[0m: Bad password :( "
     ]
    }
   ],
   "source": [
    "get_lottery_number(456)"
   ]
  },
  {
   "cell_type": "markdown",
   "id": "3a621e2c-37d6-4995-8768-aea1a402aba0",
   "metadata": {},
   "source": [
    "### Custom exceptions\n",
    "Creating custom exceptions is the domain of software engineers. As a data scientist, you should never have to create your own exceptions. If you even do end up writing a library, the syntax is as follows:"
   ]
  },
  {
   "cell_type": "code",
   "execution_count": 17,
   "id": "a99d8687-94a5-43e6-b5bb-320a650f1b27",
   "metadata": {
    "tags": []
   },
   "outputs": [],
   "source": [
    "class ConstraintViolated(Exception):\n",
    "    def __init__(self, message):\n",
    "        super().__init__(message)"
   ]
  },
  {
   "cell_type": "code",
   "execution_count": 21,
   "id": "d806e3b2-c409-4926-9e8e-b8f71868bb87",
   "metadata": {
    "tags": []
   },
   "outputs": [],
   "source": [
    "class Professor():\n",
    "    def __init__(self, name, department, salary):\n",
    "        self.name = name\n",
    "        self.department = department\n",
    "        self.salary = salary\n",
    "        \n",
    "        if salary == 0:\n",
    "            raise ConstraintViolated(\"Professor salary must not be zero dollar\")"
   ]
  },
  {
   "cell_type": "code",
   "execution_count": 22,
   "id": "ba717663-1a7f-435f-8ce6-7fef68eaca78",
   "metadata": {
    "tags": []
   },
   "outputs": [
    {
     "ename": "ConstraintViolated",
     "evalue": "Professor salary must not be zero dollar",
     "output_type": "error",
     "traceback": [
      "\u001b[1;31m---------------------------------------------------------------------------\u001b[0m",
      "\u001b[1;31mConstraintViolated\u001b[0m                        Traceback (most recent call last)",
      "Cell \u001b[1;32mIn[22], line 1\u001b[0m\n\u001b[1;32m----> 1\u001b[0m Professor(\u001b[38;5;124m\"\u001b[39m\u001b[38;5;124mShahbaz\u001b[39m\u001b[38;5;124m\"\u001b[39m, \u001b[38;5;124m\"\u001b[39m\u001b[38;5;124mPSD\u001b[39m\u001b[38;5;124m\"\u001b[39m, \u001b[38;5;241m0\u001b[39m)\n",
      "Cell \u001b[1;32mIn[21], line 8\u001b[0m, in \u001b[0;36mProfessor.__init__\u001b[1;34m(self, name, department, salary)\u001b[0m\n\u001b[0;32m      5\u001b[0m \u001b[38;5;28mself\u001b[39m\u001b[38;5;241m.\u001b[39msalary \u001b[38;5;241m=\u001b[39m salary\n\u001b[0;32m      7\u001b[0m \u001b[38;5;28;01mif\u001b[39;00m salary \u001b[38;5;241m==\u001b[39m \u001b[38;5;241m0\u001b[39m:\n\u001b[1;32m----> 8\u001b[0m     \u001b[38;5;28;01mraise\u001b[39;00m ConstraintViolated(\u001b[38;5;124m\"\u001b[39m\u001b[38;5;124mProfessor salary must not be zero dollar\u001b[39m\u001b[38;5;124m\"\u001b[39m)\n",
      "\u001b[1;31mConstraintViolated\u001b[0m: Professor salary must not be zero dollar"
     ]
    }
   ],
   "source": [
    "Professor(\"Shahbaz\", \"PSD\", 0)"
   ]
  },
  {
   "cell_type": "markdown",
   "id": "b8371376-c047-4628-a899-4f4623720c42",
   "metadata": {},
   "source": [
    "### But why do we need exceptions?\n",
    "\n",
    "In the example, the class simply won't be created if an exception is thrown. A less obvious example is why you would raise an exception inside a function.\n",
    "\n",
    "For example, why does this cause an exception:"
   ]
  },
  {
   "cell_type": "code",
   "execution_count": 24,
   "id": "8c57bd56-7729-4e28-bafe-878fd5fd5132",
   "metadata": {
    "tags": []
   },
   "outputs": [
    {
     "ename": "FileNotFoundError",
     "evalue": "[Errno 2] No such file or directory: 'nofile.txt'",
     "output_type": "error",
     "traceback": [
      "\u001b[1;31m---------------------------------------------------------------------------\u001b[0m",
      "\u001b[1;31mFileNotFoundError\u001b[0m                         Traceback (most recent call last)",
      "Cell \u001b[1;32mIn[24], line 1\u001b[0m\n\u001b[1;32m----> 1\u001b[0m \u001b[38;5;28mopen\u001b[39m(\u001b[38;5;124m'\u001b[39m\u001b[38;5;124mnofile.txt\u001b[39m\u001b[38;5;124m'\u001b[39m)\n",
      "File \u001b[1;32m~\\anaconda3\\Lib\\site-packages\\IPython\\core\\interactiveshell.py:286\u001b[0m, in \u001b[0;36m_modified_open\u001b[1;34m(file, *args, **kwargs)\u001b[0m\n\u001b[0;32m    279\u001b[0m \u001b[38;5;28;01mif\u001b[39;00m file \u001b[38;5;129;01min\u001b[39;00m {\u001b[38;5;241m0\u001b[39m, \u001b[38;5;241m1\u001b[39m, \u001b[38;5;241m2\u001b[39m}:\n\u001b[0;32m    280\u001b[0m     \u001b[38;5;28;01mraise\u001b[39;00m \u001b[38;5;167;01mValueError\u001b[39;00m(\n\u001b[0;32m    281\u001b[0m         \u001b[38;5;124mf\u001b[39m\u001b[38;5;124m\"\u001b[39m\u001b[38;5;124mIPython won\u001b[39m\u001b[38;5;124m'\u001b[39m\u001b[38;5;124mt let you open fd=\u001b[39m\u001b[38;5;132;01m{\u001b[39;00mfile\u001b[38;5;132;01m}\u001b[39;00m\u001b[38;5;124m by default \u001b[39m\u001b[38;5;124m\"\u001b[39m\n\u001b[0;32m    282\u001b[0m         \u001b[38;5;124m\"\u001b[39m\u001b[38;5;124mas it is likely to crash IPython. If you know what you are doing, \u001b[39m\u001b[38;5;124m\"\u001b[39m\n\u001b[0;32m    283\u001b[0m         \u001b[38;5;124m\"\u001b[39m\u001b[38;5;124myou can use builtins\u001b[39m\u001b[38;5;124m'\u001b[39m\u001b[38;5;124m open.\u001b[39m\u001b[38;5;124m\"\u001b[39m\n\u001b[0;32m    284\u001b[0m     )\n\u001b[1;32m--> 286\u001b[0m \u001b[38;5;28;01mreturn\u001b[39;00m io_open(file, \u001b[38;5;241m*\u001b[39margs, \u001b[38;5;241m*\u001b[39m\u001b[38;5;241m*\u001b[39mkwargs)\n",
      "\u001b[1;31mFileNotFoundError\u001b[0m: [Errno 2] No such file or directory: 'nofile.txt'"
     ]
    }
   ],
   "source": [
    "open('nofile.txt')"
   ]
  },
  {
   "cell_type": "markdown",
   "id": "7607cbf9-3375-47d0-b132-d69bdf941afa",
   "metadata": {},
   "source": [
    "Why not just return an empty string or None (as some functions do).\n",
    "The reason has to do with how to _think_ about these functions. If the `open` function returned an empty string, does that mean the file was empty or that the file didn't exist?\n",
    "\n",
    "If that function returned None, that can be an indicator that an error occured, but wouldn't we want to know more fine-grained detail about the cause of the error: the file doesn't exist or the user doesn't have access to it?"
   ]
  },
  {
   "cell_type": "markdown",
   "id": "1a2d4894-bb1a-457d-9c0c-48880aa6e88f",
   "metadata": {},
   "source": [
    "### Checked exceptions (which Python doesn't have)\n",
    "\n",
    "Python is a dynamic language, which means it does not have strict type checking. You can simply assign a value to a variable `gpa = 3.5`, without needing to give an explicit type. Some languages not only requier types, `double gpa = 3.5`, they even have strict exception checking!\n",
    "\n",
    "For example, if Python was like Java, the following code would not work:\n",
    "\n",
    "```python\n",
    "def count_lines(filename):\n",
    "    file = open(filename)\n",
    "    return len(file.readlines())\n",
    "```\n",
    "\n",
    "Java, at compile time, would recognize that the `open` command can throw a `FileNotFound` exception. It would force us to acknowledge or handle the exception. New programmers might do something like this:\n",
    "\n",
    "```python\n",
    "def count_lines(filename):\n",
    "    try:\n",
    "        file = open(filename)\n",
    "    except FileNotFoundError:\n",
    "        print(f\"I guess this file {filename} was not found\")\n",
    "        \n",
    "    return len(file.readlines())\n",
    "```\n",
    "\n",
    "More seasoned developers will know that your funtion should not simply hide exceptions. If you don't want to handle the exception, then you should let the calling function handle it:\n",
    "\n",
    "```python\n",
    "def count_lines(filename) throws FileNotFoundError: # <= Not actual Python syntax\n",
    "    file = open(filename)\n",
    "    return len(file.readlines())\n",
    "```\n",
    "\n",
    "The `throws` clause above is from Java and not actually part of Python. Being force to either handle the exception or two explicitely \"throw\" it and let the caller handle is called \"Checked Exceptions.\" Most of the internet seems to hate this feature although the author of these lecture loves them. If you are using a typed language, the ability to know which exceptions can be raise by any number of lines in a function can be extremely helpful."
   ]
  },
  {
   "cell_type": "code",
   "execution_count": null,
   "id": "6299c56e-5a12-42e7-bcfb-fc6d42d86fc2",
   "metadata": {},
   "outputs": [],
   "source": []
  }
 ],
 "metadata": {
  "kernelspec": {
   "display_name": "Python 3 (ipykernel)",
   "language": "python",
   "name": "python3"
  },
  "language_info": {
   "codemirror_mode": {
    "name": "ipython",
    "version": 3
   },
   "file_extension": ".py",
   "mimetype": "text/x-python",
   "name": "python",
   "nbconvert_exporter": "python",
   "pygments_lexer": "ipython3",
   "version": "3.11.5"
  }
 },
 "nbformat": 4,
 "nbformat_minor": 5
}
