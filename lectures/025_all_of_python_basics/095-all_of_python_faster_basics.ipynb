{
 "cells": [
  {
   "cell_type": "code",
   "execution_count": null,
   "id": "458a24a0-1958-4e24-b20c-c8dbb13f45f3",
   "metadata": {},
   "outputs": [],
   "source": [
    "%reload_ext postcell\n",
    "%postcell register"
   ]
  },
  {
   "cell_type": "code",
   "execution_count": 37,
   "id": "43ded774-1e79-4f8b-829f-af8156a2a390",
   "metadata": {},
   "outputs": [],
   "source": [
    "from IPython.display import HTML, display\n",
    "import math"
   ]
  },
  {
   "cell_type": "code",
   "execution_count": 38,
   "id": "b8398e8e-ae1a-4ea1-992a-388d4919ee1f",
   "metadata": {
    "scrolled": true,
    "tags": []
   },
   "outputs": [],
   "source": [
    "def show_methods(e):\n",
    "    return render_list([m for m in dir(e) if '__' not in m])\n",
    "    \n",
    "def render_list(l):\n",
    "    style = 'list-style-type:none;display:inline-block;margin:0px 1%;'\n",
    "    return HTML('<ul\">' + ''.join([f'<li style=\"{style}\"><b>{m}</b></li>' for m in l]) + '</ul>') "
   ]
  },
  {
   "cell_type": "markdown",
   "id": "71cd8d0e-1161-40ce-bbdf-85a407925f89",
   "metadata": {},
   "source": [
    "# All of Python - The Basics For Experienced Programmers"
   ]
  },
  {
   "cell_type": "markdown",
   "id": "e89b4f6f-f8dc-40a4-9c95-f57a35ac4958",
   "metadata": {},
   "source": [
    "This notebook is a shorter version of `100_all_of_python_basics.ipynb`. That notebook contains an overview of Python for complete newbies. This notebook is more apprproate for people who have prior programming experience."
   ]
  },
  {
   "cell_type": "markdown",
   "id": "ff062ed8-08ad-43aa-b9ea-a990c2c2c4d7",
   "metadata": {},
   "source": [
    "### Numbers"
   ]
  },
  {
   "cell_type": "markdown",
   "id": "a566fef0-552d-4348-9f86-05e26f503ad1",
   "metadata": {},
   "source": [
    "Python has integers, floating points and complex numbers. Like any other language, it has standard operators (with two exceptions):"
   ]
  },
  {
   "cell_type": "markdown",
   "id": "f1bfae6f-617a-4578-8475-9848ce88cb09",
   "metadata": {},
   "source": [
    "| | |\n",
    "|---|---|\n",
    "|+| addition|\n",
    "|-| subtraction|\n",
    "|*| multiplication|\n",
    "|/| division|\n",
    "|//| safe or integer division |\n",
    "|**| exponentiation (not '^')|\n",
    "|%| modulus|\n"
   ]
  },
  {
   "cell_type": "markdown",
   "id": "0994ea1d-4255-462a-8329-1a5949efbbbf",
   "metadata": {},
   "source": [
    "**Exercise** Check the type of 100"
   ]
  },
  {
   "cell_type": "code",
   "execution_count": 1,
   "id": "56f4e385-d515-4915-ab38-81841b6fa73d",
   "metadata": {},
   "outputs": [
    {
     "data": {
      "text/plain": [
       "int"
      ]
     },
     "execution_count": 1,
     "metadata": {},
     "output_type": "execute_result"
    }
   ],
   "source": [
    "type(100)"
   ]
  },
  {
   "cell_type": "code",
   "execution_count": 3,
   "id": "91e9db17-ff34-4beb-8ac0-53267d6c39ef",
   "metadata": {},
   "outputs": [
    {
     "data": {
      "text/plain": [
       "float"
      ]
     },
     "execution_count": 3,
     "metadata": {},
     "output_type": "execute_result"
    }
   ],
   "source": [
    "type(3.14)"
   ]
  },
  {
   "cell_type": "code",
   "execution_count": null,
   "id": "eae5cdcb-b328-48cf-81b6-2f0bb48e0fbf",
   "metadata": {},
   "outputs": [],
   "source": [
    "#%%postcell exercise_025_095_a\n",
    "\n",
    "#type your answer here"
   ]
  },
  {
   "cell_type": "markdown",
   "id": "841a33ca-6fec-428c-83c8-944dc1907124",
   "metadata": {},
   "source": [
    "**Exercise** Check the type of 100.0"
   ]
  },
  {
   "cell_type": "code",
   "execution_count": null,
   "id": "6c84df5b-837a-4649-b156-5dbec1de1776",
   "metadata": {},
   "outputs": [],
   "source": [
    "%%postcell exercise_025_095_b\n",
    "\n",
    "#type your answer here"
   ]
  },
  {
   "cell_type": "markdown",
   "id": "6b6763e9-c10d-466e-99f7-4b9a006ab173",
   "metadata": {},
   "source": [
    "**Exercise** Raise 2 to the power of 5"
   ]
  },
  {
   "cell_type": "code",
   "execution_count": null,
   "id": "d47c5136-f5b6-4b7a-8cbe-57af78515b89",
   "metadata": {},
   "outputs": [],
   "source": [
    "%%postcell exercise_025_095_c\n",
    "\n",
    "#type your answer here"
   ]
  },
  {
   "cell_type": "markdown",
   "id": "76940290-ba1a-4a4c-a183-729f4ca0570b",
   "metadata": {},
   "source": [
    "### String"
   ]
  },
  {
   "cell_type": "markdown",
   "id": "b4c8983e-eba5-4d94-adac-9c5f3a505ea4",
   "metadata": {},
   "source": [
    "Python's strings are like any other langauge, although the syntax can be more flexible. "
   ]
  },
  {
   "cell_type": "markdown",
   "id": "1fd35b88-d670-45c1-9831-fbc2e56a2e91",
   "metadata": {},
   "source": [
    "**Exercise** Check the type of \"100\""
   ]
  },
  {
   "cell_type": "code",
   "execution_count": null,
   "id": "454a71a6-0dbf-457c-8a24-1409d292969c",
   "metadata": {},
   "outputs": [],
   "source": [
    "%%postcell exercise_025_095_d\n",
    "\n",
    "#type your answer here"
   ]
  },
  {
   "cell_type": "markdown",
   "id": "c2c9fa7b-656a-4b7a-bc3b-6ba4ca6d85a1",
   "metadata": {},
   "source": [
    "Single quote `'` and double quote `\"` have the same meaning. There is no `char` type"
   ]
  },
  {
   "cell_type": "code",
   "execution_count": 4,
   "id": "2f47b0ab-d86d-44a6-a1f9-8052e9b8708c",
   "metadata": {},
   "outputs": [
    {
     "data": {
      "text/plain": [
       "'hello world'"
      ]
     },
     "execution_count": 4,
     "metadata": {},
     "output_type": "execute_result"
    }
   ],
   "source": [
    "\"hello world\""
   ]
  },
  {
   "cell_type": "code",
   "execution_count": 5,
   "id": "3d32cb2e-887c-4f36-8357-ba671928b43e",
   "metadata": {},
   "outputs": [
    {
     "data": {
      "text/plain": [
       "'hello world'"
      ]
     },
     "execution_count": 5,
     "metadata": {},
     "output_type": "execute_result"
    }
   ],
   "source": [
    "'hello world'"
   ]
  },
  {
   "cell_type": "code",
   "execution_count": 40,
   "id": "ff42e074-d6cf-46a5-bbc0-a733284be36a",
   "metadata": {},
   "outputs": [
    {
     "name": "stdout",
     "output_type": "stream",
     "text": [
      "This is a \"great\" example\n"
     ]
    }
   ],
   "source": [
    "print('This is a \"great\" example')"
   ]
  },
  {
   "cell_type": "code",
   "execution_count": 2,
   "id": "ab10ea5f-81a7-4b31-a393-68d459bc421a",
   "metadata": {},
   "outputs": [
    {
     "data": {
      "text/plain": [
       "(str, str)"
      ]
     },
     "execution_count": 2,
     "metadata": {},
     "output_type": "execute_result"
    }
   ],
   "source": [
    "type(\"hello\"), type('hello')"
   ]
  },
  {
   "cell_type": "markdown",
   "id": "2fd693b0-bbdb-4b82-a0ad-8ac8044d88b8",
   "metadata": {},
   "source": [
    "Python has multi-line strings, using three single quotes `'''`:"
   ]
  },
  {
   "cell_type": "code",
   "execution_count": 6,
   "id": "367b4004-f354-445a-9888-353645b6cae2",
   "metadata": {},
   "outputs": [
    {
     "data": {
      "text/plain": [
       "'hello\\nworld\\nhow are\\nyou'"
      ]
     },
     "execution_count": 6,
     "metadata": {},
     "output_type": "execute_result"
    }
   ],
   "source": [
    "'''hello\n",
    "world\n",
    "how are\n",
    "you'''"
   ]
  },
  {
   "cell_type": "code",
   "execution_count": 7,
   "id": "df24768f-ea1b-477a-90e8-31d970e09583",
   "metadata": {},
   "outputs": [
    {
     "name": "stdout",
     "output_type": "stream",
     "text": [
      "hello\n",
      "world\n",
      "how are\n",
      "you\n"
     ]
    }
   ],
   "source": [
    "print('''hello\n",
    "world\n",
    "how are\n",
    "you''')"
   ]
  },
  {
   "cell_type": "markdown",
   "id": "df5bb858-7700-4720-8914-6b19bde95705",
   "metadata": {},
   "source": [
    "Modern Python's way of interpolating strings is called \"f-strings.\" Python has many ways of doing string interpolation, ignore them all in favor of f-strings:"
   ]
  },
  {
   "cell_type": "code",
   "execution_count": 8,
   "id": "1600398a-b3e5-4cb3-90fe-8322e498b513",
   "metadata": {},
   "outputs": [
    {
     "data": {
      "text/plain": [
       "'Homer is 36 years old'"
      ]
     },
     "execution_count": 8,
     "metadata": {},
     "output_type": "execute_result"
    }
   ],
   "source": [
    "\"Homer is \" + str(30 + 6) + \" years old\""
   ]
  },
  {
   "cell_type": "code",
   "execution_count": 9,
   "id": "ca9ea062-85cb-4664-a13f-51a7906590f2",
   "metadata": {},
   "outputs": [
    {
     "data": {
      "text/plain": [
       "'Homer is 36 years old'"
      ]
     },
     "execution_count": 9,
     "metadata": {},
     "output_type": "execute_result"
    }
   ],
   "source": [
    "f\"Homer is {30 + 6} years old\""
   ]
  },
  {
   "cell_type": "code",
   "execution_count": 10,
   "id": "5ae1a39c-020e-439c-b18d-2647c79f1ceb",
   "metadata": {},
   "outputs": [
    {
     "data": {
      "text/plain": [
       "'Marge is 32years old'"
      ]
     },
     "execution_count": 10,
     "metadata": {},
     "output_type": "execute_result"
    }
   ],
   "source": [
    "#string concatenation\n",
    "marge_age = 32\n",
    "\"Marge is \" + str(marge_age) + \"years old\""
   ]
  },
  {
   "cell_type": "code",
   "execution_count": 11,
   "id": "965cf953-093b-4438-a0ec-c2e206c0215c",
   "metadata": {},
   "outputs": [
    {
     "data": {
      "text/plain": [
       "'Marge is 32 years old'"
      ]
     },
     "execution_count": 11,
     "metadata": {},
     "output_type": "execute_result"
    }
   ],
   "source": [
    "#string interpolation\n",
    "marge_age = 32\n",
    "f'Marge is {marge_age} years old'"
   ]
  },
  {
   "cell_type": "markdown",
   "id": "d9952c00-1e7a-46b8-bc37-698e7a7cfd2f",
   "metadata": {},
   "source": [
    "**Exercise** List all `string` methods using the `dir()` function"
   ]
  },
  {
   "cell_type": "code",
   "execution_count": null,
   "id": "e5731183-636b-42af-a5e9-4c4147b02314",
   "metadata": {},
   "outputs": [],
   "source": [
    "#%%postcell exercise_025_095_e\n",
    "\n",
    "#type your answer here"
   ]
  },
  {
   "cell_type": "code",
   "execution_count": 14,
   "id": "4d31f03f-bec5-4cab-b8dd-3a15cdb37233",
   "metadata": {},
   "outputs": [
    {
     "data": {
      "text/plain": [
       "['__add__',\n",
       " '__class__',\n",
       " '__contains__',\n",
       " '__delattr__',\n",
       " '__dir__',\n",
       " '__doc__',\n",
       " '__eq__',\n",
       " '__format__',\n",
       " '__ge__',\n",
       " '__getattribute__',\n",
       " '__getitem__',\n",
       " '__getnewargs__',\n",
       " '__gt__',\n",
       " '__hash__',\n",
       " '__init__',\n",
       " '__init_subclass__',\n",
       " '__iter__',\n",
       " '__le__',\n",
       " '__len__',\n",
       " '__lt__',\n",
       " '__mod__',\n",
       " '__mul__',\n",
       " '__ne__',\n",
       " '__new__',\n",
       " '__reduce__',\n",
       " '__reduce_ex__',\n",
       " '__repr__',\n",
       " '__rmod__',\n",
       " '__rmul__',\n",
       " '__setattr__',\n",
       " '__sizeof__',\n",
       " '__str__',\n",
       " '__subclasshook__',\n",
       " 'capitalize',\n",
       " 'casefold',\n",
       " 'center',\n",
       " 'count',\n",
       " 'encode',\n",
       " 'endswith',\n",
       " 'expandtabs',\n",
       " 'find',\n",
       " 'format',\n",
       " 'format_map',\n",
       " 'index',\n",
       " 'isalnum',\n",
       " 'isalpha',\n",
       " 'isascii',\n",
       " 'isdecimal',\n",
       " 'isdigit',\n",
       " 'isidentifier',\n",
       " 'islower',\n",
       " 'isnumeric',\n",
       " 'isprintable',\n",
       " 'isspace',\n",
       " 'istitle',\n",
       " 'isupper',\n",
       " 'join',\n",
       " 'ljust',\n",
       " 'lower',\n",
       " 'lstrip',\n",
       " 'maketrans',\n",
       " 'partition',\n",
       " 'removeprefix',\n",
       " 'removesuffix',\n",
       " 'replace',\n",
       " 'rfind',\n",
       " 'rindex',\n",
       " 'rjust',\n",
       " 'rpartition',\n",
       " 'rsplit',\n",
       " 'rstrip',\n",
       " 'split',\n",
       " 'splitlines',\n",
       " 'startswith',\n",
       " 'strip',\n",
       " 'swapcase',\n",
       " 'title',\n",
       " 'translate',\n",
       " 'upper',\n",
       " 'zfill']"
      ]
     },
     "execution_count": 14,
     "metadata": {},
     "output_type": "execute_result"
    }
   ],
   "source": [
    "dir(\"some string\")"
   ]
  },
  {
   "cell_type": "code",
   "execution_count": 17,
   "id": "b88f2d0c-47dd-4fb5-bd51-c84096343323",
   "metadata": {},
   "outputs": [
    {
     "data": {
      "text/plain": [
       "'helloworld'"
      ]
     },
     "execution_count": 17,
     "metadata": {},
     "output_type": "execute_result"
    }
   ],
   "source": [
    "\"hello\" + \"world\""
   ]
  },
  {
   "cell_type": "code",
   "execution_count": 18,
   "id": "34207b2f-099e-4def-9540-24b8656ca8d6",
   "metadata": {},
   "outputs": [
    {
     "data": {
      "text/plain": [
       "'hellohellohellohellohello'"
      ]
     },
     "execution_count": 18,
     "metadata": {},
     "output_type": "execute_result"
    }
   ],
   "source": [
    "\"hello\" * 5"
   ]
  },
  {
   "cell_type": "markdown",
   "id": "9c5cff40-97c6-486f-bbf2-fbe91db5e4ed",
   "metadata": {},
   "source": [
    "##### Methods available on strings"
   ]
  },
  {
   "cell_type": "code",
   "execution_count": 22,
   "id": "2f1b4721-3105-4eb9-a2df-99a44df55c6a",
   "metadata": {},
   "outputs": [
    {
     "data": {
      "text/html": [
       "<ul\"><li style=\"list-style-type:none;display:inline-block;margin:0px 1%;\"><b>capitalize</b></li><li style=\"list-style-type:none;display:inline-block;margin:0px 1%;\"><b>casefold</b></li><li style=\"list-style-type:none;display:inline-block;margin:0px 1%;\"><b>center</b></li><li style=\"list-style-type:none;display:inline-block;margin:0px 1%;\"><b>count</b></li><li style=\"list-style-type:none;display:inline-block;margin:0px 1%;\"><b>encode</b></li><li style=\"list-style-type:none;display:inline-block;margin:0px 1%;\"><b>endswith</b></li><li style=\"list-style-type:none;display:inline-block;margin:0px 1%;\"><b>expandtabs</b></li><li style=\"list-style-type:none;display:inline-block;margin:0px 1%;\"><b>find</b></li><li style=\"list-style-type:none;display:inline-block;margin:0px 1%;\"><b>format</b></li><li style=\"list-style-type:none;display:inline-block;margin:0px 1%;\"><b>format_map</b></li><li style=\"list-style-type:none;display:inline-block;margin:0px 1%;\"><b>index</b></li><li style=\"list-style-type:none;display:inline-block;margin:0px 1%;\"><b>isalnum</b></li><li style=\"list-style-type:none;display:inline-block;margin:0px 1%;\"><b>isalpha</b></li><li style=\"list-style-type:none;display:inline-block;margin:0px 1%;\"><b>isascii</b></li><li style=\"list-style-type:none;display:inline-block;margin:0px 1%;\"><b>isdecimal</b></li><li style=\"list-style-type:none;display:inline-block;margin:0px 1%;\"><b>isdigit</b></li><li style=\"list-style-type:none;display:inline-block;margin:0px 1%;\"><b>isidentifier</b></li><li style=\"list-style-type:none;display:inline-block;margin:0px 1%;\"><b>islower</b></li><li style=\"list-style-type:none;display:inline-block;margin:0px 1%;\"><b>isnumeric</b></li><li style=\"list-style-type:none;display:inline-block;margin:0px 1%;\"><b>isprintable</b></li><li style=\"list-style-type:none;display:inline-block;margin:0px 1%;\"><b>isspace</b></li><li style=\"list-style-type:none;display:inline-block;margin:0px 1%;\"><b>istitle</b></li><li style=\"list-style-type:none;display:inline-block;margin:0px 1%;\"><b>isupper</b></li><li style=\"list-style-type:none;display:inline-block;margin:0px 1%;\"><b>join</b></li><li style=\"list-style-type:none;display:inline-block;margin:0px 1%;\"><b>ljust</b></li><li style=\"list-style-type:none;display:inline-block;margin:0px 1%;\"><b>lower</b></li><li style=\"list-style-type:none;display:inline-block;margin:0px 1%;\"><b>lstrip</b></li><li style=\"list-style-type:none;display:inline-block;margin:0px 1%;\"><b>maketrans</b></li><li style=\"list-style-type:none;display:inline-block;margin:0px 1%;\"><b>partition</b></li><li style=\"list-style-type:none;display:inline-block;margin:0px 1%;\"><b>removeprefix</b></li><li style=\"list-style-type:none;display:inline-block;margin:0px 1%;\"><b>removesuffix</b></li><li style=\"list-style-type:none;display:inline-block;margin:0px 1%;\"><b>replace</b></li><li style=\"list-style-type:none;display:inline-block;margin:0px 1%;\"><b>rfind</b></li><li style=\"list-style-type:none;display:inline-block;margin:0px 1%;\"><b>rindex</b></li><li style=\"list-style-type:none;display:inline-block;margin:0px 1%;\"><b>rjust</b></li><li style=\"list-style-type:none;display:inline-block;margin:0px 1%;\"><b>rpartition</b></li><li style=\"list-style-type:none;display:inline-block;margin:0px 1%;\"><b>rsplit</b></li><li style=\"list-style-type:none;display:inline-block;margin:0px 1%;\"><b>rstrip</b></li><li style=\"list-style-type:none;display:inline-block;margin:0px 1%;\"><b>split</b></li><li style=\"list-style-type:none;display:inline-block;margin:0px 1%;\"><b>splitlines</b></li><li style=\"list-style-type:none;display:inline-block;margin:0px 1%;\"><b>startswith</b></li><li style=\"list-style-type:none;display:inline-block;margin:0px 1%;\"><b>strip</b></li><li style=\"list-style-type:none;display:inline-block;margin:0px 1%;\"><b>swapcase</b></li><li style=\"list-style-type:none;display:inline-block;margin:0px 1%;\"><b>title</b></li><li style=\"list-style-type:none;display:inline-block;margin:0px 1%;\"><b>translate</b></li><li style=\"list-style-type:none;display:inline-block;margin:0px 1%;\"><b>upper</b></li><li style=\"list-style-type:none;display:inline-block;margin:0px 1%;\"><b>zfill</b></li></ul>"
      ],
      "text/plain": [
       "<IPython.core.display.HTML object>"
      ]
     },
     "execution_count": 22,
     "metadata": {},
     "output_type": "execute_result"
    }
   ],
   "source": [
    "show_methods(\"some string\")"
   ]
  },
  {
   "cell_type": "markdown",
   "id": "5e035e88-a6d5-4e42-9e23-6ae7465df8be",
   "metadata": {},
   "source": [
    "In Python, like most other languages, methods on a object are called via \"dot notation.\" \n",
    "For example:"
   ]
  },
  {
   "cell_type": "code",
   "execution_count": 23,
   "id": "644f5803-be3d-4208-936f-7458a3b6c384",
   "metadata": {},
   "outputs": [
    {
     "data": {
      "text/plain": [
       "'Homer'"
      ]
     },
     "execution_count": 23,
     "metadata": {},
     "output_type": "execute_result"
    }
   ],
   "source": [
    "\"homer\".capitalize()"
   ]
  },
  {
   "cell_type": "markdown",
   "id": "e646eb17-cd4a-4410-9ca5-d332a9451ec8",
   "metadata": {},
   "source": [
    "##### Operators on strings"
   ]
  },
  {
   "cell_type": "markdown",
   "id": "5164b81f-096e-4a79-b23b-6812fb913df3",
   "metadata": {},
   "source": [
    "| | |\n",
    "|---|---|\n",
    "|+| concatenate (combine) two strings|\n",
    "|*| repeat string a number of times|\n"
   ]
  },
  {
   "cell_type": "code",
   "execution_count": null,
   "id": "33eaed50-05ce-453e-9621-c27b7eeb310a",
   "metadata": {},
   "outputs": [],
   "source": [
    "#TODO: in exercises, have them try common operations, such as split, join, lower, upper, startswith, endswith and f strings"
   ]
  },
  {
   "cell_type": "markdown",
   "id": "ab75b8d2-bf9b-41cb-9dee-1d04b659299e",
   "metadata": {},
   "source": [
    "**Exercise** Change the following sentence to lower case \" PLEASE STOP SHOUTING \". Remove extra space at the beginning and end of the sentence. See if the sentence ends with \"ing\".\n",
    "\n",
    "*Hint* Python provides methods, such as `upper`, `lower`, `strip`, `startswith` and `endswith`"
   ]
  },
  {
   "cell_type": "code",
   "execution_count": null,
   "id": "e4a54f54-1a24-484a-abeb-f9518a45a23b",
   "metadata": {},
   "outputs": [],
   "source": [
    "%%postcell exercise_025_095_f\n",
    "\n",
    "#type your answer here\n",
    "\" PLEASE STOP SHOUTING \""
   ]
  },
  {
   "cell_type": "markdown",
   "id": "4d19f93a-fa1a-45e2-bafd-a3bd0d654635",
   "metadata": {},
   "source": [
    "**Exercise** Use `f-strings` to say hello to the name in the variable `name`"
   ]
  },
  {
   "cell_type": "code",
   "execution_count": null,
   "id": "9592c1bb-9cdf-48a0-a7e5-dbf49db92f76",
   "metadata": {},
   "outputs": [],
   "source": [
    "%%postcell exercise_025_095_g\n",
    "\n",
    "name = \"Shahbaz\"\n",
    "#type your answer here"
   ]
  },
  {
   "cell_type": "markdown",
   "id": "b5b2d730-64cd-4848-abef-e096e555c02f",
   "metadata": {},
   "source": [
    "More useful string functionality is described in the `list` section"
   ]
  },
  {
   "cell_type": "markdown",
   "id": "c3c84226-68c7-496b-ab5b-88d59383a4fc",
   "metadata": {},
   "source": [
    "### Boolean: True/False"
   ]
  },
  {
   "cell_type": "markdown",
   "id": "75724de9-c5ca-40a4-a6aa-10fd59c9544c",
   "metadata": {},
   "source": [
    "Python's boolean type has explicit `True` and `False` values, like most modern languages, yet maintains some of the functionalith of C's macros style booleans."
   ]
  },
  {
   "cell_type": "code",
   "execution_count": 24,
   "id": "d5326e14-6bf1-4d67-b6a8-9b590051404f",
   "metadata": {},
   "outputs": [
    {
     "data": {
      "text/plain": [
       "False"
      ]
     },
     "execution_count": 24,
     "metadata": {},
     "output_type": "execute_result"
    }
   ],
   "source": [
    "1 > 2"
   ]
  },
  {
   "cell_type": "code",
   "execution_count": 25,
   "id": "3ffaceb3-4318-4187-a2f4-f8a4b934f4f2",
   "metadata": {},
   "outputs": [
    {
     "data": {
      "text/plain": [
       "True"
      ]
     },
     "execution_count": 25,
     "metadata": {},
     "output_type": "execute_result"
    }
   ],
   "source": [
    "2 > 1"
   ]
  },
  {
   "cell_type": "markdown",
   "id": "5d5681ea-f3eb-4a73-9d35-1904f205a055",
   "metadata": {},
   "source": [
    "`True` maps to `1` and `False` maps to `0`:"
   ]
  },
  {
   "cell_type": "code",
   "execution_count": 26,
   "id": "494682c9-6222-4380-93e2-637dba233bb6",
   "metadata": {},
   "outputs": [
    {
     "data": {
      "text/plain": [
       "2"
      ]
     },
     "execution_count": 26,
     "metadata": {},
     "output_type": "execute_result"
    }
   ],
   "source": [
    "True + True"
   ]
  },
  {
   "cell_type": "markdown",
   "id": "bc5037cc-5187-4638-9d11-767cc07b3cfe",
   "metadata": {},
   "source": [
    "In the **`Truthiness`** section, we will further discuss unexpectedly useful boolean functionality"
   ]
  },
  {
   "cell_type": "markdown",
   "id": "9ea80931-3887-4358-bd86-0249f8abbdfc",
   "metadata": {},
   "source": [
    "##### Operators for comparison (including comparison of strings and numbers)"
   ]
  },
  {
   "cell_type": "markdown",
   "id": "a31e6982-d671-4152-b6c7-a4c0672fe7ec",
   "metadata": {},
   "source": [
    "| | |\n",
    "|---|---|\n",
    "|==| equals|\n",
    "|!=| not equal|\n",
    "|>| greater than|\n",
    "|<| less than|\n",
    "|>=| greater than or equal to |\n",
    "|<=| less than or equal to|\n"
   ]
  },
  {
   "cell_type": "markdown",
   "id": "875e6645-ae5f-449e-ada6-2c1348b9802d",
   "metadata": {
    "toc-hr-collapsed": true
   },
   "source": [
    "##### Logical operators"
   ]
  },
  {
   "cell_type": "markdown",
   "id": "d363133e-0396-4d56-87b2-957375800d3d",
   "metadata": {},
   "source": [
    "| | |\n",
    "|---|---|\n",
    "|and| conjunction|\n",
    "|or| disjunction|\n",
    "|not| negation|\n"
   ]
  },
  {
   "cell_type": "markdown",
   "id": "7c14a78e-4d12-4cff-bcc2-e387f2b66bfb",
   "metadata": {},
   "source": [
    "We will do exercises involving booleans in the if/else section"
   ]
  },
  {
   "cell_type": "markdown",
   "id": "3f5bcceb-1d4b-457c-b600-b65dfd65f028",
   "metadata": {},
   "source": [
    "### Type conversion"
   ]
  },
  {
   "cell_type": "markdown",
   "id": "1999e50b-c62c-4f22-860b-400b3cb4f51b",
   "metadata": {},
   "source": [
    "Python does not require explicit types, but objects do have run-time type information:"
   ]
  },
  {
   "cell_type": "code",
   "execution_count": 27,
   "id": "9e4b61b0-ad58-457f-9cca-372d276f9451",
   "metadata": {},
   "outputs": [
    {
     "data": {
      "text/plain": [
       "(str, int, float, bool)"
      ]
     },
     "execution_count": 27,
     "metadata": {},
     "output_type": "execute_result"
    }
   ],
   "source": [
    "type(\"hello\"), type(23), type(23.4), type(True)"
   ]
  },
  {
   "cell_type": "markdown",
   "id": "0d745669-8c06-4718-8390-9a2b5fc63ddb",
   "metadata": {},
   "source": [
    "Some important built-in data types in Python are: "
   ]
  },
  {
   "cell_type": "markdown",
   "id": "324358e4-eac3-4ced-a292-b6a8053deade",
   "metadata": {},
   "source": [
    "`str`, `int`, `float`, `bool`"
   ]
  },
  {
   "cell_type": "markdown",
   "id": "edea921e-4588-47bf-b826-3df6f00846de",
   "metadata": {},
   "source": [
    "These type names are also functions to convert one type to another:"
   ]
  },
  {
   "cell_type": "code",
   "execution_count": null,
   "id": "f162a0da-33e6-4a60-9f55-bc8df18e56ae",
   "metadata": {},
   "outputs": [],
   "source": [
    "\"23.4\" + \"1\""
   ]
  },
  {
   "cell_type": "code",
   "execution_count": null,
   "id": "a2e31025-3c23-4f83-9e8e-dfe33e6d923e",
   "metadata": {},
   "outputs": [],
   "source": [
    "float(\"23.4\") + 1"
   ]
  },
  {
   "cell_type": "code",
   "execution_count": null,
   "id": "8629453b-4f1d-416e-a84f-96f43c9c5828",
   "metadata": {},
   "outputs": [],
   "source": [
    "\"Homer is number \" + 1 #<= What happened?"
   ]
  },
  {
   "cell_type": "code",
   "execution_count": null,
   "id": "daa4b963-7156-4d42-953d-abf5244efb20",
   "metadata": {},
   "outputs": [],
   "source": [
    "\"Homer is number \" + str(1)"
   ]
  },
  {
   "cell_type": "code",
   "execution_count": null,
   "id": "43199a38-fffa-482f-abc9-05e08691eede",
   "metadata": {},
   "outputs": [],
   "source": [
    "bool(1)"
   ]
  },
  {
   "cell_type": "code",
   "execution_count": 28,
   "id": "cde4c05e-dadf-4fb9-b333-0b6dbd76d281",
   "metadata": {},
   "outputs": [
    {
     "ename": "ValueError",
     "evalue": "could not convert string to float: 'hello'",
     "output_type": "error",
     "traceback": [
      "\u001b[1;31m---------------------------------------------------------------------------\u001b[0m",
      "\u001b[1;31mValueError\u001b[0m                                Traceback (most recent call last)",
      "\u001b[1;32m~\\AppData\\Local\\Temp\\ipykernel_39788\\4238180004.py\u001b[0m in \u001b[0;36m<module>\u001b[1;34m\u001b[0m\n\u001b[1;32m----> 1\u001b[1;33m \u001b[0mfloat\u001b[0m\u001b[1;33m(\u001b[0m\u001b[1;34m\"hello\"\u001b[0m\u001b[1;33m)\u001b[0m\u001b[1;33m\u001b[0m\u001b[1;33m\u001b[0m\u001b[0m\n\u001b[0m",
      "\u001b[1;31mValueError\u001b[0m: could not convert string to float: 'hello'"
     ]
    }
   ],
   "source": [
    "float(\"hello\")"
   ]
  },
  {
   "cell_type": "markdown",
   "id": "6f0396c4-4d1a-49bc-ad87-86c566e36549",
   "metadata": {},
   "source": [
    "### Variables"
   ]
  },
  {
   "cell_type": "markdown",
   "id": "32fe4714-e1e1-46bb-a6a1-0d4201448189",
   "metadata": {},
   "source": [
    "Variable definition in Python is simpler than other mainstream programming languages. There is no required type, not `var` or `let` keyword, no separation of declaration of definitions. "
   ]
  },
  {
   "cell_type": "code",
   "execution_count": null,
   "id": "9a0a6df6-01ea-4717-8743-c3294ffbfef9",
   "metadata": {},
   "outputs": [],
   "source": [
    "x = \"Hello\""
   ]
  },
  {
   "cell_type": "markdown",
   "id": "5bd35a1c-fed8-4aa3-9b23-97a5fa1f7fea",
   "metadata": {},
   "source": [
    "That's it."
   ]
  },
  {
   "cell_type": "markdown",
   "id": "7682156a-7aa5-4984-9d3e-8225a43b8afa",
   "metadata": {},
   "source": [
    "Since Python is a dynamic language, types are assigned at runtime, not at definition time"
   ]
  },
  {
   "cell_type": "code",
   "execution_count": null,
   "id": "b116c192-38c0-4f62-b25a-da8f29609992",
   "metadata": {},
   "outputs": [],
   "source": [
    "type(x)"
   ]
  },
  {
   "cell_type": "code",
   "execution_count": 29,
   "id": "02b74a4c-e9a5-4138-afae-23c407c7124f",
   "metadata": {},
   "outputs": [],
   "source": [
    "x = 100"
   ]
  },
  {
   "cell_type": "code",
   "execution_count": null,
   "id": "d90c7ef8-d208-44bd-886c-31206c0e4480",
   "metadata": {},
   "outputs": [],
   "source": [
    "type(x)"
   ]
  },
  {
   "cell_type": "markdown",
   "id": "4ccf8d98-ee8b-45c7-9aff-3d24acf0f330",
   "metadata": {},
   "source": [
    "#### Increment operator"
   ]
  },
  {
   "cell_type": "code",
   "execution_count": null,
   "id": "070005cc-c11d-49ab-a6ac-4cd9b2e65dbe",
   "metadata": {},
   "outputs": [],
   "source": [
    "x = x + 1"
   ]
  },
  {
   "cell_type": "code",
   "execution_count": null,
   "id": "04d759a6-828d-4a0a-a434-280bd0f42b91",
   "metadata": {},
   "outputs": [],
   "source": [
    "x"
   ]
  },
  {
   "cell_type": "markdown",
   "id": "ee526710-4ebc-4615-a459-eeae91350a71",
   "metadata": {},
   "source": [
    "Variable assignment in PYthon provide a utility found in many other programming langauges which combines assignment and a binary operator"
   ]
  },
  {
   "cell_type": "code",
   "execution_count": null,
   "id": "2a1c62f5-7a0e-4010-a1b3-932989e9aa5d",
   "metadata": {},
   "outputs": [],
   "source": [
    "x += 1\n",
    "x"
   ]
  },
  {
   "cell_type": "code",
   "execution_count": null,
   "id": "9f93bec4-b47a-45e6-b668-6d35c9cb8105",
   "metadata": {},
   "outputs": [],
   "source": [
    "x *= 2\n",
    "x"
   ]
  },
  {
   "cell_type": "markdown",
   "id": "c98eb56e-f67a-447b-8231-da6f83c4bd1a",
   "metadata": {},
   "source": [
    "Unlike many other programming languages, Python provides a greater number of such assignment operators: `/=`, `%=`, `**=`, etc."
   ]
  },
  {
   "cell_type": "markdown",
   "id": "3d2314e8-becb-4af7-a11b-4156414f88b2",
   "metadata": {},
   "source": [
    "Perhaps surprisingly, Python does _not_ provide a common operation found in almost every other language"
   ]
  },
  {
   "cell_type": "code",
   "execution_count": 30,
   "id": "b7d59064-56bc-4a2d-8dd0-61fdaf60b939",
   "metadata": {},
   "outputs": [
    {
     "ename": "SyntaxError",
     "evalue": "invalid syntax (1015499630.py, line 1)",
     "output_type": "error",
     "traceback": [
      "\u001b[1;36m  File \u001b[1;32m\"C:\\Users\\shahb\\AppData\\Local\\Temp\\ipykernel_39788\\1015499630.py\"\u001b[1;36m, line \u001b[1;32m1\u001b[0m\n\u001b[1;33m    x++\u001b[0m\n\u001b[1;37m       ^\u001b[0m\n\u001b[1;31mSyntaxError\u001b[0m\u001b[1;31m:\u001b[0m invalid syntax\n"
     ]
    }
   ],
   "source": [
    "x++"
   ]
  },
  {
   "cell_type": "markdown",
   "id": "e8bfd508-3903-457f-a322-46cbd4bc6fa2",
   "metadata": {},
   "source": [
    "Python allows multiple assignment"
   ]
  },
  {
   "cell_type": "code",
   "execution_count": 31,
   "id": "63313faa-b6fc-4ce6-9008-28d232886053",
   "metadata": {},
   "outputs": [],
   "source": [
    "x, y = 1,2"
   ]
  },
  {
   "cell_type": "code",
   "execution_count": 32,
   "id": "379caec0-33b2-43b6-8841-90b59a0fad97",
   "metadata": {},
   "outputs": [
    {
     "data": {
      "text/plain": [
       "1"
      ]
     },
     "execution_count": 32,
     "metadata": {},
     "output_type": "execute_result"
    }
   ],
   "source": [
    "x"
   ]
  },
  {
   "cell_type": "code",
   "execution_count": 33,
   "id": "e0273e15-bf97-45ec-b0c8-ba4a201177a5",
   "metadata": {},
   "outputs": [
    {
     "data": {
      "text/plain": [
       "2"
      ]
     },
     "execution_count": 33,
     "metadata": {},
     "output_type": "execute_result"
    }
   ],
   "source": [
    "y"
   ]
  },
  {
   "cell_type": "code",
   "execution_count": 34,
   "id": "7220cfdd-a84f-421a-b9e8-a5a05309ef8c",
   "metadata": {},
   "outputs": [],
   "source": [
    "y, x = x, y"
   ]
  },
  {
   "cell_type": "code",
   "execution_count": 35,
   "id": "0e2fe09a-642f-4c17-911b-7293066394de",
   "metadata": {},
   "outputs": [
    {
     "data": {
      "text/plain": [
       "2"
      ]
     },
     "execution_count": 35,
     "metadata": {},
     "output_type": "execute_result"
    }
   ],
   "source": [
    "x"
   ]
  },
  {
   "cell_type": "code",
   "execution_count": 36,
   "id": "2b5ad44b-7a5e-4870-a361-5dee0590f0d8",
   "metadata": {},
   "outputs": [
    {
     "data": {
      "text/plain": [
       "1"
      ]
     },
     "execution_count": 36,
     "metadata": {},
     "output_type": "execute_result"
    }
   ],
   "source": [
    "y"
   ]
  },
  {
   "cell_type": "markdown",
   "id": "b915d5ca-525f-4e68-8f92-61417c3131b7",
   "metadata": {},
   "source": [
    "### Functions"
   ]
  },
  {
   "cell_type": "markdown",
   "id": "23f034a0-c142-4338-92b5-5a3d9ed7fa0e",
   "metadata": {},
   "source": [
    "Perhaps the first time programmers notice a major departure from mainstream languages is when they come across Python's function syntax. _Indentation matters!_"
   ]
  },
  {
   "cell_type": "code",
   "execution_count": 41,
   "id": "1c1f2db9-07ed-4f9b-a3b5-fa671fdd6dbe",
   "metadata": {},
   "outputs": [],
   "source": [
    "def function_name(arg1, arg2):\n",
    "    return arg1 + arg2"
   ]
  },
  {
   "cell_type": "code",
   "execution_count": 42,
   "id": "99979735-14c8-4c09-aa26-eb36c6eb5a68",
   "metadata": {},
   "outputs": [
    {
     "data": {
      "text/plain": [
       "3"
      ]
     },
     "execution_count": 42,
     "metadata": {},
     "output_type": "execute_result"
    }
   ],
   "source": [
    "function_name(1,2)"
   ]
  },
  {
   "cell_type": "code",
   "execution_count": 43,
   "id": "6d88b289-0fea-4197-b0e9-8f157dc17275",
   "metadata": {},
   "outputs": [
    {
     "data": {
      "text/plain": [
       "'helloworld'"
      ]
     },
     "execution_count": 43,
     "metadata": {},
     "output_type": "execute_result"
    }
   ],
   "source": [
    "function_name(\"hello\", \"world\")"
   ]
  },
  {
   "cell_type": "markdown",
   "id": "7a7d0c2a-b245-46e9-b6b1-d1d5a8fa7f11",
   "metadata": {},
   "source": [
    "**Exercise** Write a function which accepts a name and returns a string \"Hello _name_\" (where _name_ is the input variable)"
   ]
  },
  {
   "cell_type": "code",
   "execution_count": null,
   "id": "55893e4a-74e6-4ceb-b3d9-8b1075653964",
   "metadata": {},
   "outputs": [],
   "source": [
    "%%postcell exercise_025_095_h\n",
    "\n",
    "#type your answer here"
   ]
  },
  {
   "cell_type": "markdown",
   "id": "23d85653-d083-44a7-acb2-c6c4c0e8ddca",
   "metadata": {},
   "source": [
    "Python allows functions to have default values."
   ]
  },
  {
   "cell_type": "code",
   "execution_count": 44,
   "id": "9dd16d1d-b220-4b9c-8d6d-35975128a3f5",
   "metadata": {},
   "outputs": [],
   "source": [
    "def greeting(name, salutation=\"Hello\"):\n",
    "    return f\"{salutation} {name}!\""
   ]
  },
  {
   "cell_type": "code",
   "execution_count": 45,
   "id": "56e0d420-2a47-45cf-a162-0c47b1552ce8",
   "metadata": {},
   "outputs": [
    {
     "data": {
      "text/plain": [
       "'Hello Shahbaz!'"
      ]
     },
     "execution_count": 45,
     "metadata": {},
     "output_type": "execute_result"
    }
   ],
   "source": [
    "greeting(\"Shahbaz\")"
   ]
  },
  {
   "cell_type": "code",
   "execution_count": 46,
   "id": "e4d3b81b-72d1-4c72-ad0c-e488fe6005bd",
   "metadata": {},
   "outputs": [
    {
     "data": {
      "text/plain": [
       "'Bonjour Shahbaz!'"
      ]
     },
     "execution_count": 46,
     "metadata": {},
     "output_type": "execute_result"
    }
   ],
   "source": [
    "greeting(\"Shahbaz\", \"Bonjour\")"
   ]
  },
  {
   "cell_type": "code",
   "execution_count": null,
   "id": "a9a3722f-0518-4aad-8bc5-f42dec9fe674",
   "metadata": {},
   "outputs": [],
   "source": [
    "greeting(\"Shahbaz\", salutation=\"Bonjour\")"
   ]
  },
  {
   "cell_type": "code",
   "execution_count": 47,
   "id": "4f8fc807-7d10-4af2-a6a3-96d4468189c1",
   "metadata": {},
   "outputs": [
    {
     "data": {
      "text/plain": [
       "\u001b[1;31mSignature:\u001b[0m\n",
       "\u001b[0mopen\u001b[0m\u001b[1;33m(\u001b[0m\u001b[1;33m\n",
       "\u001b[0m    \u001b[0mfile\u001b[0m\u001b[1;33m,\u001b[0m\u001b[1;33m\n",
       "\u001b[0m    \u001b[0mmode\u001b[0m\u001b[1;33m=\u001b[0m\u001b[1;34m'r'\u001b[0m\u001b[1;33m,\u001b[0m\u001b[1;33m\n",
       "\u001b[0m    \u001b[0mbuffering\u001b[0m\u001b[1;33m=\u001b[0m\u001b[1;33m-\u001b[0m\u001b[1;36m1\u001b[0m\u001b[1;33m,\u001b[0m\u001b[1;33m\n",
       "\u001b[0m    \u001b[0mencoding\u001b[0m\u001b[1;33m=\u001b[0m\u001b[1;32mNone\u001b[0m\u001b[1;33m,\u001b[0m\u001b[1;33m\n",
       "\u001b[0m    \u001b[0merrors\u001b[0m\u001b[1;33m=\u001b[0m\u001b[1;32mNone\u001b[0m\u001b[1;33m,\u001b[0m\u001b[1;33m\n",
       "\u001b[0m    \u001b[0mnewline\u001b[0m\u001b[1;33m=\u001b[0m\u001b[1;32mNone\u001b[0m\u001b[1;33m,\u001b[0m\u001b[1;33m\n",
       "\u001b[0m    \u001b[0mclosefd\u001b[0m\u001b[1;33m=\u001b[0m\u001b[1;32mTrue\u001b[0m\u001b[1;33m,\u001b[0m\u001b[1;33m\n",
       "\u001b[0m    \u001b[0mopener\u001b[0m\u001b[1;33m=\u001b[0m\u001b[1;32mNone\u001b[0m\u001b[1;33m,\u001b[0m\u001b[1;33m\n",
       "\u001b[0m\u001b[1;33m)\u001b[0m\u001b[1;33m\u001b[0m\u001b[1;33m\u001b[0m\u001b[0m\n",
       "\u001b[1;31mDocstring:\u001b[0m\n",
       "Open file and return a stream.  Raise OSError upon failure.\n",
       "\n",
       "file is either a text or byte string giving the name (and the path\n",
       "if the file isn't in the current working directory) of the file to\n",
       "be opened or an integer file descriptor of the file to be\n",
       "wrapped. (If a file descriptor is given, it is closed when the\n",
       "returned I/O object is closed, unless closefd is set to False.)\n",
       "\n",
       "mode is an optional string that specifies the mode in which the file\n",
       "is opened. It defaults to 'r' which means open for reading in text\n",
       "mode.  Other common values are 'w' for writing (truncating the file if\n",
       "it already exists), 'x' for creating and writing to a new file, and\n",
       "'a' for appending (which on some Unix systems, means that all writes\n",
       "append to the end of the file regardless of the current seek position).\n",
       "In text mode, if encoding is not specified the encoding used is platform\n",
       "dependent: locale.getpreferredencoding(False) is called to get the\n",
       "current locale encoding. (For reading and writing raw bytes use binary\n",
       "mode and leave encoding unspecified.) The available modes are:\n",
       "\n",
       "========= ===============================================================\n",
       "Character Meaning\n",
       "--------- ---------------------------------------------------------------\n",
       "'r'       open for reading (default)\n",
       "'w'       open for writing, truncating the file first\n",
       "'x'       create a new file and open it for writing\n",
       "'a'       open for writing, appending to the end of the file if it exists\n",
       "'b'       binary mode\n",
       "'t'       text mode (default)\n",
       "'+'       open a disk file for updating (reading and writing)\n",
       "'U'       universal newline mode (deprecated)\n",
       "========= ===============================================================\n",
       "\n",
       "The default mode is 'rt' (open for reading text). For binary random\n",
       "access, the mode 'w+b' opens and truncates the file to 0 bytes, while\n",
       "'r+b' opens the file without truncation. The 'x' mode implies 'w' and\n",
       "raises an `FileExistsError` if the file already exists.\n",
       "\n",
       "Python distinguishes between files opened in binary and text modes,\n",
       "even when the underlying operating system doesn't. Files opened in\n",
       "binary mode (appending 'b' to the mode argument) return contents as\n",
       "bytes objects without any decoding. In text mode (the default, or when\n",
       "'t' is appended to the mode argument), the contents of the file are\n",
       "returned as strings, the bytes having been first decoded using a\n",
       "platform-dependent encoding or using the specified encoding if given.\n",
       "\n",
       "'U' mode is deprecated and will raise an exception in future versions\n",
       "of Python.  It has no effect in Python 3.  Use newline to control\n",
       "universal newlines mode.\n",
       "\n",
       "buffering is an optional integer used to set the buffering policy.\n",
       "Pass 0 to switch buffering off (only allowed in binary mode), 1 to select\n",
       "line buffering (only usable in text mode), and an integer > 1 to indicate\n",
       "the size of a fixed-size chunk buffer.  When no buffering argument is\n",
       "given, the default buffering policy works as follows:\n",
       "\n",
       "* Binary files are buffered in fixed-size chunks; the size of the buffer\n",
       "  is chosen using a heuristic trying to determine the underlying device's\n",
       "  \"block size\" and falling back on `io.DEFAULT_BUFFER_SIZE`.\n",
       "  On many systems, the buffer will typically be 4096 or 8192 bytes long.\n",
       "\n",
       "* \"Interactive\" text files (files for which isatty() returns True)\n",
       "  use line buffering.  Other text files use the policy described above\n",
       "  for binary files.\n",
       "\n",
       "encoding is the name of the encoding used to decode or encode the\n",
       "file. This should only be used in text mode. The default encoding is\n",
       "platform dependent, but any encoding supported by Python can be\n",
       "passed.  See the codecs module for the list of supported encodings.\n",
       "\n",
       "errors is an optional string that specifies how encoding errors are to\n",
       "be handled---this argument should not be used in binary mode. Pass\n",
       "'strict' to raise a ValueError exception if there is an encoding error\n",
       "(the default of None has the same effect), or pass 'ignore' to ignore\n",
       "errors. (Note that ignoring encoding errors can lead to data loss.)\n",
       "See the documentation for codecs.register or run 'help(codecs.Codec)'\n",
       "for a list of the permitted encoding error strings.\n",
       "\n",
       "newline controls how universal newlines works (it only applies to text\n",
       "mode). It can be None, '', '\\n', '\\r', and '\\r\\n'.  It works as\n",
       "follows:\n",
       "\n",
       "* On input, if newline is None, universal newlines mode is\n",
       "  enabled. Lines in the input can end in '\\n', '\\r', or '\\r\\n', and\n",
       "  these are translated into '\\n' before being returned to the\n",
       "  caller. If it is '', universal newline mode is enabled, but line\n",
       "  endings are returned to the caller untranslated. If it has any of\n",
       "  the other legal values, input lines are only terminated by the given\n",
       "  string, and the line ending is returned to the caller untranslated.\n",
       "\n",
       "* On output, if newline is None, any '\\n' characters written are\n",
       "  translated to the system default line separator, os.linesep. If\n",
       "  newline is '' or '\\n', no translation takes place. If newline is any\n",
       "  of the other legal values, any '\\n' characters written are translated\n",
       "  to the given string.\n",
       "\n",
       "If closefd is False, the underlying file descriptor will be kept open\n",
       "when the file is closed. This does not work when a file name is given\n",
       "and must be True in that case.\n",
       "\n",
       "A custom opener can be used by passing a callable as *opener*. The\n",
       "underlying file descriptor for the file object is then obtained by\n",
       "calling *opener* with (*file*, *flags*). *opener* must return an open\n",
       "file descriptor (passing os.open as *opener* results in functionality\n",
       "similar to passing None).\n",
       "\n",
       "open() returns a file object whose type depends on the mode, and\n",
       "through which the standard file operations such as reading and writing\n",
       "are performed. When open() is used to open a file in a text mode ('w',\n",
       "'r', 'wt', 'rt', etc.), it returns a TextIOWrapper. When used to open\n",
       "a file in a binary mode, the returned class varies: in read binary\n",
       "mode, it returns a BufferedReader; in write binary and append binary\n",
       "modes, it returns a BufferedWriter, and in read/write mode, it returns\n",
       "a BufferedRandom.\n",
       "\n",
       "It is also possible to use a string or bytearray as a file for both\n",
       "reading and writing. For strings StringIO can be used like a file\n",
       "opened in a text mode, and for bytes a BytesIO can be used like a file\n",
       "opened in a binary mode.\n",
       "\u001b[1;31mType:\u001b[0m      builtin_function_or_method\n"
      ]
     },
     "metadata": {},
     "output_type": "display_data"
    }
   ],
   "source": [
    "open?"
   ]
  },
  {
   "cell_type": "markdown",
   "id": "5bb88424-f54b-4cde-874f-f132a6f4ce7f",
   "metadata": {},
   "source": [
    "Anonymous or lambda functions"
   ]
  },
  {
   "cell_type": "code",
   "execution_count": 48,
   "id": "f8b032ae-5f00-4402-ae17-9f1530bd1f43",
   "metadata": {},
   "outputs": [],
   "source": [
    "x = lambda n: f\"Hello {n}\""
   ]
  },
  {
   "cell_type": "code",
   "execution_count": 49,
   "id": "43ce1634-0cf4-4b1c-a695-86fe3e263e16",
   "metadata": {},
   "outputs": [
    {
     "data": {
      "text/plain": [
       "'Hello Shahbaz'"
      ]
     },
     "execution_count": 49,
     "metadata": {},
     "output_type": "execute_result"
    }
   ],
   "source": [
    "x(\"Shahbaz\")"
   ]
  },
  {
   "cell_type": "markdown",
   "id": "8d6e5f73-4390-4870-8cdd-e14bd05969f3",
   "metadata": {},
   "source": [
    "##### Methods calls are similar to other languages\n",
    "Python has object oriented features and methods on objects are called in the same manner as other mainstream language - with a dot a function syntax"
   ]
  },
  {
   "cell_type": "code",
   "execution_count": 50,
   "id": "72efa70b-53f1-4ef1-9110-fc03df4af6a0",
   "metadata": {},
   "outputs": [
    {
     "data": {
      "text/plain": [
       "'HELLO'"
      ]
     },
     "execution_count": 50,
     "metadata": {},
     "output_type": "execute_result"
    }
   ],
   "source": [
    "\"hello\".upper()"
   ]
  },
  {
   "cell_type": "markdown",
   "id": "00e6bb66-738c-4c74-b4a0-c8dbb725707e",
   "metadata": {},
   "source": [
    "##### `import` external libraries"
   ]
  },
  {
   "cell_type": "markdown",
   "id": "a1cfb9e2-1f19-4e42-b42e-fc80928621ad",
   "metadata": {},
   "source": [
    "Python, naturally, provides the ability to import external libraries. However, unlike other languages, it provides some additonal functionality, such as aliases for imported libraries, importing without using name spaces, etc."
   ]
  },
  {
   "cell_type": "code",
   "execution_count": 51,
   "id": "6329fffc-20ff-4c40-8d45-d7c0bfd22c6d",
   "metadata": {},
   "outputs": [],
   "source": [
    "import math"
   ]
  },
  {
   "cell_type": "code",
   "execution_count": 52,
   "id": "be3e2e83-cad0-48e2-b4f8-d5bc1d4bf2c7",
   "metadata": {},
   "outputs": [
    {
     "data": {
      "text/plain": [
       "12.0"
      ]
     },
     "execution_count": 52,
     "metadata": {},
     "output_type": "execute_result"
    }
   ],
   "source": [
    "math.sqrt(144)"
   ]
  },
  {
   "cell_type": "code",
   "execution_count": 53,
   "id": "a9ef584c-f9f9-4a85-b49c-1885155436c6",
   "metadata": {},
   "outputs": [
    {
     "data": {
      "text/plain": [
       "123"
      ]
     },
     "execution_count": 53,
     "metadata": {},
     "output_type": "execute_result"
    }
   ],
   "source": [
    "math.floor(123.456)"
   ]
  },
  {
   "cell_type": "code",
   "execution_count": 54,
   "id": "c5a799e3-0229-449b-9746-f577e29ea1c0",
   "metadata": {},
   "outputs": [
    {
     "data": {
      "text/plain": [
       "['__doc__',\n",
       " '__loader__',\n",
       " '__name__',\n",
       " '__package__',\n",
       " '__spec__',\n",
       " 'acos',\n",
       " 'acosh',\n",
       " 'asin',\n",
       " 'asinh',\n",
       " 'atan',\n",
       " 'atan2',\n",
       " 'atanh',\n",
       " 'ceil',\n",
       " 'comb',\n",
       " 'copysign',\n",
       " 'cos',\n",
       " 'cosh',\n",
       " 'degrees',\n",
       " 'dist',\n",
       " 'e',\n",
       " 'erf',\n",
       " 'erfc',\n",
       " 'exp',\n",
       " 'expm1',\n",
       " 'fabs',\n",
       " 'factorial',\n",
       " 'floor',\n",
       " 'fmod',\n",
       " 'frexp',\n",
       " 'fsum',\n",
       " 'gamma',\n",
       " 'gcd',\n",
       " 'hypot',\n",
       " 'inf',\n",
       " 'isclose',\n",
       " 'isfinite',\n",
       " 'isinf',\n",
       " 'isnan',\n",
       " 'isqrt',\n",
       " 'lcm',\n",
       " 'ldexp',\n",
       " 'lgamma',\n",
       " 'log',\n",
       " 'log10',\n",
       " 'log1p',\n",
       " 'log2',\n",
       " 'modf',\n",
       " 'nan',\n",
       " 'nextafter',\n",
       " 'perm',\n",
       " 'pi',\n",
       " 'pow',\n",
       " 'prod',\n",
       " 'radians',\n",
       " 'remainder',\n",
       " 'sin',\n",
       " 'sinh',\n",
       " 'sqrt',\n",
       " 'tan',\n",
       " 'tanh',\n",
       " 'tau',\n",
       " 'trunc',\n",
       " 'ulp']"
      ]
     },
     "execution_count": 54,
     "metadata": {},
     "output_type": "execute_result"
    }
   ],
   "source": [
    "dir(math)"
   ]
  },
  {
   "cell_type": "markdown",
   "id": "0b27f8fa-3a77-41b7-a8f4-ffbc70277314",
   "metadata": {},
   "source": [
    "If you don't want to have to use `math.`, you can import all functions into the current name space"
   ]
  },
  {
   "cell_type": "code",
   "execution_count": 55,
   "id": "2c82b42a-535b-407f-afc0-9aace381d00f",
   "metadata": {},
   "outputs": [
    {
     "ename": "NameError",
     "evalue": "name 'ceil' is not defined",
     "output_type": "error",
     "traceback": [
      "\u001b[1;31m---------------------------------------------------------------------------\u001b[0m",
      "\u001b[1;31mNameError\u001b[0m                                 Traceback (most recent call last)",
      "\u001b[1;32m~\\AppData\\Local\\Temp\\ipykernel_39788\\2338689634.py\u001b[0m in \u001b[0;36m<module>\u001b[1;34m\u001b[0m\n\u001b[1;32m----> 1\u001b[1;33m \u001b[0mceil\u001b[0m\u001b[1;33m(\u001b[0m\u001b[1;36m123.45\u001b[0m\u001b[1;33m)\u001b[0m\u001b[1;33m\u001b[0m\u001b[1;33m\u001b[0m\u001b[0m\n\u001b[0m",
      "\u001b[1;31mNameError\u001b[0m: name 'ceil' is not defined"
     ]
    }
   ],
   "source": [
    "ceil(123.45)"
   ]
  },
  {
   "cell_type": "code",
   "execution_count": 56,
   "id": "08802ebf-4d61-4d65-a2e6-40480f92ea73",
   "metadata": {},
   "outputs": [
    {
     "data": {
      "text/plain": [
       "124"
      ]
     },
     "execution_count": 56,
     "metadata": {},
     "output_type": "execute_result"
    }
   ],
   "source": [
    "math.ceil(123.45)"
   ]
  },
  {
   "cell_type": "code",
   "execution_count": 57,
   "id": "adcca2b4-1314-419e-a99c-4becca6d9a4e",
   "metadata": {},
   "outputs": [],
   "source": [
    "from math import *"
   ]
  },
  {
   "cell_type": "code",
   "execution_count": 58,
   "id": "3590a842-b537-4806-875e-d31ce73ce13d",
   "metadata": {},
   "outputs": [
    {
     "data": {
      "text/plain": [
       "124"
      ]
     },
     "execution_count": 58,
     "metadata": {},
     "output_type": "execute_result"
    }
   ],
   "source": [
    "ceil(123.45)"
   ]
  },
  {
   "cell_type": "markdown",
   "id": "5067f48b-5912-476b-8010-f0890d33a0b4",
   "metadata": {},
   "source": [
    "_Warning:_ I'm not convinced this is every a good idea!"
   ]
  },
  {
   "cell_type": "code",
   "execution_count": 59,
   "id": "ce4ada60-7bc9-4e89-92d8-9b7925db0bd1",
   "metadata": {},
   "outputs": [],
   "source": [
    "import math as m"
   ]
  },
  {
   "cell_type": "code",
   "execution_count": 60,
   "id": "0d6a9f23-501b-4e09-afa4-55acadc49fce",
   "metadata": {},
   "outputs": [
    {
     "data": {
      "text/plain": [
       "124"
      ]
     },
     "execution_count": 60,
     "metadata": {},
     "output_type": "execute_result"
    }
   ],
   "source": [
    "m.ceil(123.45)"
   ]
  },
  {
   "cell_type": "markdown",
   "id": "ef9b515e-a180-49ac-a0a9-311de7e1c1b2",
   "metadata": {},
   "source": [
    "Programmers generally don't arbitrarily pick aliases. There are some industry best practices. For example, the_Numpy_ and _Pandas_ libraries are universally imported as\n",
    "\n",
    "```python\n",
    "import numpy as np\n",
    "import pandas as pd\n",
    "```"
   ]
  },
  {
   "cell_type": "markdown",
   "id": "6db14fdd-64ce-45ea-a485-b7ab2a44b35b",
   "metadata": {},
   "source": [
    "##### Installing 3rd party libraries: not Python but very important"
   ]
  },
  {
   "cell_type": "markdown",
   "id": "df0fa2b5-5180-4299-9e02-5733f2624274",
   "metadata": {},
   "source": [
    "Like other modern programming ecosystems, Python provides (multiple) ways of installing external packages.\n",
    "\n",
    "```python\n",
    "pip install somepackage\n",
    "```"
   ]
  },
  {
   "cell_type": "markdown",
   "id": "6e7b9190-6e2f-4b8b-be62-688ccf6d6ae6",
   "metadata": {},
   "source": [
    "`pip` is officially part of Python. However, data scientists often use an alternative\n",
    "\n",
    "```python\n",
    "conda install somepackage\n",
    "```"
   ]
  },
  {
   "cell_type": "markdown",
   "id": "0626244b-4aa2-4868-b8ed-68112daf6d3a",
   "metadata": {},
   "source": [
    "`conda` is part of the _Anaconda_ Python distribution. Data scientists generally prefer this distribution because it comes pre-installed with Pandas, Numpy, Scikit-Learn, Jupyter and other tools."
   ]
  },
  {
   "cell_type": "markdown",
   "id": "143d6d96-8c18-4f7b-802f-dd24c13f209a",
   "metadata": {},
   "source": [
    "As data scientists, you should prefer `conda`. If a package is not availabe via `codna`, then use `pip` as a backup."
   ]
  },
  {
   "cell_type": "markdown",
   "id": "1c0fd9fc-3b00-48e9-b6f3-8e1615518afe",
   "metadata": {},
   "source": [
    "## Container types"
   ]
  },
  {
   "cell_type": "markdown",
   "id": "8977f02a-7f37-4ac6-a74d-e17917ae7ba3",
   "metadata": {},
   "source": [
    "### Lists"
   ]
  },
  {
   "cell_type": "markdown",
   "id": "dfc61c08-ca9f-4e29-bf21-933d51e3fc3d",
   "metadata": {},
   "source": [
    "Python's list correspond to similar data structures in other languages, such as arrays and vectors and are closer to the standard linked list than a fixed size array based on contiguous memory."
   ]
  },
  {
   "cell_type": "code",
   "execution_count": 61,
   "id": "059b3975-1f5c-4b01-b523-d87be41e20be",
   "metadata": {},
   "outputs": [
    {
     "data": {
      "text/plain": [
       "[1, 2, 3, 'Homer', 4.5, True, 3, 3, 3]"
      ]
     },
     "execution_count": 61,
     "metadata": {},
     "output_type": "execute_result"
    }
   ],
   "source": [
    "[1, 2, 3, \"Homer\", 4.5,  True, 3, 3, 3]"
   ]
  },
  {
   "cell_type": "markdown",
   "id": "dfa20f58-c8d6-41f5-9963-8383d81ff5db",
   "metadata": {},
   "source": [
    "Python provides conveniet _literals_ (syntax specific to that data structure). As you can see in the previous example, lists can contain items of any type (including lists, themselves)."
   ]
  },
  {
   "cell_type": "code",
   "execution_count": 62,
   "id": "f88ab2e0-2646-4214-be80-acfed319444f",
   "metadata": {},
   "outputs": [
    {
     "data": {
      "text/plain": [
       "[1, 2, 3, 'Homer', 4.5, True, 3, 3, 3, [1, 2, 3]]"
      ]
     },
     "execution_count": 62,
     "metadata": {},
     "output_type": "execute_result"
    }
   ],
   "source": [
    "[1, 2, 3, \"Homer\", 4.5,  True, 3, 3, 3, [1,2,3]]"
   ]
  },
  {
   "cell_type": "markdown",
   "id": "d00c9b77-886f-4c37-976f-878f250959be",
   "metadata": {},
   "source": [
    "Methods available for lists:"
   ]
  },
  {
   "cell_type": "code",
   "execution_count": 63,
   "id": "ab07177e-e4b1-4805-a45b-bf57567bbe80",
   "metadata": {},
   "outputs": [
    {
     "data": {
      "text/html": [
       "<ul\"><li style=\"list-style-type:none;display:inline-block;margin:0px 1%;\"><b>append</b></li><li style=\"list-style-type:none;display:inline-block;margin:0px 1%;\"><b>clear</b></li><li style=\"list-style-type:none;display:inline-block;margin:0px 1%;\"><b>copy</b></li><li style=\"list-style-type:none;display:inline-block;margin:0px 1%;\"><b>count</b></li><li style=\"list-style-type:none;display:inline-block;margin:0px 1%;\"><b>extend</b></li><li style=\"list-style-type:none;display:inline-block;margin:0px 1%;\"><b>index</b></li><li style=\"list-style-type:none;display:inline-block;margin:0px 1%;\"><b>insert</b></li><li style=\"list-style-type:none;display:inline-block;margin:0px 1%;\"><b>pop</b></li><li style=\"list-style-type:none;display:inline-block;margin:0px 1%;\"><b>remove</b></li><li style=\"list-style-type:none;display:inline-block;margin:0px 1%;\"><b>reverse</b></li><li style=\"list-style-type:none;display:inline-block;margin:0px 1%;\"><b>sort</b></li></ul>"
      ],
      "text/plain": [
       "<IPython.core.display.HTML object>"
      ]
     },
     "execution_count": 63,
     "metadata": {},
     "output_type": "execute_result"
    }
   ],
   "source": [
    "show_methods(list())"
   ]
  },
  {
   "cell_type": "code",
   "execution_count": 64,
   "id": "e368e7e8-0a99-4659-a91f-6e33af108a91",
   "metadata": {},
   "outputs": [
    {
     "data": {
      "text/plain": [
       "list"
      ]
     },
     "execution_count": 64,
     "metadata": {},
     "output_type": "execute_result"
    }
   ],
   "source": [
    "type([1,2,3])"
   ]
  },
  {
   "cell_type": "markdown",
   "id": "a9f24833-068b-4d3c-a30e-37f5b23ca3d6",
   "metadata": {},
   "source": [
    "Like `str`, `int`, `float` and  `bool`, the name of the type is also the constructor of the type"
   ]
  },
  {
   "cell_type": "code",
   "execution_count": 69,
   "id": "3bbfa06d-c900-43cd-a8be-f05a70116c20",
   "metadata": {},
   "outputs": [
    {
     "data": {
      "text/plain": [
       "[]"
      ]
     },
     "execution_count": 69,
     "metadata": {},
     "output_type": "execute_result"
    }
   ],
   "source": [
    "mylist = list()\n",
    "mylist"
   ]
  },
  {
   "cell_type": "code",
   "execution_count": 70,
   "id": "7dbb40d2-3e33-4c5a-b22a-53c5309514c8",
   "metadata": {},
   "outputs": [
    {
     "data": {
      "text/plain": [
       "[2]"
      ]
     },
     "execution_count": 70,
     "metadata": {},
     "output_type": "execute_result"
    }
   ],
   "source": [
    "mylist.append(2)\n",
    "mylist"
   ]
  },
  {
   "cell_type": "code",
   "execution_count": 71,
   "id": "3114f92c-2815-4761-ac7c-1fbe87d0c37b",
   "metadata": {},
   "outputs": [
    {
     "data": {
      "text/plain": [
       "[2, 3]"
      ]
     },
     "execution_count": 71,
     "metadata": {},
     "output_type": "execute_result"
    }
   ],
   "source": [
    "mylist.append(3)\n",
    "mylist"
   ]
  },
  {
   "cell_type": "code",
   "execution_count": 68,
   "id": "efe1d580-fe56-4c02-9424-66e156907eff",
   "metadata": {},
   "outputs": [
    {
     "data": {
      "text/plain": [
       "[2, 3, 4, 5]"
      ]
     },
     "execution_count": 68,
     "metadata": {},
     "output_type": "execute_result"
    }
   ],
   "source": [
    "mylist.extend([4,5])\n",
    "mylist"
   ]
  },
  {
   "cell_type": "code",
   "execution_count": 72,
   "id": "910f47ce-cb71-4acb-bde3-a8bacac0a339",
   "metadata": {},
   "outputs": [
    {
     "data": {
      "text/plain": [
       "[2, 3, [4, 5]]"
      ]
     },
     "execution_count": 72,
     "metadata": {},
     "output_type": "execute_result"
    }
   ],
   "source": [
    "mylist.append([4,5])\n",
    "mylist"
   ]
  },
  {
   "cell_type": "markdown",
   "id": "88ce6c8b-c047-4009-9104-18f92ef65d67",
   "metadata": {},
   "source": [
    "##### Getting values out of lists"
   ]
  },
  {
   "cell_type": "code",
   "execution_count": 73,
   "id": "99e42b5d-79fc-43fa-a198-ed45b52112ec",
   "metadata": {},
   "outputs": [
    {
     "data": {
      "text/plain": [
       "['Homer', 'Marge', 'Bart', 'Lisa', 'Maggie']"
      ]
     },
     "execution_count": 73,
     "metadata": {},
     "output_type": "execute_result"
    }
   ],
   "source": [
    "simpsons = [\"Homer\", \"Marge\", \"Bart\", \"Lisa\", \"Maggie\"]\n",
    "simpsons"
   ]
  },
  {
   "cell_type": "markdown",
   "id": "3d329fb2-a122-4165-9817-3fc857d865d4",
   "metadata": {},
   "source": [
    "Python is a _zero_ index language. The first item in a list is at index location _0_, NOT _1_"
   ]
  },
  {
   "cell_type": "code",
   "execution_count": 74,
   "id": "3b8a375e-5d1a-49de-84a8-aaef70064306",
   "metadata": {},
   "outputs": [
    {
     "data": {
      "text/plain": [
       "'Marge'"
      ]
     },
     "execution_count": 74,
     "metadata": {},
     "output_type": "execute_result"
    }
   ],
   "source": [
    "simpsons[1]"
   ]
  },
  {
   "cell_type": "code",
   "execution_count": 75,
   "id": "c9cda117-caa7-41f2-9342-3862e3895ebc",
   "metadata": {},
   "outputs": [
    {
     "data": {
      "text/plain": [
       "'Homer'"
      ]
     },
     "execution_count": 75,
     "metadata": {},
     "output_type": "execute_result"
    }
   ],
   "source": [
    "simpsons[0]"
   ]
  },
  {
   "cell_type": "markdown",
   "id": "16911d07-67d5-44f9-b838-91f039d4c83c",
   "metadata": {},
   "source": [
    "You can index values from the end by using negative numbers"
   ]
  },
  {
   "cell_type": "code",
   "execution_count": 76,
   "id": "a605f70d-c706-4e79-8f2a-0ce489af5571",
   "metadata": {},
   "outputs": [
    {
     "data": {
      "text/plain": [
       "'Maggie'"
      ]
     },
     "execution_count": 76,
     "metadata": {},
     "output_type": "execute_result"
    }
   ],
   "source": [
    "simpsons[-1]"
   ]
  },
  {
   "cell_type": "code",
   "execution_count": 77,
   "id": "a7b8bb9b-c49a-4966-9a69-db2601f9472b",
   "metadata": {},
   "outputs": [
    {
     "data": {
      "text/plain": [
       "'Lisa'"
      ]
     },
     "execution_count": 77,
     "metadata": {},
     "output_type": "execute_result"
    }
   ],
   "source": [
    "simpsons[-2]"
   ]
  },
  {
   "cell_type": "markdown",
   "id": "cd6c87b5-3ad9-4e22-9125-c6488955b207",
   "metadata": {},
   "source": [
    "You can get a range of values in the same expression: `start:end:step`\n",
    "Note that the _end_ number is _not inclusive_. "
   ]
  },
  {
   "cell_type": "code",
   "execution_count": 78,
   "id": "400ae784-6fcf-4485-a2d5-aac8977a24bf",
   "metadata": {},
   "outputs": [
    {
     "data": {
      "text/plain": [
       "['Marge', 'Bart', 'Lisa']"
      ]
     },
     "execution_count": 78,
     "metadata": {},
     "output_type": "execute_result"
    }
   ],
   "source": [
    "simpsons[1:4]"
   ]
  },
  {
   "cell_type": "code",
   "execution_count": 79,
   "id": "8e0ba1b8-9669-47f2-869b-96a30264a998",
   "metadata": {},
   "outputs": [
    {
     "data": {
      "text/plain": [
       "['Marge']"
      ]
     },
     "execution_count": 79,
     "metadata": {},
     "output_type": "execute_result"
    }
   ],
   "source": [
    "simpsons[1:2]"
   ]
  },
  {
   "cell_type": "markdown",
   "id": "51699c9f-058e-411d-936f-35fa503d23c3",
   "metadata": {},
   "source": [
    "You can skip the _start_ value if you want the range to start at the beginning (you don't have to provide a _zero_)"
   ]
  },
  {
   "cell_type": "code",
   "execution_count": 80,
   "id": "5bcbbe7d-65a7-40be-877d-3281b37166cc",
   "metadata": {},
   "outputs": [
    {
     "data": {
      "text/plain": [
       "['Homer', 'Marge', 'Bart']"
      ]
     },
     "execution_count": 80,
     "metadata": {},
     "output_type": "execute_result"
    }
   ],
   "source": [
    "simpsons[:3]"
   ]
  },
  {
   "cell_type": "code",
   "execution_count": 81,
   "id": "8cc696b8-b563-4a72-8d53-50a3785ec721",
   "metadata": {},
   "outputs": [
    {
     "data": {
      "text/plain": [
       "['Marge', 'Bart', 'Lisa', 'Maggie']"
      ]
     },
     "execution_count": 81,
     "metadata": {},
     "output_type": "execute_result"
    }
   ],
   "source": [
    "simpsons[1:]"
   ]
  },
  {
   "cell_type": "markdown",
   "id": "ab0d743a-5d92-4e8c-9f50-66a4e9c69417",
   "metadata": {},
   "source": [
    "Similarly, you can skip the _end_ if you want the range to go to the end"
   ]
  },
  {
   "cell_type": "code",
   "execution_count": 82,
   "id": "d96416e1-bf20-4428-834c-cc760832fa6a",
   "metadata": {},
   "outputs": [
    {
     "data": {
      "text/plain": [
       "['Bart', 'Lisa', 'Maggie']"
      ]
     },
     "execution_count": 82,
     "metadata": {},
     "output_type": "execute_result"
    }
   ],
   "source": [
    "simpsons[2:]"
   ]
  },
  {
   "cell_type": "code",
   "execution_count": 83,
   "id": "487e70d9-2a37-4a77-b5d8-378c034ce55b",
   "metadata": {},
   "outputs": [
    {
     "data": {
      "text/plain": [
       "['Homer', 'Bart', 'Maggie']"
      ]
     },
     "execution_count": 83,
     "metadata": {},
     "output_type": "execute_result"
    }
   ],
   "source": [
    "simpsons[::2] #Extract every other item"
   ]
  },
  {
   "cell_type": "code",
   "execution_count": 84,
   "id": "63c9e1b3-933f-434f-bfb8-840ba9eb4f50",
   "metadata": {},
   "outputs": [
    {
     "data": {
      "text/plain": [
       "['Marge']"
      ]
     },
     "execution_count": 84,
     "metadata": {},
     "output_type": "execute_result"
    }
   ],
   "source": [
    "simpsons[1:2]"
   ]
  },
  {
   "cell_type": "markdown",
   "id": "b98dcd3b-a398-42a3-9d68-f9f3753b7fe2",
   "metadata": {},
   "source": [
    "Combine these utilities as you wish"
   ]
  },
  {
   "cell_type": "code",
   "execution_count": 85,
   "id": "1f28a203-72fc-4ccc-a5aa-28c59d6733b3",
   "metadata": {},
   "outputs": [
    {
     "data": {
      "text/plain": [
       "['Bart', 'Lisa']"
      ]
     },
     "execution_count": 85,
     "metadata": {},
     "output_type": "execute_result"
    }
   ],
   "source": [
    "simpsons[2:-1] #Remember, the last item is not included"
   ]
  },
  {
   "cell_type": "markdown",
   "id": "dcb1aca8-ebdd-4e8e-be4a-8f0d164eff7a",
   "metadata": {},
   "source": [
    "**Exercise** Given the list `simpsons`, defined above, retrieve the following items from it:"
   ]
  },
  {
   "cell_type": "code",
   "execution_count": null,
   "id": "316464c0-f66c-4d16-90e9-ff2f3c23c2d3",
   "metadata": {},
   "outputs": [],
   "source": [
    "%%postcell exercise_025_095_i\n",
    "\n",
    "# First element\n",
    "print(...)\n",
    "\n",
    "#Last element\n",
    "print(...)\n",
    "\n",
    "#Last two elements\n",
    "print(...)\n",
    "\n"
   ]
  },
  {
   "cell_type": "markdown",
   "id": "2eba6931-01b9-4585-963f-50bf804f148f",
   "metadata": {},
   "source": [
    "##### Strings and lists"
   ]
  },
  {
   "cell_type": "markdown",
   "id": "b9d230dd-a92e-419d-b6d2-92ee41cc4272",
   "metadata": {},
   "source": [
    "Note that strings can also be queried as lists"
   ]
  },
  {
   "cell_type": "code",
   "execution_count": 86,
   "id": "8bfd036d-0b86-49ca-89cf-e5063b873d35",
   "metadata": {},
   "outputs": [
    {
     "data": {
      "text/plain": [
       "'Homer'"
      ]
     },
     "execution_count": 86,
     "metadata": {},
     "output_type": "execute_result"
    }
   ],
   "source": [
    "\"Mr. Homer Simpson\"[4:9]"
   ]
  },
  {
   "cell_type": "code",
   "execution_count": 87,
   "id": "1f0bfe8b-ce87-4e19-ba7e-57ecd2a604c0",
   "metadata": {},
   "outputs": [
    {
     "data": {
      "text/plain": [
       "'Simpson'"
      ]
     },
     "execution_count": 87,
     "metadata": {},
     "output_type": "execute_result"
    }
   ],
   "source": [
    "\"Mr. Homer Simpson\"[-7:]"
   ]
  },
  {
   "cell_type": "code",
   "execution_count": 88,
   "id": "183748ba-c0b4-47e0-a2ea-4b93f0446cf0",
   "metadata": {},
   "outputs": [
    {
     "data": {
      "text/plain": [
       "'Mr.'"
      ]
     },
     "execution_count": 88,
     "metadata": {},
     "output_type": "execute_result"
    }
   ],
   "source": [
    "\"Mr. Homer Simpson\"[:3]"
   ]
  },
  {
   "cell_type": "markdown",
   "id": "c553fab5-78ad-4b33-9cb2-b14263740fc9",
   "metadata": {},
   "source": [
    "Strings can be broken up, or _tokenized_ in various ways"
   ]
  },
  {
   "cell_type": "code",
   "execution_count": 89,
   "id": "a92c845c-82a0-404e-8599-5273d6a1fa30",
   "metadata": {},
   "outputs": [
    {
     "data": {
      "text/plain": [
       "[\"We've\", 'tried', 'nothing,', 'and', \"we're\", 'all', 'out', 'of', 'ideas']"
      ]
     },
     "execution_count": 89,
     "metadata": {},
     "output_type": "execute_result"
    }
   ],
   "source": [
    "\"We've tried nothing, and we're all out of ideas\".split()"
   ]
  },
  {
   "cell_type": "code",
   "execution_count": 90,
   "id": "f65b0a9a-6198-434f-84eb-a86d0c7eb95b",
   "metadata": {},
   "outputs": [
    {
     "data": {
      "text/plain": [
       "[\"We've\", 'tried', 'nothing,', 'and', \"we're\", 'all', 'out', 'of', 'ideas']"
      ]
     },
     "execution_count": 90,
     "metadata": {},
     "output_type": "execute_result"
    }
   ],
   "source": [
    "\"We've tried nothing, and we're all out of ideas\".split(' ')"
   ]
  },
  {
   "cell_type": "code",
   "execution_count": 91,
   "id": "d844973e-8735-4708-855f-2920228aaa0c",
   "metadata": {},
   "outputs": [
    {
     "data": {
      "text/plain": [
       "[\"We've tried nothing\", \" and we're all out of ideas\"]"
      ]
     },
     "execution_count": 91,
     "metadata": {},
     "output_type": "execute_result"
    }
   ],
   "source": [
    "\"We've tried nothing, and we're all out of ideas\".split(',')"
   ]
  },
  {
   "cell_type": "markdown",
   "id": "6b3d0bac-97d8-4348-98bd-3bd5011f23a1",
   "metadata": {},
   "source": [
    "A list of tokens can be combined back into a string"
   ]
  },
  {
   "cell_type": "code",
   "execution_count": 92,
   "id": "cfa9663d-ab79-41c0-b5af-1523456c0d1c",
   "metadata": {},
   "outputs": [
    {
     "data": {
      "text/plain": [
       "['Homer', 'Marge', 'Bart', 'Lisa', 'Maggie']"
      ]
     },
     "execution_count": 92,
     "metadata": {},
     "output_type": "execute_result"
    }
   ],
   "source": [
    "names = ['Homer', 'Marge', 'Bart', 'Lisa', 'Maggie']\n",
    "names"
   ]
  },
  {
   "cell_type": "code",
   "execution_count": 94,
   "id": "7b3fabac-dd6b-4a3c-8982-a22e0d7a469f",
   "metadata": {},
   "outputs": [
    {
     "data": {
      "text/plain": [
       "'Homer Marge Bart Lisa Maggie'"
      ]
     },
     "execution_count": 94,
     "metadata": {},
     "output_type": "execute_result"
    }
   ],
   "source": [
    "' '.join(names)"
   ]
  },
  {
   "cell_type": "code",
   "execution_count": 95,
   "id": "1301b707-b27c-4b29-a3e1-932f5b242d10",
   "metadata": {},
   "outputs": [
    {
     "data": {
      "text/plain": [
       "'Homer, Marge, Bart, Lisa, Maggie'"
      ]
     },
     "execution_count": 95,
     "metadata": {},
     "output_type": "execute_result"
    }
   ],
   "source": [
    "', '.join(names)"
   ]
  },
  {
   "cell_type": "code",
   "execution_count": 96,
   "id": "65f9248d-ca3b-45c7-be55-b56d451ae101",
   "metadata": {},
   "outputs": [
    {
     "data": {
      "text/plain": [
       "'Homer and Marge and Bart and Lisa and Maggie'"
      ]
     },
     "execution_count": 96,
     "metadata": {},
     "output_type": "execute_result"
    }
   ],
   "source": [
    "' and '.join(names)"
   ]
  },
  {
   "cell_type": "markdown",
   "id": "d08cb4dc-6ede-4b64-89ef-865a4e0eb58b",
   "metadata": {},
   "source": [
    "**Exercise** Print the first word in the sentence below"
   ]
  },
  {
   "cell_type": "code",
   "execution_count": null,
   "id": "bf256dfd-1c3c-4430-8c9d-d32ceeb9d0ac",
   "metadata": {},
   "outputs": [],
   "source": [
    "%%postcell exercise_025_095_j\n",
    "\n",
    "\"We've tried nothing, and we're all out of ideas\""
   ]
  },
  {
   "cell_type": "markdown",
   "id": "01536ac1-c809-448b-ac00-28cd1e55f04a",
   "metadata": {},
   "source": [
    "### Tuples"
   ]
  },
  {
   "cell_type": "markdown",
   "id": "d1dfc6c0-e95e-42ed-a3e7-9727954365de",
   "metadata": {},
   "source": [
    "Tuples are not available in many older mainstream languages. They are very similar to lists. Unlike lists, tuples are _immutable_ (once created, they cannot be changed). While lists use `[]` square brackets, tuples use `()` round brackets. "
   ]
  },
  {
   "cell_type": "code",
   "execution_count": 97,
   "id": "20dd3bb6-87f4-4b79-a4ad-2f6f75c8b968",
   "metadata": {},
   "outputs": [
    {
     "data": {
      "text/plain": [
       "['homer', 'marge']"
      ]
     },
     "execution_count": 97,
     "metadata": {},
     "output_type": "execute_result"
    }
   ],
   "source": [
    "l = ['homer', 'marge']\n",
    "l"
   ]
  },
  {
   "cell_type": "code",
   "execution_count": 98,
   "id": "aa549dbb-ac80-4e3c-826d-d0f318be8567",
   "metadata": {},
   "outputs": [
    {
     "data": {
      "text/plain": [
       "('homer', 'marge')"
      ]
     },
     "execution_count": 98,
     "metadata": {},
     "output_type": "execute_result"
    }
   ],
   "source": [
    "t = ('homer', 'marge')\n",
    "t"
   ]
  },
  {
   "cell_type": "code",
   "execution_count": 99,
   "id": "51b70b78-0813-499c-b37e-4f1681033a97",
   "metadata": {},
   "outputs": [
    {
     "data": {
      "text/plain": [
       "'homer'"
      ]
     },
     "execution_count": 99,
     "metadata": {},
     "output_type": "execute_result"
    }
   ],
   "source": [
    "l[0]"
   ]
  },
  {
   "cell_type": "code",
   "execution_count": 100,
   "id": "e207fdb2-1e0e-4783-aedb-85a0e851db76",
   "metadata": {},
   "outputs": [
    {
     "data": {
      "text/plain": [
       "'homer'"
      ]
     },
     "execution_count": 100,
     "metadata": {},
     "output_type": "execute_result"
    }
   ],
   "source": [
    "t[0]"
   ]
  },
  {
   "cell_type": "code",
   "execution_count": 101,
   "id": "3c543f6d-3769-4afe-a9ac-6f1f1a95d95a",
   "metadata": {},
   "outputs": [
    {
     "data": {
      "text/plain": [
       "['HOMER', 'marge']"
      ]
     },
     "execution_count": 101,
     "metadata": {},
     "output_type": "execute_result"
    }
   ],
   "source": [
    "l[0] = 'HOMER'\n",
    "l"
   ]
  },
  {
   "cell_type": "code",
   "execution_count": 102,
   "id": "22eee47b-4f28-4b37-aaa4-4f3b35674935",
   "metadata": {},
   "outputs": [
    {
     "ename": "TypeError",
     "evalue": "'tuple' object does not support item assignment",
     "output_type": "error",
     "traceback": [
      "\u001b[1;31m---------------------------------------------------------------------------\u001b[0m",
      "\u001b[1;31mTypeError\u001b[0m                                 Traceback (most recent call last)",
      "\u001b[1;32m~\\AppData\\Local\\Temp\\ipykernel_39788\\1059640598.py\u001b[0m in \u001b[0;36m<module>\u001b[1;34m\u001b[0m\n\u001b[1;32m----> 1\u001b[1;33m \u001b[0mt\u001b[0m\u001b[1;33m[\u001b[0m\u001b[1;36m0\u001b[0m\u001b[1;33m]\u001b[0m \u001b[1;33m=\u001b[0m \u001b[1;34m'HOMER'\u001b[0m\u001b[1;33m\u001b[0m\u001b[1;33m\u001b[0m\u001b[0m\n\u001b[0m\u001b[0;32m      2\u001b[0m \u001b[0mt\u001b[0m\u001b[1;33m\u001b[0m\u001b[1;33m\u001b[0m\u001b[0m\n",
      "\u001b[1;31mTypeError\u001b[0m: 'tuple' object does not support item assignment"
     ]
    }
   ],
   "source": [
    "t[0] = 'HOMER'\n",
    "t"
   ]
  },
  {
   "cell_type": "markdown",
   "id": "09980686-ab30-4598-a053-904a011d9cd3",
   "metadata": {},
   "source": [
    "Beginning students may be confused why tuples exist, when lists are already avilable. Although there is a technical reason for their existance: immutable data structures can be used as dictionary keys, for example, the real reason is that their semantics are different. \n",
    "\n",
    "For example, if a function returns a list, that means that the result of the function can be any number of items, between zero and _n_. For example, a `search(...)` function may return any number of results.\n",
    "\n",
    "However, if a function returns a tuple, it should be expected to return a specific number of items. For example, `get_first_and_last_name()` will not arbitrarily return zero or 100 items."
   ]
  },
  {
   "cell_type": "markdown",
   "id": "e7165384-2d2e-4c80-b5e0-f4633a84fcd8",
   "metadata": {},
   "source": [
    "We will look at tuples in greater detail in a later notebook. For now, just be aware that when you see output like `(1,2)`, you are still looking at a collection of items. "
   ]
  },
  {
   "cell_type": "code",
   "execution_count": 103,
   "id": "d16acebe-b415-4330-8071-5ba76175752a",
   "metadata": {},
   "outputs": [
    {
     "data": {
      "text/plain": [
       "(1, 2)"
      ]
     },
     "execution_count": 103,
     "metadata": {},
     "output_type": "execute_result"
    }
   ],
   "source": [
    "1,2"
   ]
  },
  {
   "cell_type": "markdown",
   "id": "392ed9a3-3dae-4954-9c30-615ccfcfe7f6",
   "metadata": {},
   "source": [
    "Tuples are sometimes used to return multiple values from a function"
   ]
  },
  {
   "cell_type": "code",
   "execution_count": 104,
   "id": "73c3689a-d184-40bc-b59a-dc363cecac37",
   "metadata": {},
   "outputs": [],
   "source": [
    "def f():\n",
    "    return 1,2"
   ]
  },
  {
   "cell_type": "code",
   "execution_count": 105,
   "id": "64a4f27f-d29c-4bbf-bf22-85528e98d959",
   "metadata": {},
   "outputs": [
    {
     "data": {
      "text/plain": [
       "'1,2'"
      ]
     },
     "execution_count": 111,
     "metadata": {},
     "output_type": "execute_result"
    }
   ],
   "source": [
    "f()"
   ]
  },
  {
   "cell_type": "markdown",
   "id": "4e069b91-b183-4614-a678-3817278e8298",
   "metadata": {},
   "source": [
    "Python allows multiple assignment, necessary for tuples"
   ]
  },
  {
   "cell_type": "code",
   "execution_count": 106,
   "id": "dcc96f30-0d85-4d96-9a49-d0d69c29b2ca",
   "metadata": {},
   "outputs": [],
   "source": [
    "x, y = f()"
   ]
  },
  {
   "cell_type": "code",
   "execution_count": 107,
   "id": "6b67778b-8cbb-4b45-b14c-a018d7bcf2c8",
   "metadata": {},
   "outputs": [
    {
     "data": {
      "text/plain": [
       "1"
      ]
     },
     "execution_count": 107,
     "metadata": {},
     "output_type": "execute_result"
    }
   ],
   "source": [
    "x"
   ]
  },
  {
   "cell_type": "code",
   "execution_count": 108,
   "id": "35493c00-0a36-4d5a-8548-f9abf9396a5a",
   "metadata": {},
   "outputs": [
    {
     "data": {
      "text/plain": [
       "2"
      ]
     },
     "execution_count": 108,
     "metadata": {},
     "output_type": "execute_result"
    }
   ],
   "source": [
    "y"
   ]
  },
  {
   "cell_type": "markdown",
   "id": "5467993f-bb96-435e-9fd9-91f21e55c90d",
   "metadata": {},
   "source": [
    "##### Methods on tuples"
   ]
  },
  {
   "cell_type": "code",
   "execution_count": 109,
   "id": "01f1259d-00a0-4fbe-b79a-01e7f199fa29",
   "metadata": {},
   "outputs": [
    {
     "data": {
      "text/html": [
       "<ul\"><li style=\"list-style-type:none;display:inline-block;margin:0px 1%;\"><b>count</b></li><li style=\"list-style-type:none;display:inline-block;margin:0px 1%;\"><b>index</b></li></ul>"
      ],
      "text/plain": [
       "<IPython.core.display.HTML object>"
      ]
     },
     "execution_count": 109,
     "metadata": {},
     "output_type": "execute_result"
    }
   ],
   "source": [
    "show_methods((1,2))"
   ]
  },
  {
   "cell_type": "markdown",
   "id": "7c90ee7a-48a4-43b1-87b7-c6838baf4f7b",
   "metadata": {},
   "source": [
    "### Sets"
   ]
  },
  {
   "cell_type": "markdown",
   "id": "dad12657-fd99-4bb6-bace-c9a407d0e10c",
   "metadata": {},
   "source": [
    "Sets in Python are similar to the _set_ data structure found in many other langauges. In general, it represents the standard mathematical set. Unlike lists, elements in a sent have no order and no duplicates."
   ]
  },
  {
   "cell_type": "code",
   "execution_count": 112,
   "id": "9b6bfafc-e4ce-49ce-854e-573244fd0ad3",
   "metadata": {},
   "outputs": [
    {
     "data": {
      "text/plain": [
       "[1, 1, 2, 3, 3, 3, 4, 5]"
      ]
     },
     "execution_count": 112,
     "metadata": {},
     "output_type": "execute_result"
    }
   ],
   "source": [
    "[1,1,2,3,3,3,4,5]"
   ]
  },
  {
   "cell_type": "code",
   "execution_count": 113,
   "id": "9c3f520b-1710-4d62-a353-265c7d58c053",
   "metadata": {},
   "outputs": [
    {
     "data": {
      "text/plain": [
       "{1, 2, 3, 4, 5}"
      ]
     },
     "execution_count": 113,
     "metadata": {},
     "output_type": "execute_result"
    }
   ],
   "source": [
    "set([1,1,2,3,3,3,4,5])"
   ]
  },
  {
   "cell_type": "code",
   "execution_count": 114,
   "id": "a5dfd250-45b8-4f73-8d73-2cbdf4993d3f",
   "metadata": {},
   "outputs": [
    {
     "data": {
      "text/plain": [
       "set()"
      ]
     },
     "execution_count": 114,
     "metadata": {},
     "output_type": "execute_result"
    }
   ],
   "source": [
    "moes_customers = set()\n",
    "moes_customers"
   ]
  },
  {
   "cell_type": "code",
   "execution_count": 115,
   "id": "03d01be6-5c25-4ea2-893b-558ca5c11556",
   "metadata": {},
   "outputs": [
    {
     "data": {
      "text/plain": [
       "{'Barney', 'Homer'}"
      ]
     },
     "execution_count": 115,
     "metadata": {},
     "output_type": "execute_result"
    }
   ],
   "source": [
    "moes_customers.add('Homer')\n",
    "moes_customers.add('Barney')\n",
    "moes_customers"
   ]
  },
  {
   "cell_type": "code",
   "execution_count": 116,
   "id": "3148683f-d19e-4a9d-9d7f-535e8b180865",
   "metadata": {},
   "outputs": [
    {
     "data": {
      "text/plain": [
       "{'Barney', 'Homer'}"
      ]
     },
     "execution_count": 116,
     "metadata": {},
     "output_type": "execute_result"
    }
   ],
   "source": [
    "moes_customers.add('Homer')\n",
    "moes_customers"
   ]
  },
  {
   "cell_type": "markdown",
   "id": "8b7f0470-7e60-4adb-9657-64f986428338",
   "metadata": {},
   "source": [
    "Sets, mathematical or as programming concepts, come with a few standard operations. Given two sets, you can find elements which are common to both `intersection`, elements which exists in either set `union`, elements which exist in one set but not the other `difference`, etc."
   ]
  },
  {
   "cell_type": "code",
   "execution_count": 118,
   "id": "d66c5f68-9884-4d4c-8acb-da63516432dd",
   "metadata": {},
   "outputs": [],
   "source": [
    "marketing_campaign_customers = set(['homer', 'apu', 'lisa', 'monty', 'maggie'])\n",
    "older_customers = set(['abe', 'seymore', 'monty', 'homer', 'apu'])\n",
    "senior_customers = set(['abe', 'monty'])"
   ]
  },
  {
   "cell_type": "markdown",
   "id": "3372cab2-c285-4dec-bd7f-ae5708b1aab2",
   "metadata": {},
   "source": [
    "Which customers appear in either set (`union`)"
   ]
  },
  {
   "cell_type": "code",
   "execution_count": 119,
   "id": "9afb9613-1608-4975-b70a-4a3317442170",
   "metadata": {},
   "outputs": [
    {
     "data": {
      "text/plain": [
       "{'abe', 'apu', 'homer', 'lisa', 'maggie', 'monty', 'seymore'}"
      ]
     },
     "execution_count": 119,
     "metadata": {},
     "output_type": "execute_result"
    }
   ],
   "source": [
    "marketing_campaign_customers.union(older_customers)"
   ]
  },
  {
   "cell_type": "code",
   "execution_count": 120,
   "id": "8d9f5532-f2ee-490b-b297-ba678107f3b0",
   "metadata": {},
   "outputs": [
    {
     "data": {
      "text/plain": [
       "{'abe', 'apu', 'homer', 'lisa', 'maggie', 'monty', 'seymore'}"
      ]
     },
     "execution_count": 120,
     "metadata": {},
     "output_type": "execute_result"
    }
   ],
   "source": [
    "marketing_campaign_customers | older_customers"
   ]
  },
  {
   "cell_type": "markdown",
   "id": "0fc87c2a-6b60-4aaa-8977-e05fb1bced03",
   "metadata": {},
   "source": [
    "Which customers show up in both sets (`intersection`)"
   ]
  },
  {
   "cell_type": "code",
   "execution_count": 121,
   "id": "f037d22a-f6ca-4400-b8dc-b97abc5b6670",
   "metadata": {},
   "outputs": [
    {
     "data": {
      "text/plain": [
       "{'apu', 'homer', 'monty'}"
      ]
     },
     "execution_count": 121,
     "metadata": {},
     "output_type": "execute_result"
    }
   ],
   "source": [
    "marketing_campaign_customers.intersection(older_customers)"
   ]
  },
  {
   "cell_type": "code",
   "execution_count": 122,
   "id": "07ee2b49-55f7-440e-80ad-fe25befcbf55",
   "metadata": {},
   "outputs": [
    {
     "data": {
      "text/plain": [
       "{'apu', 'homer', 'monty'}"
      ]
     },
     "execution_count": 122,
     "metadata": {},
     "output_type": "execute_result"
    }
   ],
   "source": [
    "marketing_campaign_customers & older_customers"
   ]
  },
  {
   "cell_type": "markdown",
   "id": "0708d849-c78a-4e19-b6d1-f15f0c51e445",
   "metadata": {},
   "source": [
    "Which customers are in one set but not the other? (`difference`)"
   ]
  },
  {
   "cell_type": "code",
   "execution_count": 123,
   "id": "2e4dfc66-647e-4875-bcda-bbdf643905db",
   "metadata": {},
   "outputs": [
    {
     "data": {
      "text/plain": [
       "{'lisa', 'maggie'}"
      ]
     },
     "execution_count": 123,
     "metadata": {},
     "output_type": "execute_result"
    }
   ],
   "source": [
    "marketing_campaign_customers.difference(older_customers)"
   ]
  },
  {
   "cell_type": "code",
   "execution_count": 124,
   "id": "ca7028ee-d761-47ee-9097-a2c479513ee1",
   "metadata": {},
   "outputs": [
    {
     "data": {
      "text/plain": [
       "{'lisa', 'maggie'}"
      ]
     },
     "execution_count": 124,
     "metadata": {},
     "output_type": "execute_result"
    }
   ],
   "source": [
    "marketing_campaign_customers - older_customers"
   ]
  },
  {
   "cell_type": "code",
   "execution_count": 125,
   "id": "b9e70b00-2a0b-453a-a5b1-37dc0c6b3533",
   "metadata": {},
   "outputs": [
    {
     "data": {
      "text/plain": [
       "{'abe', 'seymore'}"
      ]
     },
     "execution_count": 125,
     "metadata": {},
     "output_type": "execute_result"
    }
   ],
   "source": [
    "older_customers.difference(marketing_campaign_customers)"
   ]
  },
  {
   "cell_type": "code",
   "execution_count": 126,
   "id": "367bf244-f8b5-4b09-9223-368242cd3b33",
   "metadata": {},
   "outputs": [
    {
     "data": {
      "text/plain": [
       "{'abe', 'seymore'}"
      ]
     },
     "execution_count": 126,
     "metadata": {},
     "output_type": "execute_result"
    }
   ],
   "source": [
    "older_customers - marketing_campaign_customers"
   ]
  },
  {
   "cell_type": "markdown",
   "id": "bab140ea-5c6c-4ba0-bfe2-6f58680dbde8",
   "metadata": {},
   "source": [
    "TODO:\n",
    "Do the sets have _any_ members in common? (`isdisjoint`)"
   ]
  },
  {
   "cell_type": "code",
   "execution_count": null,
   "id": "fe74e986-3194-4726-b739-fda4790fbf54",
   "metadata": {},
   "outputs": [],
   "source": [
    "marketing_campaign_customers.isdisjoint(older_customers)"
   ]
  },
  {
   "cell_type": "markdown",
   "id": "8049a2ce-ec2e-4aed-acf9-22b4eeb8a482",
   "metadata": {},
   "source": [
    "Are 'senior' customers also considered 'older' customers? (`issubset`, `issuperset`, proper sub/super sets)"
   ]
  },
  {
   "cell_type": "code",
   "execution_count": null,
   "id": "9cc205a4-23b1-4c0d-9803-da5e69636f26",
   "metadata": {},
   "outputs": [],
   "source": [
    "senior_customers.issubset(older_customers)"
   ]
  },
  {
   "cell_type": "code",
   "execution_count": null,
   "id": "58840223-9045-4800-9415-ea4390da36d7",
   "metadata": {},
   "outputs": [],
   "source": [
    "senior_customers <= older_customers"
   ]
  },
  {
   "cell_type": "markdown",
   "id": "e8758438-4319-492d-92b7-0348b09eb33a",
   "metadata": {},
   "source": [
    "**Exercise** Most popular names https://en.wiktionary.org/wiki/Appendix:Most_popular_given_names_by_country\n",
    "Canadian names are from 2003 (of English speaknig population) and American names are from 2005.\n",
    "\n",
    "The lists are very similar. \n",
    "1. Which names appear in the Canadian list, but not the American list\n",
    "2. Which names appear in both lists"
   ]
  },
  {
   "cell_type": "code",
   "execution_count": null,
   "id": "c3358ee7-376c-4a05-a738-106204163c5c",
   "metadata": {},
   "outputs": [],
   "source": [
    "%%postcell exercise_025_095_k\n",
    "\n",
    "canada = ['Emily', 'Emma', 'Madison', 'Sarah', 'Hannah', 'Sydney', 'Megan', 'Ashley', 'Taylor', 'Paige']\n",
    "usa    = ['Emily', 'Emma', 'Madison', 'Abigail', 'Olivia', 'Isabella', 'Hannah', 'Samantha', 'Ava', 'Ashley']\n",
    "\n",
    "#Type code here"
   ]
  },
  {
   "cell_type": "markdown",
   "id": "5d4c5fef-4113-4688-9ccf-30d987c202d3",
   "metadata": {},
   "source": [
    "### Dictionaries"
   ]
  },
  {
   "cell_type": "markdown",
   "id": "5929a47f-cbf3-4df1-85f8-2059a16a9ebf",
   "metadata": {},
   "source": [
    "Python dictionaries, sometimes called maps or associative arrays in other langauges are a basic data structure. Dictionaries, as the name implies, are used to store two associated values: keys and values."
   ]
  },
  {
   "cell_type": "code",
   "execution_count": 127,
   "id": "d8d8a952-e440-4557-adf2-3b187c72d50b",
   "metadata": {},
   "outputs": [
    {
     "data": {
      "text/plain": [
       "{'homer': 36, 'marge': 34}"
      ]
     },
     "execution_count": 127,
     "metadata": {},
     "output_type": "execute_result"
    }
   ],
   "source": [
    "simpson_ages = {'homer': 36, 'marge': 34}\n",
    "simpson_ages"
   ]
  },
  {
   "cell_type": "markdown",
   "id": "b48b541a-503c-41f0-99c4-b6a609e5a7ce",
   "metadata": {},
   "source": [
    "Dictionaries are designed so values can be looked up via keys. Generally, dictionaries are not \"bi-directional.\" Given a value, you can't look up keys."
   ]
  },
  {
   "cell_type": "code",
   "execution_count": 128,
   "id": "20093e45-b503-4ee1-9a2a-3bbf0d471875",
   "metadata": {},
   "outputs": [
    {
     "data": {
      "text/plain": [
       "36"
      ]
     },
     "execution_count": 128,
     "metadata": {},
     "output_type": "execute_result"
    }
   ],
   "source": [
    "simpson_ages['homer']"
   ]
  },
  {
   "cell_type": "markdown",
   "id": "b546df75-e43d-4ca8-965a-aaf558cfaacd",
   "metadata": {},
   "source": [
    "Dictionary methods:"
   ]
  },
  {
   "cell_type": "code",
   "execution_count": 129,
   "id": "cc3ed320-302b-478b-810f-7f0b4c342b79",
   "metadata": {},
   "outputs": [
    {
     "data": {
      "text/html": [
       "<ul\"><li style=\"list-style-type:none;display:inline-block;margin:0px 1%;\"><b>clear</b></li><li style=\"list-style-type:none;display:inline-block;margin:0px 1%;\"><b>copy</b></li><li style=\"list-style-type:none;display:inline-block;margin:0px 1%;\"><b>fromkeys</b></li><li style=\"list-style-type:none;display:inline-block;margin:0px 1%;\"><b>get</b></li><li style=\"list-style-type:none;display:inline-block;margin:0px 1%;\"><b>items</b></li><li style=\"list-style-type:none;display:inline-block;margin:0px 1%;\"><b>keys</b></li><li style=\"list-style-type:none;display:inline-block;margin:0px 1%;\"><b>pop</b></li><li style=\"list-style-type:none;display:inline-block;margin:0px 1%;\"><b>popitem</b></li><li style=\"list-style-type:none;display:inline-block;margin:0px 1%;\"><b>setdefault</b></li><li style=\"list-style-type:none;display:inline-block;margin:0px 1%;\"><b>update</b></li><li style=\"list-style-type:none;display:inline-block;margin:0px 1%;\"><b>values</b></li></ul>"
      ],
      "text/plain": [
       "<IPython.core.display.HTML object>"
      ]
     },
     "execution_count": 129,
     "metadata": {},
     "output_type": "execute_result"
    }
   ],
   "source": [
    "show_methods(simpson_ages)"
   ]
  },
  {
   "cell_type": "code",
   "execution_count": 130,
   "id": "cae39894-79c2-429c-9bcd-1dd692e27a64",
   "metadata": {},
   "outputs": [
    {
     "data": {
      "text/plain": [
       "dict"
      ]
     },
     "execution_count": 130,
     "metadata": {},
     "output_type": "execute_result"
    }
   ],
   "source": [
    "type(simpson_ages)"
   ]
  },
  {
   "cell_type": "markdown",
   "id": "81c81016-7f12-4c40-b1c8-59645cbd72e4",
   "metadata": {},
   "source": [
    "Let's use `dict` as a constructor to create a set and test it"
   ]
  },
  {
   "cell_type": "code",
   "execution_count": 131,
   "id": "c85ac14e-87db-4f58-88b5-a89791777448",
   "metadata": {},
   "outputs": [
    {
     "data": {
      "text/plain": [
       "{}"
      ]
     },
     "execution_count": 131,
     "metadata": {},
     "output_type": "execute_result"
    }
   ],
   "source": [
    "simpson_ages = dict()\n",
    "simpson_ages"
   ]
  },
  {
   "cell_type": "code",
   "execution_count": 132,
   "id": "cde30309-4617-40b5-b5aa-442f14ac95ac",
   "metadata": {},
   "outputs": [
    {
     "data": {
      "text/plain": [
       "{'homer': 36}"
      ]
     },
     "execution_count": 132,
     "metadata": {},
     "output_type": "execute_result"
    }
   ],
   "source": [
    "simpson_ages['homer'] = 36\n",
    "simpson_ages"
   ]
  },
  {
   "cell_type": "code",
   "execution_count": 133,
   "id": "f3365ed6-6e0e-46cd-932f-bd87a95c7832",
   "metadata": {},
   "outputs": [
    {
     "data": {
      "text/plain": [
       "{'homer': 36, 'marge': 34}"
      ]
     },
     "execution_count": 133,
     "metadata": {},
     "output_type": "execute_result"
    }
   ],
   "source": [
    "simpson_ages['marge'] = 34\n",
    "simpson_ages"
   ]
  },
  {
   "cell_type": "code",
   "execution_count": 134,
   "id": "7dc1af8e-6711-4ef4-999d-4c16120fbf43",
   "metadata": {},
   "outputs": [
    {
     "data": {
      "text/plain": [
       "36"
      ]
     },
     "execution_count": 134,
     "metadata": {},
     "output_type": "execute_result"
    }
   ],
   "source": [
    "simpson_ages['homer']"
   ]
  },
  {
   "cell_type": "markdown",
   "id": "ef4b747b-bfdf-44ac-b6b5-457f23a626d9",
   "metadata": {},
   "source": [
    "Dictionaries can contain almost any type:"
   ]
  },
  {
   "cell_type": "code",
   "execution_count": 135,
   "id": "f19b80ac-5454-4e39-8754-67ca5600e349",
   "metadata": {},
   "outputs": [],
   "source": [
    "my_second_dictionary = {\"key1\": \"value1\", \"key2\": 2, \"key3\": \"value3\", 4:\"value4\", \"4\":\"value4str\"}"
   ]
  },
  {
   "cell_type": "code",
   "execution_count": 136,
   "id": "b0560078-530c-49d4-af31-ff500a789b9f",
   "metadata": {},
   "outputs": [
    {
     "data": {
      "text/plain": [
       "'value1'"
      ]
     },
     "execution_count": 136,
     "metadata": {},
     "output_type": "execute_result"
    }
   ],
   "source": [
    "my_second_dictionary[\"key1\"]"
   ]
  },
  {
   "cell_type": "code",
   "execution_count": 137,
   "id": "ea7f3cff-c8c0-4511-a778-fb1840885f93",
   "metadata": {},
   "outputs": [
    {
     "data": {
      "text/plain": [
       "'value4'"
      ]
     },
     "execution_count": 137,
     "metadata": {},
     "output_type": "execute_result"
    }
   ],
   "source": [
    "my_second_dictionary[4]"
   ]
  },
  {
   "cell_type": "code",
   "execution_count": 138,
   "id": "940f59f2-930a-4445-9741-330b0aedc206",
   "metadata": {},
   "outputs": [
    {
     "data": {
      "text/plain": [
       "'value4str'"
      ]
     },
     "execution_count": 138,
     "metadata": {},
     "output_type": "execute_result"
    }
   ],
   "source": [
    "my_second_dictionary[\"4\"]"
   ]
  },
  {
   "cell_type": "code",
   "execution_count": 139,
   "id": "35fb550b-3128-461e-8ad2-354b7670bbcc",
   "metadata": {},
   "outputs": [
    {
     "data": {
      "text/plain": [
       "2"
      ]
     },
     "execution_count": 139,
     "metadata": {},
     "output_type": "execute_result"
    }
   ],
   "source": [
    "my_second_dictionary[\"key2\"]"
   ]
  },
  {
   "cell_type": "code",
   "execution_count": 140,
   "id": "2057dcdf-5893-4aea-b6a4-e2d067ec9b6a",
   "metadata": {},
   "outputs": [
    {
     "data": {
      "text/plain": [
       "{'key1': 'value1', 'key2': 2, 'key3': 'value3', 4: 'value4', '4': 'value4str'}"
      ]
     },
     "execution_count": 140,
     "metadata": {},
     "output_type": "execute_result"
    }
   ],
   "source": [
    "my_second_dictionary"
   ]
  },
  {
   "cell_type": "markdown",
   "id": "04d6ec4d-cb25-4f44-b23d-e8227355dd5a",
   "metadata": {},
   "source": [
    "Much like lists, dictionaries can even contain other data structures"
   ]
  },
  {
   "cell_type": "code",
   "execution_count": 141,
   "id": "14a6f1f0-41a9-4c80-acee-b14aff59d5dc",
   "metadata": {},
   "outputs": [
    {
     "data": {
      "text/plain": [
       "{'key1': 'value1', 'key2': [1, 2, 3], 'key3': {'inner': 'dictionary'}}"
      ]
     },
     "execution_count": 141,
     "metadata": {},
     "output_type": "execute_result"
    }
   ],
   "source": [
    "my_third_dict = {\"key1\": \"value1\", \"key2\": [1,2,3], \"key3\": {\"inner\": \"dictionary\"}}\n",
    "my_third_dict"
   ]
  },
  {
   "cell_type": "code",
   "execution_count": 142,
   "id": "49570192-7594-47d2-ab6a-b7e7c859864a",
   "metadata": {},
   "outputs": [
    {
     "data": {
      "text/plain": [
       "[1, 2, 3]"
      ]
     },
     "execution_count": 142,
     "metadata": {},
     "output_type": "execute_result"
    }
   ],
   "source": [
    "my_third_dict['key2']"
   ]
  },
  {
   "cell_type": "code",
   "execution_count": 143,
   "id": "b884adb2-631c-4624-9daf-d990a35cb96f",
   "metadata": {},
   "outputs": [
    {
     "data": {
      "text/plain": [
       "3"
      ]
     },
     "execution_count": 143,
     "metadata": {},
     "output_type": "execute_result"
    }
   ],
   "source": [
    "my_third_dict['key2'][-1]"
   ]
  },
  {
   "cell_type": "code",
   "execution_count": 144,
   "id": "51eb83fa-9abe-473d-bbeb-0e23cd468859",
   "metadata": {},
   "outputs": [
    {
     "data": {
      "text/plain": [
       "'dictionary'"
      ]
     },
     "execution_count": 144,
     "metadata": {},
     "output_type": "execute_result"
    }
   ],
   "source": [
    "my_third_dict['key3']['inner']"
   ]
  },
  {
   "cell_type": "markdown",
   "id": "8f1146a3-4211-4528-abcd-d4b5b85a824a",
   "metadata": {},
   "source": [
    "**Exercise** Given the dictionary below (children listed in age order: oldest first), find\n",
    "1. Simpsons' youngest child's name\n",
    "2. Flanders' oldest child's gender"
   ]
  },
  {
   "cell_type": "code",
   "execution_count": null,
   "id": "d842d135-f76f-4049-8e62-5935ba823ca7",
   "metadata": {},
   "outputs": [],
   "source": [
    "%%postcell exercise_025_095_l\n",
    "\n",
    "families = {\n",
    "    'Simpson': [{'name':'Bart', 'gender':'Male'}, {'name':'Lisa', 'gender':'Female'}, {'name':'Maggie', 'gender':'Female'}],\n",
    "    'Flanders': [{'name':'Todd', 'gender':'Male'}, {'name':'Rod', 'gender':'Male'}]\n",
    "}\n",
    "\n",
    "#Type code here\n"
   ]
  },
  {
   "cell_type": "markdown",
   "id": "050d9951-3c40-43e7-9ca6-c705716e853d",
   "metadata": {},
   "source": [
    "### Common operations"
   ]
  },
  {
   "cell_type": "markdown",
   "id": "50d48c84-b023-4bc9-8ae5-a75ffcf54d2d",
   "metadata": {},
   "source": [
    "Python (as well as most other programming languages) provide functions which work across data structures. Programmers can accomplish similar tasks using the same syntax."
   ]
  },
  {
   "cell_type": "code",
   "execution_count": 151,
   "id": "73f4abfc-ae13-4d2b-9535-bb88f2fe00ab",
   "metadata": {},
   "outputs": [],
   "source": [
    "list1 = [1,2,3,4,5]\n",
    "dict1 = {1:\"one\", 2:\"two\", 3:\"three\", 4:\"four\", 5:\"five\"}\n",
    "tup1  = (1, 2, 3, 4, 5)\n",
    "set1  = set(list1)\n",
    "str1  = \"hello\""
   ]
  },
  {
   "cell_type": "code",
   "execution_count": 152,
   "id": "9e95a01b-928d-434c-aeac-1dad2d925967",
   "metadata": {},
   "outputs": [],
   "source": [
    "list2 = []\n",
    "dict2 = {}\n",
    "tup2  = ()\n",
    "set2  = set()\n",
    "str2  = \"\""
   ]
  },
  {
   "cell_type": "markdown",
   "id": "06476bb5-22c4-40dc-8017-9e3a3060cd6f",
   "metadata": {},
   "source": [
    "Size of data structures"
   ]
  },
  {
   "cell_type": "code",
   "execution_count": 153,
   "id": "df6132ce-6224-45ad-acf3-094e74c33515",
   "metadata": {},
   "outputs": [
    {
     "data": {
      "text/plain": [
       "(5, 5, 5, 5, 5)"
      ]
     },
     "execution_count": 153,
     "metadata": {},
     "output_type": "execute_result"
    }
   ],
   "source": [
    "len(list1), len(dict1), len(tup1), len(set1), len(str1)"
   ]
  },
  {
   "cell_type": "markdown",
   "id": "a11809b0-538c-4a6a-91af-2c4d4c838004",
   "metadata": {},
   "source": [
    "Get value at an index or a keyword"
   ]
  },
  {
   "cell_type": "code",
   "execution_count": 156,
   "id": "ccb33220-e76a-4ff9-8dab-f3e27f4f3c2f",
   "metadata": {},
   "outputs": [
    {
     "data": {
      "text/plain": [
       "(3, 'two', 3, 'l')"
      ]
     },
     "execution_count": 156,
     "metadata": {},
     "output_type": "execute_result"
    }
   ],
   "source": [
    "list1[2], dict1[2], tup1[2], str1[2] #, set1[2]"
   ]
  },
  {
   "cell_type": "markdown",
   "id": "b0039bf9-c372-4609-b2a9-6208023db89f",
   "metadata": {},
   "source": [
    "Check if an item exists"
   ]
  },
  {
   "cell_type": "code",
   "execution_count": 157,
   "id": "cced45e7-e900-436e-b5d7-9405244669e9",
   "metadata": {},
   "outputs": [
    {
     "data": {
      "text/plain": [
       "True"
      ]
     },
     "execution_count": 157,
     "metadata": {},
     "output_type": "execute_result"
    }
   ],
   "source": [
    "2 in list1"
   ]
  },
  {
   "cell_type": "code",
   "execution_count": 158,
   "id": "07830325-75ca-418d-8d5a-2bc4f49dbaec",
   "metadata": {},
   "outputs": [
    {
     "data": {
      "text/plain": [
       "True"
      ]
     },
     "execution_count": 158,
     "metadata": {},
     "output_type": "execute_result"
    }
   ],
   "source": [
    "2 in dict1"
   ]
  },
  {
   "cell_type": "code",
   "execution_count": 159,
   "id": "186ad767-a933-4409-bd25-dfa3b7e4cc34",
   "metadata": {},
   "outputs": [
    {
     "data": {
      "text/plain": [
       "False"
      ]
     },
     "execution_count": 159,
     "metadata": {},
     "output_type": "execute_result"
    }
   ],
   "source": [
    "\"four\" in dict1"
   ]
  },
  {
   "cell_type": "code",
   "execution_count": 160,
   "id": "a070171e-af07-41dc-9874-8460bcf601f1",
   "metadata": {},
   "outputs": [
    {
     "data": {
      "text/plain": [
       "True"
      ]
     },
     "execution_count": 160,
     "metadata": {},
     "output_type": "execute_result"
    }
   ],
   "source": [
    "2 in tup1"
   ]
  },
  {
   "cell_type": "code",
   "execution_count": 161,
   "id": "67a5c8ab-5835-4ffb-8941-fd13b00b97b9",
   "metadata": {},
   "outputs": [
    {
     "data": {
      "text/plain": [
       "True"
      ]
     },
     "execution_count": 161,
     "metadata": {},
     "output_type": "execute_result"
    }
   ],
   "source": [
    "2 in set1"
   ]
  },
  {
   "cell_type": "code",
   "execution_count": 162,
   "id": "fe38130d-52b6-418e-b623-44ad0617ae38",
   "metadata": {},
   "outputs": [
    {
     "data": {
      "text/plain": [
       "True"
      ]
     },
     "execution_count": 162,
     "metadata": {},
     "output_type": "execute_result"
    }
   ],
   "source": [
    "'l' in str1"
   ]
  },
  {
   "cell_type": "markdown",
   "id": "c128324b-2e67-4647-8d2e-a427fdcd4310",
   "metadata": {},
   "source": [
    "Remove an item"
   ]
  },
  {
   "cell_type": "code",
   "execution_count": 163,
   "id": "e75155b3-b98a-42bd-ab59-715ff96dfe8b",
   "metadata": {},
   "outputs": [
    {
     "data": {
      "text/plain": [
       "[1, 2, 3, 4, 5]"
      ]
     },
     "execution_count": 163,
     "metadata": {},
     "output_type": "execute_result"
    }
   ],
   "source": [
    "list1"
   ]
  },
  {
   "cell_type": "code",
   "execution_count": 164,
   "id": "c8ea8e86-b9b8-4478-914b-bbfccab71abc",
   "metadata": {},
   "outputs": [],
   "source": [
    "del list1[2]"
   ]
  },
  {
   "cell_type": "code",
   "execution_count": 165,
   "id": "f441337f-bd92-45d2-ac57-823d0b6a0896",
   "metadata": {},
   "outputs": [
    {
     "data": {
      "text/plain": [
       "[1, 2, 4, 5]"
      ]
     },
     "execution_count": 165,
     "metadata": {},
     "output_type": "execute_result"
    }
   ],
   "source": [
    "list1"
   ]
  },
  {
   "cell_type": "code",
   "execution_count": 166,
   "id": "d92e545a-d49d-454d-9a6f-e425843744c6",
   "metadata": {},
   "outputs": [
    {
     "data": {
      "text/plain": [
       "{1: 'one', 2: 'two', 3: 'three', 4: 'four', 5: 'five'}"
      ]
     },
     "execution_count": 166,
     "metadata": {},
     "output_type": "execute_result"
    }
   ],
   "source": [
    "dict1"
   ]
  },
  {
   "cell_type": "code",
   "execution_count": 167,
   "id": "fff92a0d-0dd5-4300-b5d2-8d35f5bdde86",
   "metadata": {},
   "outputs": [],
   "source": [
    "del dict1[2]"
   ]
  },
  {
   "cell_type": "code",
   "execution_count": 168,
   "id": "4ccab4ab-88cd-4e39-88a0-e2a3a87a9e91",
   "metadata": {},
   "outputs": [
    {
     "data": {
      "text/plain": [
       "{1: 'one', 3: 'three', 4: 'four', 5: 'five'}"
      ]
     },
     "execution_count": 168,
     "metadata": {},
     "output_type": "execute_result"
    }
   ],
   "source": [
    "dict1"
   ]
  },
  {
   "cell_type": "markdown",
   "id": "2c7a7f0a-eb41-4304-be13-06737f74a4a4",
   "metadata": {},
   "source": [
    "Strings and tupples are _immutable_, hence, can't be changed."
   ]
  },
  {
   "cell_type": "code",
   "execution_count": null,
   "id": "94f32cc3-d5b2-4969-8a37-1bc8cf433974",
   "metadata": {},
   "outputs": [],
   "source": [
    "# del str1[2]\n",
    "# del tup1[2]"
   ]
  },
  {
   "cell_type": "markdown",
   "id": "09fe0296-e16b-4d26-8ab5-c71796d48d1b",
   "metadata": {},
   "source": [
    "Set elements can't be access via an index location (since they have no order)"
   ]
  },
  {
   "cell_type": "code",
   "execution_count": 169,
   "id": "3ee68ec6-4c87-438d-b6ce-6753ce14b1c3",
   "metadata": {},
   "outputs": [
    {
     "data": {
      "text/plain": [
       "{1, 2, 3, 4, 5}"
      ]
     },
     "execution_count": 169,
     "metadata": {},
     "output_type": "execute_result"
    }
   ],
   "source": [
    "set1"
   ]
  },
  {
   "cell_type": "code",
   "execution_count": 170,
   "id": "1333879f-83dd-485e-836b-2e2f5d524ce8",
   "metadata": {},
   "outputs": [],
   "source": [
    "# del set1[2]\n",
    "set1.remove(2)"
   ]
  },
  {
   "cell_type": "code",
   "execution_count": 171,
   "id": "b64fc760-0703-46f6-8e29-4d802620afb1",
   "metadata": {},
   "outputs": [
    {
     "data": {
      "text/plain": [
       "{1, 3, 4, 5}"
      ]
     },
     "execution_count": 171,
     "metadata": {},
     "output_type": "execute_result"
    }
   ],
   "source": [
    "set1"
   ]
  },
  {
   "cell_type": "markdown",
   "id": "9ab8d2ef-5cd2-44ad-9ef1-e7955776f2ba",
   "metadata": {},
   "source": [
    "Modify an item"
   ]
  },
  {
   "cell_type": "code",
   "execution_count": 172,
   "id": "515becd4-047d-4f49-9c96-4db0ace0c30f",
   "metadata": {},
   "outputs": [
    {
     "data": {
      "text/plain": [
       "[1, 2, 4, 5]"
      ]
     },
     "execution_count": 172,
     "metadata": {},
     "output_type": "execute_result"
    }
   ],
   "source": [
    "list1"
   ]
  },
  {
   "cell_type": "code",
   "execution_count": 173,
   "id": "3eab051a-cdb3-401b-95e6-e307305a8d85",
   "metadata": {},
   "outputs": [],
   "source": [
    "list1[1] = 45"
   ]
  },
  {
   "cell_type": "code",
   "execution_count": 174,
   "id": "87e314e6-d6a3-4529-8f76-a34c5f73146e",
   "metadata": {},
   "outputs": [
    {
     "data": {
      "text/plain": [
       "[1, 45, 4, 5]"
      ]
     },
     "execution_count": 174,
     "metadata": {},
     "output_type": "execute_result"
    }
   ],
   "source": [
    "list1"
   ]
  },
  {
   "cell_type": "code",
   "execution_count": 175,
   "id": "c78169c4-16aa-4586-ab51-473082982626",
   "metadata": {},
   "outputs": [
    {
     "data": {
      "text/plain": [
       "{1: 'one', 3: 'three', 4: 'four', 5: 'five'}"
      ]
     },
     "execution_count": 175,
     "metadata": {},
     "output_type": "execute_result"
    }
   ],
   "source": [
    "dict1"
   ]
  },
  {
   "cell_type": "code",
   "execution_count": 176,
   "id": "10a2de39-5d75-4c40-8081-0d51b020942d",
   "metadata": {},
   "outputs": [],
   "source": [
    "dict1[1] = 45"
   ]
  },
  {
   "cell_type": "code",
   "execution_count": 177,
   "id": "507c33fa-464a-4840-9751-812e2b662e72",
   "metadata": {},
   "outputs": [
    {
     "data": {
      "text/plain": [
       "{1: 45, 3: 'three', 4: 'four', 5: 'five'}"
      ]
     },
     "execution_count": 177,
     "metadata": {},
     "output_type": "execute_result"
    }
   ],
   "source": [
    "dict1"
   ]
  },
  {
   "cell_type": "markdown",
   "id": "95b810d8-9a03-4a72-bfeb-ebeaf5dcb35f",
   "metadata": {},
   "source": [
    "As seen earlier, strings and tuples are immutable and sets don't have index locations"
   ]
  },
  {
   "cell_type": "markdown",
   "id": "3d96ad0a-4e86-498c-a6c5-e515e41dbc5b",
   "metadata": {},
   "source": [
    "See the **truthiness** section below for more examples"
   ]
  },
  {
   "cell_type": "markdown",
   "id": "7b8719a1-a85c-4ced-8ff3-16effa92c27f",
   "metadata": {},
   "source": [
    "## Control flow statements"
   ]
  },
  {
   "cell_type": "markdown",
   "id": "bd310b07-bac5-4a00-9cce-2a0b46fb4724",
   "metadata": {},
   "source": [
    "### Loops"
   ]
  },
  {
   "cell_type": "markdown",
   "id": "776d4be8-87d9-4e6c-b1f5-57899b49d25c",
   "metadata": {},
   "source": [
    "Across programming langages, the synatx for loops seems to fall into two categories. Older languages use the `for(int i = 0; i < MAX; i++){ ...}` syntax. More modern syntax is closer to `for item in list ...`\n",
    "\n",
    "Python follows the more recent syntax"
   ]
  },
  {
   "cell_type": "code",
   "execution_count": 178,
   "id": "2426eb5a-9afc-40c4-8000-245eebf1f66b",
   "metadata": {},
   "outputs": [
    {
     "name": "stdout",
     "output_type": "stream",
     "text": [
      "Homer\n",
      "Marge\n",
      "Bart\n",
      "Lisa\n",
      "Maggie\n",
      "Done with the loop\n"
     ]
    }
   ],
   "source": [
    "for name in ['homer', 'marge', 'bart', 'lisa', 'maggie']:\n",
    "    print(name.capitalize())\n",
    "\n",
    "print(\"Done with the loop\")"
   ]
  },
  {
   "cell_type": "markdown",
   "id": "23fc8757-0f74-4310-a6b5-758132efcef0",
   "metadata": {},
   "source": [
    "Notice again that indentation matters! In fact, in Python, indentation is how you define the scope of a loop (or a function, if/else clause, etc.)"
   ]
  },
  {
   "cell_type": "code",
   "execution_count": 179,
   "id": "98753427-9933-4cfd-ae1b-49d5068708ac",
   "metadata": {},
   "outputs": [
    {
     "name": "stdout",
     "output_type": "stream",
     "text": [
      "Length of the word this  is 4\n",
      "Length of the word sentence  is 8\n",
      "Length of the word has  is 3\n",
      "Length of the word a  is 1\n",
      "Length of the word few  is 3\n",
      "Length of the word words  is 5\n",
      "Length of the word in  is 2\n",
      "Length of the word it  is 2\n"
     ]
    }
   ],
   "source": [
    "for word in \"this sentence has a few words in it\".split(\" \"):\n",
    "    print(\"Length of the word\", word,\" is\", len(word))"
   ]
  },
  {
   "cell_type": "markdown",
   "id": "feb15294-a0f5-4c3a-a647-8e001ebcd67b",
   "metadata": {},
   "source": [
    "##### A quick detour for _Iterables_"
   ]
  },
  {
   "cell_type": "markdown",
   "id": "268a2d09-55a1-4b40-a00e-b9d1d6f6ddf8",
   "metadata": {},
   "source": [
    "You just saw that Python lets you loop over a list. In reality, Python let's you loop over a more generic type called `Iterable`. _You can iterate over anythihng which is iterable_.\n",
    "\n",
    "A good example of an iterable, which is not a list is a file"
   ]
  },
  {
   "cell_type": "code",
   "execution_count": null,
   "id": "77a676cd-5c73-43ff-8886-7c369739263e",
   "metadata": {},
   "outputs": [],
   "source": [
    "counter = 0\n",
    "with open('../../datasets/deaths-in-gameofthrones/game-of-thrones-deaths-data.csv', encoding='utf8') as file:\n",
    "    for line in file:\n",
    "        counter += 1\n",
    "\n",
    "print(counter)"
   ]
  },
  {
   "cell_type": "markdown",
   "id": "50f947b4-49b0-460b-b0f3-fce08566feae",
   "metadata": {},
   "source": [
    "A file is not a list! In some ways it is similar, but a list is a different object.\n",
    "\n",
    "Let's try another"
   ]
  },
  {
   "cell_type": "code",
   "execution_count": 181,
   "id": "8f0ba74c-5fcd-4a3a-aadd-90c8233242c0",
   "metadata": {},
   "outputs": [
    {
     "name": "stdout",
     "output_type": "stream",
     "text": [
      "0\n",
      "1\n",
      "2\n",
      "3\n",
      "4\n",
      "5\n",
      "6\n",
      "7\n",
      "8\n",
      "9\n"
     ]
    }
   ],
   "source": [
    "for i in range(10):\n",
    "    print(i)"
   ]
  },
  {
   "cell_type": "code",
   "execution_count": 182,
   "id": "c0130d6e-c0e7-4040-b0da-ce130c882887",
   "metadata": {},
   "outputs": [
    {
     "data": {
      "text/plain": [
       "range(0, 10)"
      ]
     },
     "execution_count": 182,
     "metadata": {},
     "output_type": "execute_result"
    }
   ],
   "source": [
    "range(10)"
   ]
  },
  {
   "cell_type": "code",
   "execution_count": 183,
   "id": "074be7be-6a8e-4b71-81fa-44ac4ae3bda9",
   "metadata": {},
   "outputs": [
    {
     "data": {
      "text/plain": [
       "[0, 1, 2, 3, 4, 5, 6, 7, 8, 9]"
      ]
     },
     "execution_count": 183,
     "metadata": {},
     "output_type": "execute_result"
    }
   ],
   "source": [
    "list(range(10))"
   ]
  },
  {
   "cell_type": "markdown",
   "id": "375d0a63-1261-4769-953c-99181a3875fb",
   "metadata": {},
   "source": [
    "A `range` is not a list! In some ways it is similar, but a list is a different object."
   ]
  },
  {
   "cell_type": "markdown",
   "id": "8323a389-2b8c-4cd9-b374-e8cba694c41a",
   "metadata": {},
   "source": [
    "So in what ways are `list`, `range` and a file similar? They are all iterables."
   ]
  },
  {
   "cell_type": "markdown",
   "id": "dae2ab6d-0393-467a-933d-79f533e277a5",
   "metadata": {},
   "source": [
    "A Python object, closely related to loops and lists is an iterable. Think of iterables as objects which can be looped over. You have seen that we can loop over lists and files. Lists and files are clearly two completely differnt things. However, they both provide the concept if `next()`. A file can thought of as an object which returns a new line everytime the `next()` function is called. A list can do the same. They don't have to represent the same concept, but they can be similar just because we can _iterate_ over them.\n",
    "\n",
    "There are many other items in Python which one can iterate over. A good example is the well used `range` function. See this example:"
   ]
  },
  {
   "cell_type": "code",
   "execution_count": 184,
   "id": "38658eec-1ec8-4b0b-9a80-961bf247d31d",
   "metadata": {},
   "outputs": [],
   "source": [
    "import sys"
   ]
  },
  {
   "cell_type": "code",
   "execution_count": 185,
   "id": "1895bc45-80d3-46ab-9d2b-f8dba2936540",
   "metadata": {},
   "outputs": [
    {
     "data": {
      "text/plain": [
       "64"
      ]
     },
     "execution_count": 185,
     "metadata": {},
     "output_type": "execute_result"
    }
   ],
   "source": [
    "sys.getsizeof([1])"
   ]
  },
  {
   "cell_type": "code",
   "execution_count": 186,
   "id": "a38b3628-d19c-4407-b214-464c023dbcbf",
   "metadata": {},
   "outputs": [
    {
     "data": {
      "text/plain": [
       "120"
      ]
     },
     "execution_count": 186,
     "metadata": {},
     "output_type": "execute_result"
    }
   ],
   "source": [
    "sys.getsizeof([1,2,3,4,5])"
   ]
  },
  {
   "cell_type": "code",
   "execution_count": 187,
   "id": "4d183cf9-ea83-440c-be89-e72d7194ba9c",
   "metadata": {},
   "outputs": [
    {
     "data": {
      "text/plain": [
       "152"
      ]
     },
     "execution_count": 187,
     "metadata": {},
     "output_type": "execute_result"
    }
   ],
   "source": [
    "sys.getsizeof([1,2,3,4,5,6,7,8,9,10])"
   ]
  },
  {
   "cell_type": "code",
   "execution_count": 188,
   "id": "0139b7a8-95e2-45ac-9370-f1b08510d472",
   "metadata": {},
   "outputs": [
    {
     "data": {
      "text/plain": [
       "48"
      ]
     },
     "execution_count": 188,
     "metadata": {},
     "output_type": "execute_result"
    }
   ],
   "source": [
    "sys.getsizeof(range(100000000000000000000000000000000000000000000000000))"
   ]
  },
  {
   "cell_type": "markdown",
   "id": "40d5eb51-c1ef-4bca-ab4a-988d8382e1b8",
   "metadata": {},
   "source": [
    "The `range` function is creating an absoloutely giant list! It should blow up our computer, instead it shows that its size, in memory, is only 48 bytes?\n",
    "\n",
    "That's because `range()` doesn't actually create a giant list. It only creates an iterator. Everytime the loop calls `next()` on it, it takes the current number, adds one to it and returns that number. No need to maintain a giant list!\n",
    "\n",
    "This is also why you can loop through a file which is 10 times larger than your memory. The for loop isn't actually creating a list, then iterating through it. It is ready the data _on demand_ or in a _lazy_ fashion.\n",
    "\n",
    "Note that the `next()` function I've mentioned a few times is actually called `__next__`, since it is generally not supposed to be used by human programmers. It is used by Python code internally, such as loops."
   ]
  },
  {
   "cell_type": "markdown",
   "id": "cb561633-e0ac-4487-9538-81050e5a8f9a",
   "metadata": {},
   "source": [
    "##### ... back to loops"
   ]
  },
  {
   "cell_type": "markdown",
   "id": "d75b1b88-5898-4b3d-a8d4-48eb4e6569d7",
   "metadata": {},
   "source": [
    "`range`, `enumerate` and `zip` are two of the most important functions related to loops. Two additonal keywords: `break` and `continue` are also necessary to fully utilize loops"
   ]
  },
  {
   "cell_type": "markdown",
   "id": "9251bc64-486e-4011-9c49-5a7342e56e21",
   "metadata": {},
   "source": [
    "Recall that the older syntax used to be `for(int i=0; i < MAX; i++){..}`. Although this syntax was more cumbersome, it did have one benefit: you always knew which iteration you were in! Is this the first time around the loop or the 25th?\n",
    "\n",
    "We can get this functionality back via `enumerate`"
   ]
  },
  {
   "cell_type": "code",
   "execution_count": 189,
   "id": "525b1665-b00b-4e4c-bd02-4fe45f5921cb",
   "metadata": {},
   "outputs": [
    {
     "name": "stdout",
     "output_type": "stream",
     "text": [
      "Homer\n",
      "Marge\n",
      "Bart\n",
      "Lisa\n",
      "Maggie\n",
      "Done with the loop\n"
     ]
    }
   ],
   "source": [
    "for name in ['homer', 'marge', 'bart', 'lisa', 'maggie']:\n",
    "    print(name.capitalize())\n",
    "\n",
    "print(\"Done with the loop\")"
   ]
  },
  {
   "cell_type": "code",
   "execution_count": 190,
   "id": "d1ad2016-aa01-4402-a32a-499ce6c78487",
   "metadata": {},
   "outputs": [
    {
     "name": "stdout",
     "output_type": "stream",
     "text": [
      "0 Homer\n",
      "1 Marge\n",
      "2 Bart\n",
      "3 Lisa\n",
      "4 Maggie\n",
      "Done with the loop\n"
     ]
    }
   ],
   "source": [
    "for index, name in enumerate(['homer', 'marge', 'bart', 'lisa', 'maggie']):\n",
    "    print(index, name.capitalize())\n",
    "\n",
    "print(\"Done with the loop\")"
   ]
  },
  {
   "cell_type": "markdown",
   "id": "856387a9-868a-4f9b-a70f-2a09562e71a5",
   "metadata": {},
   "source": [
    "There was also a semantic benefit to the earlier syntax. You could choose to run the loop a specific number of times. In other words, in Python, you can easily say \"loop over this list of elements.\" But how do you say \"run this loop 12 times?\""
   ]
  },
  {
   "cell_type": "code",
   "execution_count": null,
   "id": "8a2a04b3-bce9-4e54-b53a-fb2976196e86",
   "metadata": {},
   "outputs": [],
   "source": [
    "for i in range(12):\n",
    "    print(i)"
   ]
  },
  {
   "cell_type": "markdown",
   "id": "265202f7-ffa9-4554-afb2-f5d92a2f210a",
   "metadata": {},
   "source": [
    "**Exerecise** Iterate over a list in the following manner:"
   ]
  },
  {
   "cell_type": "code",
   "execution_count": null,
   "id": "09830bbb-0f05-4680-9424-c4f227cafffd",
   "metadata": {},
   "outputs": [],
   "source": [
    "%%postcell exercise_025_095_m\n",
    "\n",
    "lst = ['homer', 'marge', 'bart', 'lisa', 'maggie']\n",
    "\n",
    "#print each name to screen in a loop\n",
    "\n",
    "#print the first two names in a loop"
   ]
  },
  {
   "cell_type": "markdown",
   "id": "bde77693-b2a2-4485-b7c9-19e9e7cec04c",
   "metadata": {},
   "source": [
    "Finally, how do you iterate over two lists at the same time? Use `zip`!"
   ]
  },
  {
   "cell_type": "code",
   "execution_count": 191,
   "id": "ef83b6ed-9658-4d50-b836-6f7290aeb008",
   "metadata": {},
   "outputs": [
    {
     "data": {
      "text/plain": [
       "[('homer', 34), ('marge', 32), ('bart', 10), ('lisa', 8), ('maggie', 1)]"
      ]
     },
     "execution_count": 191,
     "metadata": {},
     "output_type": "execute_result"
    }
   ],
   "source": [
    "names = ['homer', 'marge', 'bart', 'lisa', 'maggie']\n",
    "ages  = [34, 32, 10, 8, 1]\n",
    "\n",
    "list(zip(names, ages))"
   ]
  },
  {
   "cell_type": "code",
   "execution_count": 192,
   "id": "76b47f91-d6c3-4021-a348-ac58cd6f90cc",
   "metadata": {},
   "outputs": [
    {
     "name": "stdout",
     "output_type": "stream",
     "text": [
      "homer 34\n",
      "marge 32\n",
      "bart 10\n",
      "lisa 8\n",
      "maggie 1\n"
     ]
    }
   ],
   "source": [
    "for name, age in zip(names, ages):\n",
    "    print(name, age)"
   ]
  },
  {
   "cell_type": "code",
   "execution_count": 193,
   "id": "f40f68d3-04fa-4f4e-9a9a-013715c8e42d",
   "metadata": {},
   "outputs": [
    {
     "data": {
      "text/plain": [
       "{'homer': 34, 'marge': 32, 'bart': 10, 'lisa': 8, 'maggie': 1}"
      ]
     },
     "execution_count": 193,
     "metadata": {},
     "output_type": "execute_result"
    }
   ],
   "source": [
    "dict(zip(names, ages))"
   ]
  },
  {
   "cell_type": "code",
   "execution_count": 194,
   "id": "f1561980-be40-4795-b45f-2f144ccbf47a",
   "metadata": {},
   "outputs": [
    {
     "data": {
      "text/plain": [
       "[('homer', 'marge'), ('marge', 'bart'), ('bart', 'lisa'), ('lisa', 'maggie')]"
      ]
     },
     "execution_count": 194,
     "metadata": {},
     "output_type": "execute_result"
    }
   ],
   "source": [
    "list(zip(names, names[1:]))"
   ]
  },
  {
   "cell_type": "markdown",
   "id": "735965c5-88f8-45ff-9ded-175e8ff30e22",
   "metadata": {},
   "source": [
    "An extremely useful keyword related to loops is `break`. This performs the same function as other languages...break out of a loop. \n",
    "\n",
    "For example, given a very large file, how do you only display the first few rows?"
   ]
  },
  {
   "cell_type": "code",
   "execution_count": 195,
   "id": "989f4473-428a-4730-8a66-ded78b467fad",
   "metadata": {},
   "outputs": [
    {
     "name": "stdout",
     "output_type": "stream",
     "text": [
      "order,season,episode,character_killed,killer,method,method_cat,reason,location,allegiance,importance\n",
      "\n",
      "1,1,1,Waymar Royce,White Walker,Ice sword,Blade,Unknown,Beyond the Wall,\"House Royce, Night’s Watch\",2\n",
      "\n",
      "2,1,1,Gared,White Walker,Ice sword,Blade,Unknown,Beyond the Wall,Night’s Watch,2\n",
      "\n",
      "3,1,1,Will,Ned Stark,Sword (Ice),Blade,Deserting the Night’s Watch,Winterfell,Night’s Watch,2\n",
      "\n"
     ]
    }
   ],
   "source": [
    "counter = 0\n",
    "with open('../../datasets/deaths-in-gameofthrones/game-of-thrones-deaths-data.csv', encoding='utf8') as file:\n",
    "    for line in file:\n",
    "        counter += 1\n",
    "        if counter < 5:\n",
    "            print(line)\n",
    "        else:\n",
    "            break # <= If you gone through the first 5 rows, then 'break' out of the loop\n"
   ]
  },
  {
   "cell_type": "markdown",
   "id": "fcf121c6-7ec7-4382-9e5b-274a17545a88",
   "metadata": {},
   "source": [
    "Keep in mind that if you are using nested loops, `break` will only break out of the inner most loop"
   ]
  },
  {
   "cell_type": "code",
   "execution_count": 198,
   "id": "6e78a5f3-ff4b-4cca-802b-16ea3fb7cad5",
   "metadata": {},
   "outputs": [
    {
     "name": "stdout",
     "output_type": "stream",
     "text": [
      "0 0\n",
      "0 1\n",
      "0 2\n",
      "1 0\n",
      "1 1\n",
      "1 2\n",
      "2 0\n",
      "2 1\n",
      "2 2\n",
      "3 0\n",
      "3 1\n",
      "3 2\n",
      "4 0\n",
      "4 1\n",
      "4 2\n"
     ]
    }
   ],
   "source": [
    "for i in range(5):\n",
    "    for j in range(5):\n",
    "        if j == 3: break\n",
    "        print(i, j)"
   ]
  },
  {
   "cell_type": "markdown",
   "id": "1d40c43c-0950-422e-bb90-405dd5793b14",
   "metadata": {},
   "source": [
    "What if you find out that you don't want  to `break` out of the loop completely, but also don't want process the current iteration? You `continue` the loop so it skips the current iteration and continues with the rest of the loop"
   ]
  },
  {
   "cell_type": "code",
   "execution_count": null,
   "id": "a8c90c9d-2cb4-411b-9c7a-6c76853355a8",
   "metadata": {},
   "outputs": [],
   "source": [
    "counter = 0\n",
    "with open('../../datasets/deaths-in-gameofthrones/game-of-thrones-deaths-data.csv', encoding='utf8') as file:\n",
    "    for line in file:\n",
    "        counter += 1\n",
    "        if counter == 1:\n",
    "            continue\n",
    "        if counter < 5:\n",
    "            print(line)\n",
    "        else:\n",
    "            break # <= If you gone through the first 5 rows, then 'break' out of the loop\n"
   ]
  },
  {
   "cell_type": "markdown",
   "id": "61b64e58-4858-479f-882b-164400a7be2e",
   "metadata": {},
   "source": [
    "### If/else conditions"
   ]
  },
  {
   "cell_type": "markdown",
   "id": "649f7ded-a360-4971-aa6c-65f2e2199609",
   "metadata": {},
   "source": [
    "The last part of _loops_ already showed how to use if/else statements in Python. Remember that it is indentation which defines what is and is not part of an if or else block. Parenthesis around the if condition are not necessary. \n",
    "\n",
    "Unlike almost every other language, Python provides an `elif` keyword, often simulated us `else if ...` in other language"
   ]
  },
  {
   "cell_type": "code",
   "execution_count": null,
   "id": "4ec9e1cc-c13e-452f-8339-d7a22a792698",
   "metadata": {},
   "outputs": [],
   "source": [
    "counter = 0\n",
    "with open('../../datasets/deaths-in-gameofthrones/game-of-thrones-deaths-data.csv', encoding='utf8') as file:\n",
    "    for line in file:\n",
    "        counter += 1\n",
    "        if counter == 1:\n",
    "            continue\n",
    "        elif counter < 5:\n",
    "            print(line)\n",
    "        else:\n",
    "            break # <= If you gone through the first 5 rows, then 'break' out of the loop\n"
   ]
  },
  {
   "cell_type": "code",
   "execution_count": null,
   "id": "f1ab91db-8c2c-4353-9c37-4bed6db389ce",
   "metadata": {},
   "outputs": [],
   "source": [
    "gpa = 3\n",
    "\n",
    "if gpa > 3.5:\n",
    "    print(\"A\")\n",
    "else:\n",
    "    if gpa >= 3:\n",
    "        print(\"B\")\n",
    "    else:\n",
    "        print(\"Fail\")"
   ]
  },
  {
   "cell_type": "code",
   "execution_count": 199,
   "id": "2a1b0463-d91b-4843-82d2-2a123c6c13e8",
   "metadata": {},
   "outputs": [
    {
     "name": "stdout",
     "output_type": "stream",
     "text": [
      "B\n"
     ]
    }
   ],
   "source": [
    "gpa = 3\n",
    "\n",
    "if gpa > 3.5:\n",
    "    print(\"A\")\n",
    "elif gpa >= 3.0:\n",
    "    print(\"B\")\n",
    "elif gpa >= 2:\n",
    "    print(\"C\")\n",
    "else:\n",
    "    print(\"F\")"
   ]
  },
  {
   "cell_type": "markdown",
   "id": "1d74ba8c-de26-4702-bae2-ff0d41dab2b9",
   "metadata": {},
   "source": [
    "**Exercise** Iterate over a list in the following manner"
   ]
  },
  {
   "cell_type": "code",
   "execution_count": null,
   "id": "e7ba59d0-536a-4b6e-8035-9ee04799838c",
   "metadata": {},
   "outputs": [],
   "source": [
    "%%postcell exercise_025_095_n\n",
    "\n",
    "lst = ['homer', 'marge', 'bart', 'lisa', 'maggie']\n",
    "\n",
    "#print each name, except lisa, in a loop\n",
    "\n",
    "#print each name, until lisa, then stop printing any further names"
   ]
  },
  {
   "cell_type": "markdown",
   "id": "ff01fb7f-0175-451c-ab33-5c80ba827bec",
   "metadata": {},
   "source": [
    "### Truthiness\n",
    "\n",
    "In `if` conditions and loops, `True` and `False` (or functions which produce them) are not the only valid conditions. Python allows you to use other objects which make the code very convenient.\n",
    "\n",
    "As a general rule, any 'zero' values, empty containers (including empty strings) or None are equal to `False` in `if` conditions and loops."
   ]
  },
  {
   "cell_type": "code",
   "execution_count": 201,
   "id": "4bec1471-0cef-4b15-9f6e-62c429966af0",
   "metadata": {},
   "outputs": [],
   "source": [
    "emptylist = []\n",
    "notemptylist = [1,2,3]"
   ]
  },
  {
   "cell_type": "code",
   "execution_count": 202,
   "id": "d55e8822-f5ff-482f-96be-6e01e92e0812",
   "metadata": {},
   "outputs": [
    {
     "data": {
      "text/plain": [
       "list"
      ]
     },
     "execution_count": 202,
     "metadata": {},
     "output_type": "execute_result"
    }
   ],
   "source": [
    "type(emptylist)"
   ]
  },
  {
   "cell_type": "code",
   "execution_count": 203,
   "id": "9e7d9aa8-7e95-4cea-bfc2-61fbbda9c166",
   "metadata": {},
   "outputs": [
    {
     "data": {
      "text/plain": [
       "(False, True)"
      ]
     },
     "execution_count": 203,
     "metadata": {},
     "output_type": "execute_result"
    }
   ],
   "source": [
    "bool(emptylist), bool(notemptylist)"
   ]
  },
  {
   "cell_type": "code",
   "execution_count": 204,
   "id": "aae3e8d7-d85a-4617-8fdb-f9d60f84fa5d",
   "metadata": {},
   "outputs": [
    {
     "name": "stdout",
     "output_type": "stream",
     "text": [
      "this list IS empty\n"
     ]
    }
   ],
   "source": [
    "if len(emptylist) > 0:\n",
    "    print(\"this list is not empty\")\n",
    "else:\n",
    "    print(\"this list IS empty\")"
   ]
  },
  {
   "cell_type": "code",
   "execution_count": 205,
   "id": "2c81b49f-d5a9-4fe4-bb05-4694a9e8fb30",
   "metadata": {},
   "outputs": [
    {
     "name": "stdout",
     "output_type": "stream",
     "text": [
      "this list is empty\n"
     ]
    }
   ],
   "source": [
    "if emptylist: \n",
    "    print('this list is not empty')\n",
    "else:\n",
    "    print('this list is empty')"
   ]
  },
  {
   "cell_type": "code",
   "execution_count": 206,
   "id": "6ff3bded-1123-4ef6-81d5-a96b8f25d51e",
   "metadata": {},
   "outputs": [],
   "source": [
    "homer_bank_balance = 0"
   ]
  },
  {
   "cell_type": "code",
   "execution_count": 207,
   "id": "6bea0c1c-a70a-45e6-9229-831edb968274",
   "metadata": {},
   "outputs": [
    {
     "data": {
      "text/plain": [
       "int"
      ]
     },
     "execution_count": 207,
     "metadata": {},
     "output_type": "execute_result"
    }
   ],
   "source": [
    "type(homer_bank_balance)"
   ]
  },
  {
   "cell_type": "code",
   "execution_count": 208,
   "id": "5430c926-75a8-4aa2-951c-f2560c76f921",
   "metadata": {},
   "outputs": [
    {
     "name": "stdout",
     "output_type": "stream",
     "text": [
      "Homer is broke\n"
     ]
    }
   ],
   "source": [
    "if homer_bank_balance:\n",
    "    print('Homer is not yet broke')\n",
    "else:\n",
    "    print('Homer is broke')"
   ]
  },
  {
   "cell_type": "code",
   "execution_count": 209,
   "id": "7f1af2a3-9a37-4bb3-99af-50ea1cb74e85",
   "metadata": {},
   "outputs": [],
   "source": [
    "filecontents = ''"
   ]
  },
  {
   "cell_type": "code",
   "execution_count": 210,
   "id": "7391b59a-306b-48a9-bb79-430f9700970e",
   "metadata": {},
   "outputs": [
    {
     "name": "stdout",
     "output_type": "stream",
     "text": [
      "File is empty\n"
     ]
    }
   ],
   "source": [
    "if filecontents:\n",
    "    print('File is not empty')\n",
    "else:\n",
    "    print('File is empty')"
   ]
  },
  {
   "cell_type": "code",
   "execution_count": null,
   "id": "287b3b0a-87a0-4e1a-becb-2094eb0cdd12",
   "metadata": {},
   "outputs": [],
   "source": []
  }
 ],
 "metadata": {
  "kernelspec": {
   "display_name": "Python 3 (ipykernel)",
   "language": "python",
   "name": "python3"
  },
  "language_info": {
   "codemirror_mode": {
    "name": "ipython",
    "version": 3
   },
   "file_extension": ".py",
   "mimetype": "text/x-python",
   "name": "python",
   "nbconvert_exporter": "python",
   "pygments_lexer": "ipython3",
   "version": "3.9.13"
  },
  "vscode": {
   "interpreter": {
    "hash": "108a1df64039728e69f178110a6e255a10aba8514903b770571642a02940d2ba"
   }
  }
 },
 "nbformat": 4,
 "nbformat_minor": 5
}
