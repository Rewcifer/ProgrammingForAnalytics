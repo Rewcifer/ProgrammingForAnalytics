{
 "cells": [
  {
   "cell_type": "markdown",
   "metadata": {},
   "source": [
    "# Classes and object oriented programming\n",
    "\n",
    "Several times you have seen the notation something.somefunction(). We will explore this syntax here. Since the first lecture, we have been studying two categories of programming constructs: things and stuff you can do to those things.\n",
    "\n",
    "We have seen numbers and the arithmetic operations which can be done on those numbers. Strings and the various functions which operate on them. Lists, dictionaries, tuples, charts, random distributions and functions which can be used on them. Nouns and verbs.\n",
    "\n",
    "You can write your own version of the max or min functions, but how do you write your own list or dictionary? Recall that once you insert an item into a list or a dictionary, it remembers! At a later time, you can ask for that inserted value back.\n",
    "\n",
    "Say you wish to record student grades and perform some operations on them:"
   ]
  },
  {
   "cell_type": "code",
   "execution_count": null,
   "metadata": {},
   "outputs": [],
   "source": [
    "names = [\"Bart\", \"Lisa\", \"Milhouse\", \"Nelson\"]\n",
    "grades   = [34, 97, 87, 30]\n",
    "aggressiveness = [81, 15, 2, 93]\n",
    "ages      = [10, 8, 10, 12]"
   ]
  },
  {
   "cell_type": "code",
   "execution_count": null,
   "metadata": {},
   "outputs": [],
   "source": [
    "def get_grade(name, names, grades):\n",
    "    name_index = names.index(name)\n",
    "    return grades[name_index]\n",
    "\n",
    "def get_aggressiveness(name, names, grades):\n",
    "    name_index = names.index(name)\n",
    "    return aggressiveness[name_index]\n",
    "    "
   ]
  },
  {
   "cell_type": "code",
   "execution_count": null,
   "metadata": {},
   "outputs": [],
   "source": [
    "get_grade(\"Nelson\", names, grades)"
   ]
  },
  {
   "cell_type": "code",
   "execution_count": null,
   "metadata": {},
   "outputs": [],
   "source": [
    "get_aggressiveness(\"Lisa\", names, aggressiveness)"
   ]
  },
  {
   "cell_type": "markdown",
   "metadata": {},
   "source": [
    "**Exercise** Write a function `get_age` which returns a student's age, similar to the other two functions defined above"
   ]
  },
  {
   "cell_type": "markdown",
   "metadata": {},
   "source": [
    "### Classes\n",
    "Classes combine functions and state (aka data structures) into a single construct.\n",
    "\n",
    "For example, notice that in the example above, we have defined 4 different lists containing attributes of students. Further, we have three functions (including your exercise) which operate on those data structures. An object oriented programmer will consider this unweildy: items which belong together are spread across various lists and functions. A class will combine them into a single, logical, unit.\n",
    "\n",
    "Here is an object oriented version of the code above:"
   ]
  },
  {
   "cell_type": "code",
   "execution_count": null,
   "metadata": {},
   "outputs": [],
   "source": [
    "class Student():\n",
    "    \n",
    "    def __init__(self, name, grade, aggressiveness, age):\n",
    "        self.name = name\n",
    "        self.grade = grade\n",
    "        self.aggressiveness = aggressiveness\n",
    "        self.age = age\n",
    "    \n",
    "    def __repr__(self):\n",
    "        return f'Student(name={self.name}, grade={self.grade}, aggressiveness={self.aggressiveness}, age={self.age})'\n",
    "    \n",
    "    def get_name(self): return self.name\n",
    "    def get_grade(self): return self.grade\n",
    "    def get_aggressiveness(self): return self.aggressiveness\n",
    "    def get_age(self): return self.age\n",
    "    \n",
    "    def set_age(self, age): self.age = age"
   ]
  },
  {
   "cell_type": "code",
   "execution_count": null,
   "metadata": {},
   "outputs": [],
   "source": [
    "bart = Student(\"Bart\", 34, 81, 10)\n",
    "bart"
   ]
  },
  {
   "cell_type": "code",
   "execution_count": null,
   "metadata": {},
   "outputs": [],
   "source": [
    "bart.get_age()"
   ]
  },
  {
   "cell_type": "code",
   "execution_count": null,
   "metadata": {},
   "outputs": [],
   "source": [
    "bart.set_age(11)"
   ]
  },
  {
   "cell_type": "code",
   "execution_count": null,
   "metadata": {},
   "outputs": [],
   "source": [
    "bart.get_age()"
   ]
  },
  {
   "cell_type": "code",
   "execution_count": null,
   "metadata": {},
   "outputs": [],
   "source": [
    "lisa = Student(\"Lisa\", 97, 15, 8)"
   ]
  },
  {
   "cell_type": "code",
   "execution_count": null,
   "metadata": {},
   "outputs": [],
   "source": [
    "lisa.get_age()"
   ]
  },
  {
   "cell_type": "code",
   "execution_count": null,
   "metadata": {},
   "outputs": [],
   "source": [
    "lisa.set_age(7)"
   ]
  },
  {
   "cell_type": "code",
   "execution_count": null,
   "metadata": {},
   "outputs": [],
   "source": [
    "lisa.get_age()"
   ]
  },
  {
   "cell_type": "code",
   "execution_count": null,
   "metadata": {},
   "outputs": [],
   "source": [
    "bart.get_age(), lisa.get_age()"
   ]
  },
  {
   "cell_type": "code",
   "execution_count": null,
   "metadata": {},
   "outputs": [],
   "source": [
    "#List of students\n",
    "\n",
    "students = [bart\n",
    "           , lisa\n",
    "           , Student(\"Milhouse\", 87, 2, 10)\n",
    "           , Student(\"Nelson\", 30, 93, 12)]\n",
    "\n",
    "students"
   ]
  },
  {
   "cell_type": "code",
   "execution_count": null,
   "metadata": {},
   "outputs": [],
   "source": [
    "for student in students: print(student.get_name(), student.get_age())"
   ]
  },
  {
   "cell_type": "markdown",
   "metadata": {},
   "source": [
    "#### Classes vs objects\n",
    "In the code above, `Student` is a class. Objects are created from classes when they are _instantiated_, such as when we call `Student(\"Bart\", 34, 81, 10)` as a function. In that scenario, `bart` is the object.\n",
    "\n",
    "A common metaphore is to say that a class is like a cookie cutter and an object is the cookie. They are very closely related concepts and working programmers often just use the term _object_ to define the class as well as the objects created from that class.\n",
    "\n",
    "#### Functions vs methods\n",
    "Functions which access values internal to an object are called methods. For example, the `get_age` method refers to the `age` variable, which is internal to objects. \n",
    "\n",
    "There are several things in the class definition above which may strike you as odd.\n",
    "\n",
    "#### `self` \n",
    "The keyword `self` is used to refer to the internal memory of the class. For example, in the snippet below\n",
    "```python\n",
    "...\n",
    "    def get_name(self): return self.name\n",
    "...\n",
    "```\n",
    "The term `return self.name` means, return the `name` variable, which is part of the `bart` object. The definition `def get_name(self):` means that this method accesses a value internal to the `bart` object.\n",
    "\n",
    "The `self` keyword ensures that `bart.get_age()` returns `age`, which is specific to Bart and `lisa.get_age()` returns `age` which is specific to her.\n",
    "\n",
    "#### `__init__()`\n",
    "`__init__` is called a _constructor_. Note that there are _two_ underscores before and after the word init. Notice that we called the `Student` class as if it was a function: `Student(\"Lisa\", 97, 15, 8)`. When we use this syntax, it is the `__init__` function which is actually called. Notice that our parameters `\"Lisa\", 97, 15, 8` match perfectly with the constructor defined for the class `Student`: `def __init__(self, name, grade, aggressiveness, age):` (and remember that the first argument is always self, to make sure the function can access values internal to the `Student` class.\n",
    "\n",
    "#### `__repr__()`\n"
   ]
  },
  {
   "cell_type": "markdown",
   "metadata": {},
   "source": [
    "**Exercise** Update class `Student` and add methods `set_aggressiveness` and `set_grade`\n",
    "\n",
    "**Exercise** Add a parameter `happiness` to `Student`. Set the value to whatever you like. Make sure you update:\n",
    "    * The constructor\n",
    "    * The `__repr__` method\n",
    "    * Add methods `get_happiness` and `set_happiness`"
   ]
  },
  {
   "cell_type": "markdown",
   "metadata": {},
   "source": [
    "### Inheritance\n",
    "For our purpose, inheritance is one of the most important properties of object oriented programming. Although this concept is not universally liked in the software engineering community, most mainstream programmers use inheritance, at least to some extent, to organize their code. For our purpose, several important data science libraries are organized using inheritance.\n",
    "\n",
    "The concept is simple: share behavior via a heirarchical graph of classes. As is often the case, an example will make the definition clearer.\n",
    "\n",
    "We have defined a `Student` class, but now we wish to keep track of adults at the school as well. Like students, adults have names, ages and aggressiveness. The `grade` variable makes no sense for adults, since they have already graduated. On the other hand, adults _do_ have professions, which doesn't make sense for students.\n",
    "\n",
    "First, let's define a class called `Staff`. Later we will see how we can extract common functionality into a _parent_ class"
   ]
  },
  {
   "cell_type": "code",
   "execution_count": null,
   "metadata": {},
   "outputs": [],
   "source": [
    "class Staff():\n",
    "    \n",
    "    def __init__(self, name, profession, aggressiveness, age):\n",
    "        self.name = name\n",
    "        self.profession = profession\n",
    "        self.aggressiveness = aggressiveness\n",
    "        self.age = age\n",
    "    \n",
    "    def __repr__(self):\n",
    "        return f'Staff(name={self.name}, profession={self.profession}, aggressiveness={self.aggressiveness}, age={self.age})'\n",
    "    \n",
    "    def get_name(self): return self.name\n",
    "    def get_profession(self): return self.profession\n",
    "    def get_aggressiveness(self): return self.aggressiveness\n",
    "    def get_age(self): return self.age\n",
    "    \n",
    "    def set_age(self, age): self.age = age"
   ]
  },
  {
   "cell_type": "code",
   "execution_count": null,
   "metadata": {},
   "outputs": [],
   "source": [
    "skinner = Staff(\"Skinner\", \"Principal\", 64, 46)\n",
    "skinner"
   ]
  },
  {
   "cell_type": "markdown",
   "metadata": {},
   "source": [
    "Notice that the `Student` and `Staff` classes are _very_ similar:\n",
    "\n",
    "![](images/class_diff.png)\n",
    "\n",
    "Several functions are exactly the same.\n",
    "\n",
    "#### Class heirarchy\n",
    "We will extract common functionality into a class called `Person`, add to it functionality which is common to both, students and staff. We wil then change `Student` and `Staff` classes to only contain code which is specific to them and make sure these classes _inherit_ from the Person class:"
   ]
  },
  {
   "cell_type": "code",
   "execution_count": null,
   "metadata": {},
   "outputs": [],
   "source": [
    "class Person():\n",
    "    \n",
    "    def __init__(self, name, aggressiveness, age):\n",
    "        self.name = name\n",
    "        self.aggressiveness = aggressiveness\n",
    "        self.age = age\n",
    "    \n",
    "    def get_name(self): return self.name\n",
    "    def get_aggressiveness(self): return self.aggressiveness\n",
    "    def get_age(self): return self.age\n",
    "    \n",
    "    def set_age(self, age): self.age = age"
   ]
  },
  {
   "cell_type": "code",
   "execution_count": null,
   "metadata": {},
   "outputs": [],
   "source": [
    "class Staff(Person):\n",
    "    \n",
    "    def __init__(self, name, profession, aggressiveness, age):\n",
    "        super().__init__(name, aggressiveness, age)\n",
    "        self.profession = profession\n",
    "    \n",
    "    def __repr__(self):\n",
    "        return f'Staff(name={self.name}, profession={self.profession}, aggressiveness={self.aggressiveness}, age={self.age})'\n",
    "    \n",
    "    def get_profession(self): return self.profession\n"
   ]
  },
  {
   "cell_type": "code",
   "execution_count": null,
   "metadata": {},
   "outputs": [],
   "source": [
    "class Student(Person):\n",
    "    \n",
    "    def __init__(self, name, grade, aggressiveness, age):\n",
    "        super().__init__(name, aggressiveness, age)\n",
    "        self.grade = grade\n",
    "    \n",
    "    def __repr__(self):\n",
    "        return f'Student(name={self.name}, grade={self.grade}, aggressiveness={self.aggressiveness}, age={self.age})'\n",
    "    \n",
    "    def get_grade(self): return self.grade"
   ]
  },
  {
   "cell_type": "code",
   "execution_count": null,
   "metadata": {},
   "outputs": [],
   "source": [
    "skinner = Staff(\"Skinner\", \"Principal\", 64, 46)\n",
    "skinner"
   ]
  },
  {
   "cell_type": "code",
   "execution_count": null,
   "metadata": {},
   "outputs": [],
   "source": [
    "bart = Student(\"Bart\", 34, 81, 10)\n",
    "bart"
   ]
  },
  {
   "cell_type": "markdown",
   "metadata": {},
   "source": [
    "**Exercise** Add a parameter `happiness` to `Student`. Set the value to whatever you like. Make sure you update:\n",
    "    * The constructor\n",
    "    * The `__repr__` method\n",
    "    * Add methods `get_happiness` and `set_happiness`\n",
    "    (yes, this is the same exercise as above, but here it is to be done with this new `Student` class)"
   ]
  },
  {
   "cell_type": "code",
   "execution_count": null,
   "metadata": {},
   "outputs": [],
   "source": [
    "school_people = [Student(\"Milhouse\", 87, 2, 10)\n",
    " , Student(\"Nelson\", 30, 93, 12)\n",
    " , Staff(\"Willie\", \"Groundskeeper\" , 98, 64)\n",
    "]\n",
    "\n",
    "school_people"
   ]
  },
  {
   "cell_type": "code",
   "execution_count": null,
   "metadata": {},
   "outputs": [],
   "source": [
    "for person in school_people: print(person.get_name(), person.get_age(), type(person))"
   ]
  },
  {
   "cell_type": "markdown",
   "metadata": {},
   "source": [
    "Notice that we were able to access common functionality of different types of objects."
   ]
  }
 ],
 "metadata": {
  "kernelspec": {
   "display_name": "Python 3",
   "language": "python",
   "name": "python3"
  },
  "language_info": {
   "codemirror_mode": {
    "name": "ipython",
    "version": 3
   },
   "file_extension": ".py",
   "mimetype": "text/x-python",
   "name": "python",
   "nbconvert_exporter": "python",
   "pygments_lexer": "ipython3",
   "version": "3.8.5"
  }
 },
 "nbformat": 4,
 "nbformat_minor": 4
}
