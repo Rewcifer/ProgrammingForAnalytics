{
 "cells": [
  {
   "cell_type": "code",
   "execution_count": null,
   "metadata": {},
   "outputs": [],
   "source": [
    "%reload_ext postcell\n",
    "%postcell register"
   ]
  },
  {
   "cell_type": "markdown",
   "metadata": {},
   "source": [
    "# Classes and object oriented programming\n",
    "\n",
    "Several times you have seen the notation something.somefunction(). We will explore this syntax here. Since the first lecture, we have been studying two categories of programming constructs: things and stuff you can do to those things.\n",
    "\n",
    "We have seen numbers and the arithmetic operations which can be done on those numbers. Strings and the various functions which operate on them. Lists, dictionaries, tuples, charts, random distributions and functions which can be used on them. Nouns and verbs.\n",
    "\n",
    "You can write your own version of the max or min functions, but how do you write your own list or dictionary? Recall that once you insert an item into a list or a dictionary, it remembers! At a later time, you can ask for that inserted value back.\n",
    "\n",
    "Say you wish to record student grades and perform some operations on them:"
   ]
  },
  {
   "cell_type": "code",
   "execution_count": null,
   "metadata": {
    "tags": []
   },
   "outputs": [],
   "source": [
    "names    = [\"Bart\", \"Lisa\", \"Milhouse\", \"Nelson\"]\n",
    "grades   = [34, 97, 87, 30]\n",
    "aggressiveness = [81, 15, 2, 93]\n",
    "ages     = [10, 8, 10, 12]"
   ]
  },
  {
   "cell_type": "code",
   "execution_count": null,
   "metadata": {
    "tags": []
   },
   "outputs": [],
   "source": [
    "def get_grade(name, names, grades):\n",
    "    name_index = names.index(name)\n",
    "    return grades[name_index]\n",
    "\n",
    "def get_aggressiveness(name, names, grades):\n",
    "    name_index = names.index(name)\n",
    "    return aggressiveness[name_index]\n",
    "    "
   ]
  },
  {
   "cell_type": "code",
   "execution_count": null,
   "metadata": {
    "tags": []
   },
   "outputs": [],
   "source": [
    "get_grade(\"Nelson\", names, grades)"
   ]
  },
  {
   "cell_type": "code",
   "execution_count": null,
   "metadata": {
    "tags": []
   },
   "outputs": [],
   "source": [
    "get_aggressiveness(\"Lisa\", names, aggressiveness)"
   ]
  },
  {
   "cell_type": "markdown",
   "metadata": {},
   "source": [
    "**Exercise** Write a function `get_age` which returns a student's age, similar to the other two functions defined above"
   ]
  },
  {
   "cell_type": "code",
   "execution_count": null,
   "metadata": {},
   "outputs": [],
   "source": [
    "%%postcell exercise_025_200_a\n",
    "\n",
    "#Type code here"
   ]
  },
  {
   "cell_type": "markdown",
   "metadata": {},
   "source": [
    "### Classes provide _encapsulation_\n",
    "Classes combine functions and state (aka data structures) into a single construct.\n",
    "\n",
    "For example, notice that in the example above, we have defined 4 different lists containing attributes of students. Further, we have three functions (including your exercise) which operate on those data structures. An object oriented programmer will consider this unweildy: items which belong together are spread across various lists and functions. A class will combine them into a single, logical, unit.\n",
    "\n",
    "Here is an object oriented version of the code above:"
   ]
  },
  {
   "cell_type": "code",
   "execution_count": null,
   "metadata": {
    "tags": []
   },
   "outputs": [],
   "source": [
    "class Student(): #<=== Class name\n",
    "    \n",
    "    def __init__(self, name, grade, aggressiveness, age): #<=== Consturctor...because it is used to \"construct\" the object\n",
    "        # Instance variables\n",
    "        self.name = name\n",
    "        self.grade = grade\n",
    "        self.aggressiveness = aggressiveness\n",
    "        self.age = age\n",
    "    \n",
    "    def __repr__(self): #<=== This special function is what is used to print this object to screen or on Jupyter\n",
    "        return f'Student(name={self.name}, grade={self.grade}, aggressiveness={self.aggressiveness}, age={self.age})'\n",
    "        \n",
    "    # CLass \"methods\"\n",
    "    def set_age(self, age): self.age = age\n",
    "    def get_letter_grade(self):\n",
    "        if self.grade > 90: return 'A'\n",
    "        elif self.grade> 80: return 'B'\n",
    "        elif self.grade > 70: return 'C'\n",
    "        else: return 'D'"
   ]
  },
  {
   "attachments": {
    "505e06c6-1245-40bc-9352-c19d85bb3071.png": {
     "image/png": "[encoded data removed]"
    }
   },
   "cell_type": "markdown",
   "metadata": {},
   "source": [
    "![image.png](attachment:505e06c6-1245-40bc-9352-c19d85bb3071.png)"
   ]
  },
  {
   "cell_type": "markdown",
   "metadata": {},
   "source": [
    "**Exercise** Add new method to the class above: \"describe_aggressiveness\" with the following logic: If agressiveness more than 85 then describe it as \"Angry\", if between 50 and 85, describe it as \"Normal\" and if it is below normal then call it \"Calm\"\n",
    "\n",
    "Also edit the \\_\\_repr__ function to include this description"
   ]
  },
  {
   "cell_type": "code",
   "execution_count": null,
   "metadata": {},
   "outputs": [],
   "source": [
    "%%postcell exercise_025_110_b\n",
    "\n",
    "#Type code here"
   ]
  },
  {
   "cell_type": "code",
   "execution_count": null,
   "metadata": {
    "tags": []
   },
   "outputs": [],
   "source": [
    "bart = Student(\"Bart\", 34, 81, 10)\n",
    "bart"
   ]
  },
  {
   "cell_type": "code",
   "execution_count": null,
   "metadata": {
    "tags": []
   },
   "outputs": [],
   "source": [
    "bart.age"
   ]
  },
  {
   "cell_type": "code",
   "execution_count": null,
   "metadata": {
    "tags": []
   },
   "outputs": [],
   "source": [
    "bart.grade"
   ]
  },
  {
   "cell_type": "code",
   "execution_count": null,
   "metadata": {
    "tags": []
   },
   "outputs": [],
   "source": [
    "bart.get_letter_grade()"
   ]
  },
  {
   "cell_type": "code",
   "execution_count": null,
   "metadata": {
    "tags": []
   },
   "outputs": [],
   "source": [
    "bart.grade = 96"
   ]
  },
  {
   "cell_type": "code",
   "execution_count": null,
   "metadata": {
    "tags": []
   },
   "outputs": [],
   "source": [
    "bart.get_letter_grade()"
   ]
  },
  {
   "cell_type": "code",
   "execution_count": null,
   "metadata": {
    "tags": []
   },
   "outputs": [],
   "source": [
    "bart.set_age(11)"
   ]
  },
  {
   "cell_type": "code",
   "execution_count": null,
   "metadata": {
    "tags": []
   },
   "outputs": [],
   "source": [
    "bart.age"
   ]
  },
  {
   "cell_type": "code",
   "execution_count": null,
   "metadata": {
    "tags": []
   },
   "outputs": [],
   "source": [
    "lisa = Student(\"Lisa\", 97, 15, 8)"
   ]
  },
  {
   "cell_type": "code",
   "execution_count": null,
   "metadata": {
    "tags": []
   },
   "outputs": [],
   "source": [
    "lisa.age"
   ]
  },
  {
   "cell_type": "code",
   "execution_count": null,
   "metadata": {
    "tags": []
   },
   "outputs": [],
   "source": [
    "lisa.set_age(7)"
   ]
  },
  {
   "cell_type": "code",
   "execution_count": null,
   "metadata": {
    "tags": []
   },
   "outputs": [],
   "source": [
    "lisa.age"
   ]
  },
  {
   "cell_type": "code",
   "execution_count": null,
   "metadata": {
    "tags": []
   },
   "outputs": [],
   "source": [
    "bart.age, lisa.age"
   ]
  },
  {
   "cell_type": "code",
   "execution_count": null,
   "metadata": {
    "tags": []
   },
   "outputs": [],
   "source": [
    "#List of students\n",
    "\n",
    "students = [bart\n",
    "           , lisa\n",
    "           , Student(\"Milhouse\", 87, 2, 10)\n",
    "           , Student(\"Nelson\", 30, 93, 12)]\n",
    "\n",
    "students"
   ]
  },
  {
   "cell_type": "code",
   "execution_count": null,
   "metadata": {
    "tags": []
   },
   "outputs": [],
   "source": [
    "for student in students: print(student.name, student.age)"
   ]
  },
  {
   "cell_type": "markdown",
   "metadata": {},
   "source": [
    "#### Classes vs objects\n",
    "In the code above, `Student` is a class. Objects are created from classes when they are _instantiated_, such as when we call `Student(\"Bart\", 34, 81, 10)` as a function. In that scenario, `bart` is the object.\n",
    "\n",
    "A common metaphore is to say that a class is like a cookie cutter and an object is the cookie. They are very closely related concepts and working programmers often just use the term _object_ to define the class as well as the objects created from that class.\n",
    "\n",
    "#### Functions vs methods\n",
    "Functions which access values internal to an object are called methods. For example, the `get_age` method refers to the `age` variable, which is internal to objects. \n",
    "\n",
    "There are several things in the class definition above which may strike you as odd.\n",
    "\n",
    "#### `self` \n",
    "The keyword `self` is used to refer to the internal memory of the class. For example, in the snippet below\n",
    "```python\n",
    "...\n",
    "    def get_name(self): return self.name\n",
    "...\n",
    "```\n",
    "The term `return self.name` means, return the `name` variable, which is part of the `bart` object. The definition `def get_name(self):` means that this method accesses a value internal to the `bart` object.\n",
    "\n",
    "The `self` keyword ensures that `bart.get_age()` returns `age`, which is specific to Bart and `lisa.get_age()` returns `age` which is specific to her.\n",
    "\n",
    "#### `__init__()`\n",
    "`__init__` is called a _constructor_. Note that there are _two_ underscores before and after the word init. Notice that we called the `Student` class as if it was a function: `Student(\"Lisa\", 97, 15, 8)`. When we use this syntax, it is the `__init__` function which is actually called. Notice that our parameters `\"Lisa\", 97, 15, 8` match perfectly with the constructor defined for the class `Student`: `def __init__(self, name, grade, aggressiveness, age):` (and remember that the first argument is always self, to make sure the function can access values internal to the `Student` class.\n",
    "\n",
    "#### `__repr__()`\n"
   ]
  },
  {
   "cell_type": "markdown",
   "metadata": {},
   "source": [
    "**Exercise** Update class `Student` and add methods `set_aggressiveness` and `set_grade`\n",
    "\n",
    "**Exercise** Add a parameter `happiness` to `Student`. Set the value to whatever you like. Make sure you update:\n",
    "    * The constructor\n",
    "    * The `__repr__` method\n",
    "    * Add methods `get_happiness` and `set_happiness`"
   ]
  },
  {
   "cell_type": "markdown",
   "metadata": {},
   "source": [
    "### Classes also provide inheritance, necessary for \"object oriented\" programming\n",
    "For our purpose, inheritance is one of the most important properties of object oriented programming. Although this concept is not universally liked in the software engineering community, most mainstream programmers use inheritance, at least to some extent, to organize their code. For our purpose, several important data science libraries are organized using inheritance.\n",
    "\n",
    "The concept is simple: share behavior via a heirarchical graph of classes. As is often the case, an example will make the definition clearer.\n",
    "\n",
    "We have defined a `Student` class, but now we wish to keep track of adults at the school as well. Like students, adults have names, ages and aggressiveness. The `grade` variable makes no sense for adults, since they have already graduated. On the other hand, adults _do_ have professions, which doesn't make sense for students.\n",
    "\n",
    "First, let's define a class called `Staff`. Later we will see how we can extract common functionality into a _parent_ class"
   ]
  },
  {
   "cell_type": "code",
   "execution_count": null,
   "metadata": {},
   "outputs": [],
   "source": [
    "class Staff():\n",
    "    \n",
    "    def __init__(self, name, profession, aggressiveness, age):\n",
    "        self.name = name\n",
    "        self.profession = profession\n",
    "        self.aggressiveness = aggressiveness\n",
    "        self.age = age\n",
    "    \n",
    "    def __repr__(self):\n",
    "        return f'Staff(name={self.name}, profession={self.profession}, aggressiveness={self.aggressiveness}, age={self.age})'\n",
    "    \n",
    "    def get_name(self): return self.name\n",
    "    def get_profession(self): return self.profession\n",
    "    def get_aggressiveness(self): return self.aggressiveness\n",
    "    def get_age(self): return self.age\n",
    "    \n",
    "    def set_age(self, age): self.age = age"
   ]
  },
  {
   "cell_type": "code",
   "execution_count": null,
   "metadata": {},
   "outputs": [],
   "source": [
    "skinner = Staff(\"Skinner\", \"Principal\", 64, 46)\n",
    "skinner"
   ]
  },
  {
   "cell_type": "markdown",
   "metadata": {},
   "source": [
    "Notice that the `Student` and `Staff` classes are _very_ similar:\n",
    "\n",
    "![](images/class_diff.png)\n",
    "\n",
    "Several functions are exactly the same.\n"
   ]
  },
  {
   "cell_type": "markdown",
   "metadata": {
    "tags": []
   },
   "source": [
    "#### Class heirarchy\n",
    "We will extract common functionality into a class called `Person`, add to it functionality which is common to both, students and staff. We wil then change `Student` and `Staff` classes to only contain code which is specific to them and make sure these classes _inherit_ from the Person class:"
   ]
  },
  {
   "cell_type": "code",
   "execution_count": null,
   "metadata": {},
   "outputs": [],
   "source": [
    "class Person():\n",
    "    \n",
    "    def __init__(self, name, aggressiveness, age):\n",
    "        self.name = name\n",
    "        self.aggressiveness = aggressiveness\n",
    "        self.age = age\n",
    "    \n",
    "    def get_name(self): return self.name\n",
    "    def get_aggressiveness(self): return self.aggressiveness\n",
    "    def get_age(self): return self.age\n",
    "    \n",
    "    def set_age(self, age): self.age = age"
   ]
  },
  {
   "cell_type": "code",
   "execution_count": null,
   "metadata": {},
   "outputs": [],
   "source": [
    "class Staff(Person): #<=== Notice that the class Staff \"inherits\" from the class \"Person\", aka Person is the \"super class\" of Staff\n",
    "    \n",
    "    def __init__(self, name, profession, aggressiveness, age):\n",
    "        super().__init__(name, aggressiveness, age) #<=== Notice that the constructor of the super class is called first\n",
    "        self.profession = profession\n",
    "    \n",
    "    def __repr__(self):\n",
    "        return f'Staff(name={self.name}, profession={self.profession}, aggressiveness={self.aggressiveness}, age={self.age})'\n",
    "    \n",
    "    def get_profession(self): return self.profession\n"
   ]
  },
  {
   "cell_type": "code",
   "execution_count": null,
   "metadata": {},
   "outputs": [],
   "source": [
    "class Student(Person): #<=== Notice that the class Student \"inherits\" from the class \"Person\", aka Person is the \"super class\" of Student\n",
    "    \n",
    "    def __init__(self, name, grade, aggressiveness, age):\n",
    "        super().__init__(name, aggressiveness, age)\n",
    "        self.grade = grade\n",
    "    \n",
    "    def __repr__(self):\n",
    "        return f'Student(name={self.name}, grade={self.grade}, aggressiveness={self.aggressiveness}, age={self.age})'\n",
    "    \n",
    "    def get_grade(self): return self.grade"
   ]
  },
  {
   "attachments": {
    "8e49bb4e-aeae-4797-98a0-669022bdeb07.png": {
     "image/png": "[encoded data removed]"
    }
   },
   "cell_type": "markdown",
   "metadata": {},
   "source": [
    "![image.png](attachment:8e49bb4e-aeae-4797-98a0-669022bdeb07.png)"
   ]
  },
  {
   "cell_type": "markdown",
   "metadata": {},
   "source": [
    "Reference: https://mermaid.live/edit#pako:eNp1UNtKw0AQ_ZVlnhSTYu7t4qMfIBRfJFCWZhIXNrNhMxFjzL-7SVtoRedld85lbhMcbYUgIQzDklizQSleSX-g6zWPokPbGSxppY9G9f2zVo1TbUnCx4uXWRJP32Eo9qzq-i94qJD4hpDiYc9OUyNItfib0sRCNf_AjcO-9-ORf06KdapLm-mELXFp0TlbLx5LJ26-tfmhr0zh0sXvV-EV1iAfDDKjO6zU3f25EgTQomuVrvwF1yol8Dv6lUD6b4W1GgyXUNIiVQPb_UhHkOwGDGDoKsV4vifIWpneo52iN2vbi8inICf4BJmkxSZNkm0SRUUeZUmeBzCCjLNokxVJvMvzfBel2zieA_haKzxusvkHocCW4w"
   ]
  },
  {
   "cell_type": "code",
   "execution_count": null,
   "metadata": {},
   "outputs": [],
   "source": [
    "skinner = Staff(\"Skinner\", \"Principal\", 64, 46)\n",
    "skinner"
   ]
  },
  {
   "cell_type": "code",
   "execution_count": null,
   "metadata": {},
   "outputs": [],
   "source": [
    "bart = Student(\"Bart\", 34, 81, 10)\n",
    "bart"
   ]
  },
  {
   "cell_type": "markdown",
   "metadata": {},
   "source": [
    "**Exercise** Add a parameter `happiness` to `Student`. Set the value to whatever you like. Make sure you update:\n",
    "\n",
    "    - The constructor\n",
    "    - The `__repr__` method\n",
    "    - Add methods `get_happiness` and `set_happiness`\n",
    "    (yes, this is the same exercise as above, but here it is to be done with this new `Student` class)"
   ]
  },
  {
   "cell_type": "code",
   "execution_count": null,
   "metadata": {},
   "outputs": [],
   "source": [
    "school_people = [Student(\"Milhouse\", 87, 2, 10)\n",
    " , Student(\"Nelson\", 30, 93, 12)\n",
    " , Staff(\"Willie\", \"Groundskeeper\" , 98, 64)\n",
    "]\n",
    "\n",
    "school_people"
   ]
  },
  {
   "cell_type": "code",
   "execution_count": null,
   "metadata": {},
   "outputs": [],
   "source": [
    "for person in school_people: print(person.get_name(), person.get_age(), type(person))"
   ]
  },
  {
   "cell_type": "markdown",
   "metadata": {},
   "source": [
    "Notice that we were able to access common functionality of different types of objects."
   ]
  },
  {
   "cell_type": "markdown",
   "metadata": {},
   "source": [
    "*Exercise* Add another child class `Professor`, along with the existing `Student` and `Staff` classes.\n",
    "This class needs to have the following properties: name, aggressiveness, age, **is_tenured** (boolean value)."
   ]
  },
  {
   "cell_type": "code",
   "execution_count": null,
   "metadata": {},
   "outputs": [],
   "source": [
    "%%postcell exercise_025_110_c\n",
    "\n",
    "a = 10\n",
    "b = 20\n",
    "#Type code here"
   ]
  },
  {
   "cell_type": "markdown",
   "metadata": {},
   "source": [
    "#### Using class heirarchy for _interfaces_: plug-ins or extensible libraries"
   ]
  },
  {
   "cell_type": "markdown",
   "metadata": {},
   "source": [
    "Scikit-learn is an extremely powerful library for data science. It comes with many modules and is organized in a way that you can use any number of algorithms, without necessarily knowing how they work. Here is an example from our scikit-learn lecture:"
   ]
  },
  {
   "cell_type": "markdown",
   "metadata": {},
   "source": [
    "Decision tree classifier\n",
    "\n",
    "```python\n",
    "from sklearn import tree\n",
    "\n",
    "model = tree.DecisionTreeClassifier(splitter='best', criterion='gini')\n",
    "model.fit(X_train, y_train)\n",
    "\n",
    "y_predict = model.predict(X_test)\n",
    "model.score(X_test, y_test)\n",
    "```\n",
    "\n",
    "Random forest classifier\n",
    "```python\n",
    "from sklearn import ensemble\n",
    "\n",
    "model = ensemble.RandomForestClassifier(n_estimators=100, min_samples_split=2)\n",
    "model.fit(X_train, y_train)\n",
    "\n",
    "y_predict = model.predict(X_test)\n",
    "model.score(X_test, y_test)\n",
    "```\n",
    "\n",
    "SVM classifier\n",
    "```python\n",
    "from sklearn import svm\n",
    "\n",
    "model = svm.SVC(C=1.0, kernel='rbf')\n",
    "model.fit(X_train, y_train)\n",
    "\n",
    "y_predict = model.predict(X_test)\n",
    "model.score(X_test, y_test)\n",
    "```"
   ]
  },
  {
   "cell_type": "markdown",
   "metadata": {},
   "source": [
    "Notice they all look _very_ similar. Once you learn hwo to use a decision tree, you can use the SVM classifier with trivial ease! In fact, you can use _ANY_ classifier in the library because you already know how to use the `fit`, `predict` and `score` methods."
   ]
  },
  {
   "cell_type": "markdown",
   "metadata": {},
   "source": [
    "Obviously, all three are classes that follow the same naming scheme. What if there was a super class that just provided a skeleton of methods (names and arguments) that all future Classifier had to implement? Wouldn't that be a very concise way of _communicating_ with other developers?"
   ]
  },
  {
   "cell_type": "markdown",
   "metadata": {
    "tags": []
   },
   "source": [
    "```python\n",
    "class BaseClassifier():\n",
    "    def fit(X_train, y_train): pass\n",
    "    def predict(X_test): pass\n",
    "    def score(X_train, y_train): pass\n",
    "```"
   ]
  },
  {
   "cell_type": "markdown",
   "metadata": {},
   "source": [
    "In reality the interfaces are more complex (see the scikit-learn lecture for more information)"
   ]
  },
  {
   "cell_type": "markdown",
   "metadata": {},
   "source": [
    "### Recursive classes or data structures: what if classes had properties ... of the same class?"
   ]
  },
  {
   "cell_type": "code",
   "execution_count": null,
   "metadata": {
    "tags": []
   },
   "outputs": [],
   "source": [
    "#Simplified Staff\n",
    "\n",
    "class Staff():\n",
    "    \n",
    "    def __init__(self, name, supervisor):\n",
    "        self.name = name\n",
    "        self.supervisor = supervisor\n",
    "    \n",
    "    def __repr__(self): return f\"Name={self.name}, Supervisor={self.supervisor if self.supervisor else None}\""
   ]
  },
  {
   "cell_type": "code",
   "execution_count": null,
   "metadata": {
    "tags": []
   },
   "outputs": [],
   "source": [
    "mr_burns = Staff(\"Burns\", supervisor=None)"
   ]
  },
  {
   "cell_type": "code",
   "execution_count": null,
   "metadata": {
    "tags": []
   },
   "outputs": [],
   "source": [
    "homer = Staff(\"Homer\", supervisor = mr_burns)"
   ]
  },
  {
   "cell_type": "code",
   "execution_count": null,
   "metadata": {
    "tags": []
   },
   "outputs": [],
   "source": [
    "homer"
   ]
  },
  {
   "cell_type": "markdown",
   "metadata": {},
   "source": [
    "This is a very important property, needed to build data structures from linked lists to trees and graphs. We will investigate these in the recursion and data structures lectures"
   ]
  },
  {
   "cell_type": "code",
   "execution_count": null,
   "metadata": {},
   "outputs": [],
   "source": []
  }
 ],
 "metadata": {
  "kernelspec": {
   "display_name": "Python 3 (ipykernel)",
   "language": "python",
   "name": "python3"
  },
  "language_info": {
   "codemirror_mode": {
    "name": "ipython",
    "version": 3
   },
   "file_extension": ".py",
   "mimetype": "text/x-python",
   "name": "python",
   "nbconvert_exporter": "python",
   "pygments_lexer": "ipython3",
   "version": "3.11.5"
  }
 },
 "nbformat": 4,
 "nbformat_minor": 4
}
