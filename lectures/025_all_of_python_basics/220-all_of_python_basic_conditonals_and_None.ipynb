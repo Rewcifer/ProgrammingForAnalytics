{
 "cells": [
  {
   "cell_type": "markdown",
   "metadata": {},
   "source": [
    "# Conditonal statement: if/else/elif\n",
    "\n",
    "As we have seen many times, Python and almost all programming langauges provide `if` and `else` statements:"
   ]
  },
  {
   "cell_type": "code",
   "execution_count": null,
   "metadata": {},
   "outputs": [],
   "source": [
    "x = -100\n",
    "\n",
    "if x > 0:\n",
    "    print(\"You have some money in your account\")\n",
    "else:\n",
    "    print(\"You owe us money!!\")"
   ]
  },
  {
   "cell_type": "markdown",
   "metadata": {},
   "source": [
    "### `elif`\n",
    "There are times when you need more than just two conditions. For example:"
   ]
  },
  {
   "cell_type": "code",
   "execution_count": null,
   "metadata": {},
   "outputs": [],
   "source": [
    "x = -100\n",
    "\n",
    "if x > 0:\n",
    "    print(\"You have some money in your account\")\n",
    "elif x == 0:\n",
    "    print(\"You don't owe us anything, and you don't have any money\")\n",
    "else:\n",
    "    print(\"You owe us money!!\")"
   ]
  },
  {
   "cell_type": "markdown",
   "metadata": {},
   "source": [
    "In many languages, `elfif` is not a separate statement. Porgrammers are expected to chain together `if` and `else` statements as such:\n",
    "\n",
    "```python\n",
    "#non-python languages\n",
    "if x > 0: print(\"you have cash\")\n",
    "else if: x == 0: print(\"you have no cash\") # notice the use of \"else if\" instead of \"elif\"\n",
    "else: print(\"you owe US money\")\n",
    "```"
   ]
  },
  {
   "cell_type": "markdown",
   "metadata": {},
   "source": [
    "### Ternary if/else (single line if/else)\n",
    "\n",
    "There are times when you want a very compact version of an if/else statemnt. For example:"
   ]
  },
  {
   "cell_type": "code",
   "execution_count": null,
   "metadata": {},
   "outputs": [],
   "source": [
    "x = -100\n",
    "\n",
    "owes_money = None\n",
    "\n",
    "owes_money =  True if x < 0 else False"
   ]
  },
  {
   "cell_type": "code",
   "execution_count": null,
   "metadata": {},
   "outputs": [],
   "source": [
    "owes_money"
   ]
  },
  {
   "cell_type": "markdown",
   "metadata": {},
   "source": [
    "Note that almost all languages provide similar ternary operators. In many languages, the code above will like like this: `owes_money = x < 0 ? True : False`"
   ]
  },
  {
   "cell_type": "markdown",
   "metadata": {},
   "source": [
    "### Short circuiting\n",
    "Novice programmers often miss a subtlety related to how boolean statements are evaluated.\n",
    "\n",
    "We will write custom functions which return True or False, but also print some debugging information"
   ]
  },
  {
   "cell_type": "code",
   "execution_count": null,
   "metadata": {},
   "outputs": [],
   "source": [
    "def MyTrue():\n",
    "    print(\"Executing MyTrue\")\n",
    "    return True\n",
    "\n",
    "def MyFalse():\n",
    "    print(\"Executing MyFalse\")\n",
    "    return False"
   ]
  },
  {
   "cell_type": "code",
   "execution_count": null,
   "metadata": {},
   "outputs": [],
   "source": [
    "MyTrue()"
   ]
  },
  {
   "cell_type": "code",
   "execution_count": null,
   "metadata": {},
   "outputs": [],
   "source": [
    "if MyFalse(): print(\"Should print True\")"
   ]
  },
  {
   "cell_type": "markdown",
   "metadata": {},
   "source": [
    "Notice that in order to evaluate the conditional statement, MyFalse() had to be executed (this should be obvious)"
   ]
  },
  {
   "cell_type": "code",
   "execution_count": null,
   "metadata": {},
   "outputs": [],
   "source": [
    "if MyTrue(): print(\"Should print True\")"
   ]
  },
  {
   "cell_type": "markdown",
   "metadata": {},
   "source": [
    "This is essentially the same statement as before, so no surprises."
   ]
  },
  {
   "cell_type": "code",
   "execution_count": null,
   "metadata": {},
   "outputs": [],
   "source": [
    "if MyTrue() and MyTrue() and MyTrue() : print(\"Should print True\")"
   ]
  },
  {
   "cell_type": "markdown",
   "metadata": {},
   "source": [
    "Recall that when a boolean expression is true, only if _all_ sub-expressions are true. In other words, all `MyTrue` functions have to be evaluated. Perhaps not very surprising."
   ]
  },
  {
   "cell_type": "code",
   "execution_count": null,
   "metadata": {},
   "outputs": [],
   "source": [
    "if MyTrue() or MyTrue() or MyTrue() : print(\"Should print True\")"
   ]
  },
  {
   "cell_type": "markdown",
   "metadata": {},
   "source": [
    "This _should_ be surprising! Recall that in an `or` expression, any one of the values has to be true, in order for the whole expression to be true. This is why, once the first `True` was found, the remaining expression was not even evaluated (it was _short-circuited_ )"
   ]
  },
  {
   "cell_type": "markdown",
   "metadata": {},
   "source": [
    "**Exercise** What will this expression print?\n",
    "```python\n",
    "if MyTrue() and MyTrue() or MyTrue() and MyTrue() or MyTrue() : print(\"Should print True\")\n",
    "```\n",
    "\n",
    "**Exercise** What will this expression print?\n",
    "```python\n",
    "if MyFalse() and MyTrue() : print(\"Should print True\")\n",
    "```"
   ]
  },
  {
   "cell_type": "markdown",
   "metadata": {},
   "source": [
    "# None\n",
    "Almost every programming language has a construct known as \"null\", which represents a lack of value. Not zero, but a missing value. Python chose to call its version of \"null\" `None`. When \"null\" is not available, it often has to be invented. \n",
    "\n",
    "#### Null in the real world\n",
    "\n",
    "Imagine you are in the field, collecting data on how many ounces of milk babies are drinking in each household. There will be times when a household won't have any babies. You will record `0` as the ounces of milk babies are drinking in this household. What about the times when you have information about a household, but they refuse to tell you anything about what the baby is consuming? In your notebook, you may write a `-1` or some other non-sensical value to represent a \"missing vaule.\" \n",
    "\n",
    "#### Null in computers\n",
    "\n",
    "Recall that so far, we have used the `return` statement in every function. What if a function didn't return anything?"
   ]
  },
  {
   "cell_type": "code",
   "execution_count": null,
   "metadata": {},
   "outputs": [],
   "source": [
    "def ok_function(): return 1+1\n",
    "def bad_function(): 1+1"
   ]
  },
  {
   "cell_type": "code",
   "execution_count": null,
   "metadata": {},
   "outputs": [],
   "source": [
    "print(ok_function())"
   ]
  },
  {
   "cell_type": "code",
   "execution_count": null,
   "metadata": {},
   "outputs": [],
   "source": [
    "print(bad_function())"
   ]
  },
  {
   "cell_type": "markdown",
   "metadata": {},
   "source": [
    "Not having a `return` statement is NOT an error, it just returns `None`!\n",
    "\n",
    "Just like 1, 2 and 3 belong to the `int` type and \"hello\" belongs to the `str` type, `None` belongs to the `NoneType` (in fact, `None` is the _only_ member of that type)"
   ]
  },
  {
   "cell_type": "code",
   "execution_count": null,
   "metadata": {},
   "outputs": [],
   "source": [
    "type(None)"
   ]
  },
  {
   "cell_type": "markdown",
   "metadata": {},
   "source": [
    "`None` can be passed around like any other value:"
   ]
  },
  {
   "cell_type": "code",
   "execution_count": null,
   "metadata": {},
   "outputs": [],
   "source": [
    "my_list = [1, 2, 3, \"hello\", 5, None, 6, True, 7, False, None, None, \"yo\"]\n",
    "my_list"
   ]
  },
  {
   "cell_type": "code",
   "execution_count": null,
   "metadata": {},
   "outputs": [],
   "source": [
    "print(my_list[5])"
   ]
  },
  {
   "cell_type": "code",
   "execution_count": null,
   "metadata": {},
   "outputs": [],
   "source": [
    "None == True"
   ]
  },
  {
   "cell_type": "code",
   "execution_count": null,
   "metadata": {},
   "outputs": [],
   "source": [
    "for e in [1, 2, 3, \"hello\", 5, None, 6, True, 7, False, None, None, \"yo\"]:\n",
    "    print(e == True)"
   ]
  },
  {
   "cell_type": "markdown",
   "metadata": {},
   "source": [
    "Notice that only `1` and `True` are true statements, all others, including `None` are evaluated as false.\n",
    "\n",
    "### `==` vs `is`\n",
    "Although the detail for ths distinction is out of scope for this lecture, when comparing values to `None`, you should use the `is` statement, rather than `==`"
   ]
  },
  {
   "cell_type": "code",
   "execution_count": null,
   "metadata": {},
   "outputs": [],
   "source": [
    "x = None"
   ]
  },
  {
   "cell_type": "code",
   "execution_count": null,
   "metadata": {},
   "outputs": [],
   "source": [
    "x == None"
   ]
  },
  {
   "cell_type": "code",
   "execution_count": null,
   "metadata": {},
   "outputs": [],
   "source": [
    "x is None"
   ]
  },
  {
   "cell_type": "code",
   "execution_count": null,
   "metadata": {},
   "outputs": [],
   "source": []
  }
 ],
 "metadata": {
  "kernelspec": {
   "display_name": "Python 3",
   "language": "python",
   "name": "python3"
  },
  "language_info": {
   "codemirror_mode": {
    "name": "ipython",
    "version": 3
   },
   "file_extension": ".py",
   "mimetype": "text/x-python",
   "name": "python",
   "nbconvert_exporter": "python",
   "pygments_lexer": "ipython3",
   "version": "3.7.3"
  }
 },
 "nbformat": 4,
 "nbformat_minor": 2
}
