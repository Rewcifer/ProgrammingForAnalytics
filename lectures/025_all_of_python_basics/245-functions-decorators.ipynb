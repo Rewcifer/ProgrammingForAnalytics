{
 "cells": [
  {
   "cell_type": "markdown",
   "id": "18ed7da1-21a8-44af-8361-63aa35dacfd0",
   "metadata": {},
   "source": [
    "# Decorators"
   ]
  },
  {
   "cell_type": "markdown",
   "id": "1ae82874-a2d8-4fa2-841c-0b3776294f1d",
   "metadata": {},
   "source": [
    "Python is among several languages which provides a way to _annotate_ or _decorate_ functions. This is an extremely powerful feature, although not always without caveats. Before we get into decorators, we need to review some concepts from the 'higher order functions' lecture.\n",
    "\n",
    "Recall that functions are normal objects"
   ]
  },
  {
   "cell_type": "code",
   "execution_count": null,
   "id": "88f6801c-afa5-4619-8833-2e4b30ed6fd7",
   "metadata": {
    "tags": []
   },
   "outputs": [],
   "source": [
    "def myfunc(): return 10"
   ]
  },
  {
   "cell_type": "code",
   "execution_count": null,
   "id": "5f195e99-c1b0-427f-9e93-d198e2c46d8b",
   "metadata": {
    "tags": []
   },
   "outputs": [],
   "source": [
    "myfunc.__name__"
   ]
  },
  {
   "cell_type": "code",
   "execution_count": null,
   "id": "0cf634f6-5d97-4ba2-ab23-32ec0eb37283",
   "metadata": {
    "tags": []
   },
   "outputs": [],
   "source": [
    "x = myfunc\n",
    "x()"
   ]
  },
  {
   "cell_type": "markdown",
   "id": "07212bc0-671d-4415-aa2f-892bdcdf9c15",
   "metadata": {},
   "source": [
    "They can be passed into function"
   ]
  },
  {
   "cell_type": "code",
   "execution_count": null,
   "id": "4f86baf0-60b4-4a90-84c6-aaa649fb79ca",
   "metadata": {
    "tags": []
   },
   "outputs": [],
   "source": [
    "def double_me(n): return n * 2\n",
    "\n",
    "double_me(10)"
   ]
  },
  {
   "cell_type": "code",
   "execution_count": null,
   "id": "52a4b496-5175-4b2f-8238-12d3931639f6",
   "metadata": {
    "tags": []
   },
   "outputs": [],
   "source": [
    "list(map(double_me, [1,2,3,4,5,6,7,8,9]))"
   ]
  },
  {
   "cell_type": "markdown",
   "id": "ca1f132c-e0bb-414e-971d-78b24d122b07",
   "metadata": {},
   "source": [
    "Functions can even be returned from functions"
   ]
  },
  {
   "cell_type": "code",
   "execution_count": null,
   "id": "b59ed460-0d64-48df-9819-a475eb369155",
   "metadata": {
    "tags": []
   },
   "outputs": [],
   "source": [
    "def n_adder(n):\n",
    "    def adder(value):\n",
    "        return n + value\n",
    "    \n",
    "    return adder"
   ]
  },
  {
   "cell_type": "code",
   "execution_count": null,
   "id": "88bd6968-aacd-4e45-9a62-bbaaabb47043",
   "metadata": {
    "tags": []
   },
   "outputs": [],
   "source": [
    "five_adder = n_adder(5)"
   ]
  },
  {
   "cell_type": "code",
   "execution_count": null,
   "id": "f9b19d15-6f96-4f8f-a94c-9144a5005961",
   "metadata": {
    "tags": []
   },
   "outputs": [],
   "source": [
    "five_adder(1)"
   ]
  },
  {
   "cell_type": "code",
   "execution_count": null,
   "id": "c25b8f40-3464-4b92-b53f-a3cc40900c0b",
   "metadata": {
    "tags": []
   },
   "outputs": [],
   "source": [
    "five_adder(2)"
   ]
  },
  {
   "cell_type": "markdown",
   "id": "4bf37c28-e32e-41c8-af68-a32aee5164c8",
   "metadata": {},
   "source": [
    "`five_adder` isn't the most useful function however. Soon we will see some useful examples, but let's also review `*args` and `*kwargs`"
   ]
  },
  {
   "cell_type": "markdown",
   "id": "ca34b6e5-0c44-4414-bfee-9f3abb28d22d",
   "metadata": {},
   "source": [
    "#### `*args` and `*kwargs` review"
   ]
  },
  {
   "cell_type": "markdown",
   "id": "92a3567a-fefe-49a4-b081-627a96b79f01",
   "metadata": {},
   "source": [
    "We saw examples of functions which either take no arguments or a single argument. We _know_ how many arguments it takes. What if we didn't know how many arguments a function takes? We can use the `*args` to pass in arguments as a list and have Python convert them to proper function parameters"
   ]
  },
  {
   "cell_type": "markdown",
   "id": "86c38e1d-7eb2-41a0-9635-2c8d0b7e5618",
   "metadata": {
    "tags": []
   },
   "source": [
    "`pow` takes two arguments"
   ]
  },
  {
   "cell_type": "code",
   "execution_count": null,
   "id": "4c43dab7-8f20-4ae8-80cc-74475bd13676",
   "metadata": {
    "tags": []
   },
   "outputs": [],
   "source": [
    "pow(10,2)"
   ]
  },
  {
   "cell_type": "markdown",
   "id": "26b47969-766a-4f6d-a095-0cd50fc602ca",
   "metadata": {},
   "source": [
    "Obviously, it does NOT take a list with two arguments"
   ]
  },
  {
   "cell_type": "code",
   "execution_count": null,
   "id": "fe204d24-7dd0-4abd-8d91-1b529efc304c",
   "metadata": {
    "tags": []
   },
   "outputs": [],
   "source": [
    "pow([10, 2]) "
   ]
  },
  {
   "cell_type": "markdown",
   "id": "bdd53066-4ef5-4ee2-b0ff-28e747f33cc5",
   "metadata": {},
   "source": [
    "However, by using the `*` before a list, we can tell Python to conver the elements in the list to function parameters"
   ]
  },
  {
   "cell_type": "code",
   "execution_count": null,
   "id": "bf93309b-ede2-4792-98fe-d34f184e01e4",
   "metadata": {
    "tags": []
   },
   "outputs": [],
   "source": [
    "pow(*[10,2]) "
   ]
  },
  {
   "cell_type": "markdown",
   "id": "932832fa-a6da-486a-bf18-87fbb7ff996b",
   "metadata": {},
   "source": [
    "Similarly, we can pass named parameters to the `open` function"
   ]
  },
  {
   "cell_type": "code",
   "execution_count": null,
   "id": "3cc42099-8de8-4e9e-afa9-337154e00adb",
   "metadata": {
    "tags": []
   },
   "outputs": [],
   "source": [
    "open(file='../../postcell.conf', mode='r').readlines()"
   ]
  },
  {
   "cell_type": "markdown",
   "id": "56ca6bce-032b-402d-9536-cb993011032a",
   "metadata": {},
   "source": [
    "Obviously we can't pass in a dictionary of named parameters"
   ]
  },
  {
   "cell_type": "code",
   "execution_count": null,
   "id": "0bb7353f-1588-4d80-9dfb-b96c38c5ed45",
   "metadata": {
    "tags": []
   },
   "outputs": [],
   "source": [
    "open({'file':'../../postcell.conf', 'mode':'r'}).readlines()"
   ]
  },
  {
   "cell_type": "markdown",
   "id": "e4422ecc-9c01-4a65-83cd-d323143cc1ac",
   "metadata": {},
   "source": [
    "But, we can tell Python to convert this dictionary to named parameters by prefixing the dictionary with `**`"
   ]
  },
  {
   "cell_type": "code",
   "execution_count": null,
   "id": "9b826b1e-a2c3-45d2-90dd-b12364f49cbd",
   "metadata": {
    "tags": []
   },
   "outputs": [],
   "source": [
    "open(**{'file':'../../postcell.conf', 'mode':'r'}).readlines()"
   ]
  },
  {
   "cell_type": "markdown",
   "id": "7e67119d-1dfe-4d19-a17d-0a0282db0d57",
   "metadata": {},
   "source": [
    "Given what we have reviewd, we can now write a couple of very useful function wrappers"
   ]
  },
  {
   "cell_type": "markdown",
   "id": "c0b81c6f-a68e-41f4-8b56-b872b313ac66",
   "metadata": {},
   "source": [
    "#### timer wrapper"
   ]
  },
  {
   "cell_type": "code",
   "execution_count": null,
   "id": "2688b5bb-8251-47a7-bf9f-62d7f3158ed0",
   "metadata": {
    "tags": []
   },
   "outputs": [],
   "source": [
    "import time\n",
    "\n",
    "def timer(f, *args, **kwargs):\n",
    "    start = time.time()\n",
    "    rslt = f(*args, **kwargs)\n",
    "    end = time.time()\n",
    "    print(f\"Function {f.__name__} took {end-start} seconds to execute\")\n",
    "    return rslt"
   ]
  },
  {
   "cell_type": "code",
   "execution_count": null,
   "id": "d716f556-cf65-425e-86c8-e1c8843f54af",
   "metadata": {
    "tags": []
   },
   "outputs": [],
   "source": [
    "timer(open, **{'file':'../../postcell.conf', 'mode':'r'})"
   ]
  },
  {
   "cell_type": "code",
   "execution_count": null,
   "id": "a52360f8-ff01-41b1-996b-9bf0e33f8f63",
   "metadata": {
    "tags": []
   },
   "outputs": [],
   "source": [
    "timer(lambda x: sum(range(x)), 10_000_000)"
   ]
  },
  {
   "cell_type": "markdown",
   "id": "a3799b50-1d36-430b-8e5f-2ef486fea9ca",
   "metadata": {},
   "source": [
    "#### logger wrapper"
   ]
  },
  {
   "cell_type": "code",
   "execution_count": null,
   "id": "ab8ce2ac-0cde-4c41-8ee4-1f762607d9ce",
   "metadata": {
    "tags": []
   },
   "outputs": [],
   "source": [
    "def logger(f, *args, **kwargs):\n",
    "    print(f\"Starting execution of function {f.__name__}\")\n",
    "    rslt = f(*args, **kwargs)\n",
    "    print(f\"Finished execution of function {f.__name__}\")\n",
    "    return rslt"
   ]
  },
  {
   "cell_type": "code",
   "execution_count": null,
   "id": "273966f9-605a-4cc0-a883-4ceba593bbcd",
   "metadata": {
    "tags": []
   },
   "outputs": [],
   "source": [
    "logger(open, **{'file':'../../postcell.conf', 'mode':'r'})"
   ]
  },
  {
   "cell_type": "markdown",
   "id": "4dd62e39-f765-4598-ab93-285e45418ea5",
   "metadata": {},
   "source": [
    "#### A better integrated logger\n",
    "The logger above is very useful, but it changes the syntax of Python. Every function needs to be wrapped in the `logger` function. What if we could continue to call functions as before, but also get the benefits of wrapper functions?"
   ]
  },
  {
   "cell_type": "code",
   "execution_count": null,
   "id": "79d0cbfa-aeef-43e1-a7eb-3d121ab9220b",
   "metadata": {
    "tags": []
   },
   "outputs": [],
   "source": [
    "def logger2(f):\n",
    "    def inner_func(*args, **kwargs):\n",
    "        print(f\"Starting execution of function {f.__name__}\")\n",
    "        rslt = f(*args, **kwargs)\n",
    "        print(f\"Finished execution of function {f.__name__}\")\n",
    "        return rslt\n",
    "    return inner_func"
   ]
  },
  {
   "cell_type": "code",
   "execution_count": null,
   "id": "e0421d6d-83ba-4f8b-be3d-951be65bb02b",
   "metadata": {
    "tags": []
   },
   "outputs": [],
   "source": [
    "def say_hello(name): return f\"Hello {name}\""
   ]
  },
  {
   "cell_type": "code",
   "execution_count": null,
   "id": "d25bb6b0-eeae-4783-b6a9-8ef04d78a6ea",
   "metadata": {
    "tags": []
   },
   "outputs": [],
   "source": [
    "say_hello(\"Shahbaz\")"
   ]
  },
  {
   "cell_type": "code",
   "execution_count": null,
   "id": "8f63bb28-ad62-4bae-bcf0-18eb103c450e",
   "metadata": {
    "tags": []
   },
   "outputs": [],
   "source": [
    "logger(say_hello, \"Shahbaz\")"
   ]
  },
  {
   "cell_type": "code",
   "execution_count": null,
   "id": "fd7ef2b2-aa36-44fc-8728-fe36323e74cf",
   "metadata": {
    "tags": []
   },
   "outputs": [],
   "source": [
    "say_hello2 = logger2(say_hello)"
   ]
  },
  {
   "cell_type": "code",
   "execution_count": null,
   "id": "c3ed8746-3af1-40da-bdc5-182fcb8f153f",
   "metadata": {
    "tags": []
   },
   "outputs": [],
   "source": [
    "say_hello2(\"Shahbaz\")"
   ]
  },
  {
   "cell_type": "markdown",
   "id": "c1456f9b-e7a2-49e3-a33f-c716c36252fa",
   "metadata": {},
   "source": [
    "### Decorators\n",
    "Decorators are a way in which certain annotated function are wrapped in other functions, before being called."
   ]
  },
  {
   "cell_type": "code",
   "execution_count": null,
   "id": "638cf2e3-0f23-4b2f-994a-a40c64f2a92e",
   "metadata": {
    "tags": []
   },
   "outputs": [],
   "source": [
    "@logger2\n",
    "def say_bye(name):\n",
    "    return f\"Good bye {name}\""
   ]
  },
  {
   "cell_type": "code",
   "execution_count": null,
   "id": "fcd27953-5ace-4d9a-a10b-c4cc4a732324",
   "metadata": {
    "tags": []
   },
   "outputs": [],
   "source": [
    "say_bye(\"Shahbaz\")"
   ]
  },
  {
   "cell_type": "markdown",
   "id": "181d531a-4914-4163-a2e3-282d00c0de64",
   "metadata": {},
   "source": [
    "**Decorators are not always great**\n",
    "The author of these notes is not always a fan of decorators. They can intorduce too much \"magic.\" They break the normal flow of the way programs are read by programmers. Given a function, the developer can see the class it belongs to, follow the line by line logic and confirm the inputs and the outputs. A wrapper function can remove the ability to read code in a linear fashion. Developers should be careful when using decorators."
   ]
  },
  {
   "cell_type": "markdown",
   "id": "7092b592-82ba-4ef9-bc1b-b386f69db9d5",
   "metadata": {},
   "source": [
    "p.s."
   ]
  },
  {
   "cell_type": "markdown",
   "id": "0f6d4ef0-a3a3-4692-aef8-762856e281b9",
   "metadata": {},
   "source": [
    "Weirdly, some examples in this lecture are very similar to the examples in https://realpython.com/primer-on-python-decorators, although the author of these notes didn't reference that web page until after the initial draft."
   ]
  },
  {
   "cell_type": "code",
   "execution_count": null,
   "id": "97651fc8-8a75-4f71-8ad3-2c12679661b0",
   "metadata": {},
   "outputs": [],
   "source": []
  }
 ],
 "metadata": {
  "kernelspec": {
   "display_name": "Python 3 (ipykernel)",
   "language": "python",
   "name": "python3"
  },
  "language_info": {
   "codemirror_mode": {
    "name": "ipython",
    "version": 3
   },
   "file_extension": ".py",
   "mimetype": "text/x-python",
   "name": "python",
   "nbconvert_exporter": "python",
   "pygments_lexer": "ipython3",
   "version": "3.11.5"
  }
 },
 "nbformat": 4,
 "nbformat_minor": 5
}
