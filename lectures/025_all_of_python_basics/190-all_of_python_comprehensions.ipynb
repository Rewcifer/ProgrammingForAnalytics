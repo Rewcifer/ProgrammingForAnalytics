{
 "cells": [
  {
   "cell_type": "code",
   "execution_count": null,
   "metadata": {},
   "outputs": [],
   "source": [
    "%reload_ext postcell\n",
    "%postcell register"
   ]
  },
  {
   "cell_type": "markdown",
   "metadata": {},
   "source": [
    "# List comprehensions"
   ]
  },
  {
   "cell_type": "markdown",
   "metadata": {},
   "source": [
    "List comprehensions are one of the most beautiful features of Python. If you are know SQL, list comprehensions should look vaguely familiar. If you have studied math and set theory, list comprehensions should remind you of set construction syntax.\n",
    "\n",
    "With list comprehensions, you can do, in a single expression, what would take several lines."
   ]
  },
  {
   "cell_type": "markdown",
   "metadata": {},
   "source": [
    "Create a list of 20 numbers:"
   ]
  },
  {
   "cell_type": "code",
   "execution_count": null,
   "metadata": {},
   "outputs": [],
   "source": [
    "list(range(20))"
   ]
  },
  {
   "cell_type": "markdown",
   "metadata": {},
   "source": [
    "Produces the same result as above:"
   ]
  },
  {
   "cell_type": "code",
   "execution_count": null,
   "metadata": {},
   "outputs": [],
   "source": [
    "[x for x in range(20)]"
   ]
  },
  {
   "cell_type": "markdown",
   "metadata": {},
   "source": [
    "Adding 1 to each item in the list requires just a tiny change"
   ]
  },
  {
   "cell_type": "code",
   "execution_count": null,
   "metadata": {},
   "outputs": [],
   "source": [
    "[x + 1 for x in range(20)]"
   ]
  },
  {
   "cell_type": "markdown",
   "metadata": {},
   "source": [
    "Square all numbers is similarly easy"
   ]
  },
  {
   "cell_type": "code",
   "execution_count": null,
   "metadata": {},
   "outputs": [],
   "source": [
    "[x**2 for x in range(20)]"
   ]
  },
  {
   "cell_type": "markdown",
   "metadata": {},
   "source": [
    "### Headless list comprehension\n",
    "\n",
    "A wonderful usecase for list comprehensions is to generate a list of random numbers of a given size (although Python and numpy do provide functions which provide the same functionality)."
   ]
  },
  {
   "cell_type": "code",
   "execution_count": null,
   "metadata": {},
   "outputs": [],
   "source": [
    "import random\n",
    "[random.random() for x in range(10)]"
   ]
  },
  {
   "cell_type": "markdown",
   "metadata": {},
   "source": [
    "Notice that the variable `x` is not being used in the comprehension. When we are ignoring the value of a variable, it is common practice to just call it `_` (underscore):"
   ]
  },
  {
   "cell_type": "code",
   "execution_count": null,
   "metadata": {},
   "outputs": [],
   "source": [
    "[random.random() for _ in range(10)]"
   ]
  },
  {
   "cell_type": "markdown",
   "metadata": {},
   "source": [
    "#### If clause in list comprehension\n",
    "Square all numbers and extract numbers less than 100. Notice that adding a condition is just an incremental change in the list comprehension statement, not a separate statement:"
   ]
  },
  {
   "cell_type": "code",
   "execution_count": null,
   "metadata": {},
   "outputs": [],
   "source": [
    "[x for x in range(20) if x < 10]"
   ]
  },
  {
   "cell_type": "markdown",
   "metadata": {},
   "source": [
    "Find states which start with \"New\""
   ]
  },
  {
   "cell_type": "code",
   "execution_count": null,
   "metadata": {},
   "outputs": [],
   "source": [
    "some_states = ['Michigan', 'New York', 'New Jersey', 'Utah', 'California', 'Texas']\n",
    "[s for s in some_states if s.startswith(\"New\")]"
   ]
  },
  {
   "cell_type": "markdown",
   "metadata": {},
   "source": [
    "#### Remember the structure of a list comprehension\n",
    "\n",
    "![](images/listcomprehension.png)"
   ]
  },
  {
   "cell_type": "markdown",
   "metadata": {},
   "source": [
    "**Exercise** Given a list of 10 numbers `range(10)`, find all numbers above 3 (using list comprehensions)"
   ]
  },
  {
   "cell_type": "code",
   "execution_count": null,
   "metadata": {},
   "outputs": [],
   "source": [
    "%%postcell exercise_025_190_a\n",
    "\n",
    "#type your answer here"
   ]
  },
  {
   "cell_type": "markdown",
   "metadata": {},
   "source": [
    "#### Multiple lists in a list comprehension\n",
    "\n",
    "List comprehensions with multiple items can be confusing. A simple way to remember how they work is to think of nested for loops and and translate them to list comprehensions:"
   ]
  },
  {
   "cell_type": "code",
   "execution_count": null,
   "metadata": {},
   "outputs": [],
   "source": [
    "# Recall from last lecture\n",
    "for color in ['red', 'black', 'white', 'blue']:\n",
    "    for car_type in ['sedan', 'suv', 'van']:\n",
    "        print(color, car_type)"
   ]
  },
  {
   "cell_type": "code",
   "execution_count": null,
   "metadata": {},
   "outputs": [],
   "source": [
    "[(color, car_type) for color in ['red', 'black', 'white', 'blue'] for car_type in ['sedan', 'suv', 'van']]"
   ]
  },
  {
   "cell_type": "markdown",
   "metadata": {},
   "source": [
    "Keep in mind that while list comprehensions can be beautiful, stuffing too much logic into them can make them unwieldy. They are avilable for you, when they make sense. If they make your code more difficult, don't use them!"
   ]
  },
  {
   "cell_type": "markdown",
   "metadata": {},
   "source": [
    "# Dictionary Comprehensions\n",
    "\n",
    "Very similar to list comprehensions, we can create list comprehensions. Take this example, it produces a list of tuples. Wrap that list of tuples in `dict()` to generate a dictionary:"
   ]
  },
  {
   "cell_type": "code",
   "execution_count": null,
   "metadata": {},
   "outputs": [],
   "source": [
    "[(color, len(color)) for color in ['red', 'black', 'white', 'blue']]"
   ]
  },
  {
   "cell_type": "code",
   "execution_count": null,
   "metadata": {},
   "outputs": [],
   "source": [
    "dict([(color, len(color)) for color in ['red', 'black', 'white', 'blue']])"
   ]
  },
  {
   "cell_type": "markdown",
   "metadata": {},
   "source": [
    "We could have done this directly, using list comprehension syntax (notice that we've rpelaced square brackets with curly braces):"
   ]
  },
  {
   "cell_type": "code",
   "execution_count": null,
   "metadata": {},
   "outputs": [],
   "source": [
    "{color: len(color) for color in ['red', 'black', 'white', 'blue']}"
   ]
  },
  {
   "cell_type": "markdown",
   "metadata": {},
   "source": [
    "## Why I love comprehension syntax\n",
    "\n",
    "New programmers often don't see why comprehension syntax exists, when loops do the same thing. Let's see some examples which might convince you to give comprehensions a fair shot."
   ]
  },
  {
   "cell_type": "markdown",
   "metadata": {},
   "source": [
    "Example: Find all numbers between 0 and 100 where the square of that number is less than 100"
   ]
  },
  {
   "cell_type": "code",
   "execution_count": null,
   "metadata": {},
   "outputs": [],
   "source": [
    "# Using comprehensions\n",
    "\n",
    "[n for n in range(100) if n**2 < 100]"
   ]
  },
  {
   "cell_type": "code",
   "execution_count": null,
   "metadata": {},
   "outputs": [],
   "source": [
    "# Using loops\n",
    "\n",
    "result = list()\n",
    "for n in range(100):\n",
    "    if n**2 < 100:\n",
    "        result.append(n)\n",
    "\n",
    "result"
   ]
  },
  {
   "cell_type": "markdown",
   "metadata": {},
   "source": [
    "List comprehensions accomplish the same task if fewer lines of code, but there are two more important reasons:\n",
    "* List comprehensions are more _compositional_, since they return a list, a loop doesn't return anything\n",
    "* Comprehension syntax looks higher level: it tells the reader _what_ it is trying to accomplish, not _how_ it is going to accomplish the task. In other words, it is more declarative: what vs how"
   ]
  },
  {
   "cell_type": "code",
   "execution_count": null,
   "metadata": {},
   "outputs": [],
   "source": [
    "# Since list comprehension returns a list, I can pass it to a function. It _composes_ beautifully with the sum function\n",
    "sum([n for n in range(100) if n**2 < 100])"
   ]
  },
  {
   "cell_type": "code",
   "execution_count": null,
   "metadata": {},
   "outputs": [],
   "source": [
    "# Since a loop doesn't return anything, I have to run the loop machinery, save the results to a list, then pass that list to the sum function\n",
    "\n",
    "result = list()\n",
    "for n in range(100):\n",
    "    if n**2 < 100:\n",
    "        result.append(n)\n",
    "\n",
    "sum(result)"
   ]
  },
  {
   "cell_type": "markdown",
   "metadata": {},
   "source": [
    "**Exercise** Given this list, convert every item so the first character is capitalized (hint: `.capitalize()`) and filter out the ones which contain a dot ('.') and add the string \"simpson\" to each entry: `['Homer', 'Marge', 'Mr. Burns', 'Dr. Hiburt']`"
   ]
  },
  {
   "cell_type": "code",
   "execution_count": null,
   "metadata": {},
   "outputs": [],
   "source": [
    "%%postcell exercise_030_150_b\n",
    "\n",
    "#type your answer here\n"
   ]
  },
  {
   "cell_type": "code",
   "execution_count": null,
   "metadata": {},
   "outputs": [],
   "source": []
  }
 ],
 "metadata": {
  "kernelspec": {
   "display_name": "Python 3",
   "language": "python",
   "name": "python3"
  },
  "language_info": {
   "codemirror_mode": {
    "name": "ipython",
    "version": 3
   },
   "file_extension": ".py",
   "mimetype": "text/x-python",
   "name": "python",
   "nbconvert_exporter": "python",
   "pygments_lexer": "ipython3",
   "version": "3.7.6"
  }
 },
 "nbformat": 4,
 "nbformat_minor": 2
}
