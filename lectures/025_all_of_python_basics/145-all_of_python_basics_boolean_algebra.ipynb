{
 "cells": [
  {
   "cell_type": "code",
   "execution_count": null,
   "metadata": {},
   "outputs": [],
   "source": [
    "%reload_ext postcell\n",
    "%postcell register"
   ]
  },
  {
   "cell_type": "markdown",
   "metadata": {},
   "source": [
    "### Booleans algebra"
   ]
  },
  {
   "cell_type": "markdown",
   "metadata": {},
   "source": [
    "Python provides a data type, called boolean or `bool` to represent `True` and `False` values. \n",
    "\n",
    "Data types such as `int`, `float` and `str` can represent an infinite set of values. However, `bool` and only take on two values: `True` and `False`.\n",
    "\n",
    "Just as numbers come with operations such as `+`, `-`, `*`, etc. and strings have built-in functions such as `startswith` and `capitalize`, booleans come with their won operations: `and`, `or` and `not`.\n",
    "\n",
    "Variables can be assigned booean values similar to any other data type:"
   ]
  },
  {
   "cell_type": "code",
   "execution_count": null,
   "metadata": {},
   "outputs": [],
   "source": [
    "homer_is_a_dad = True\n",
    "marge_is_a_mom = True\n",
    "\n",
    "marge_is_a_dad = False\n",
    "homer_is_a_mom = False"
   ]
  },
  {
   "cell_type": "markdown",
   "metadata": {},
   "source": [
    "Boolean _expressions_ can be combined using operators `and`, `or` and `not`. "
   ]
  },
  {
   "cell_type": "markdown",
   "metadata": {},
   "source": [
    "### \"and\"\n",
    "Boolean expression can be combined usind the `and` operator. In technical terms, this is called a _conjunction_. In set theoretic or relational algebra terms, `and` is the same as an intersection.\n",
    "\n",
    "Given a dataset of basketball players and baseball players, an _intersection_ would only show players who play _both_ sports, such as Michael Jordan."
   ]
  },
  {
   "cell_type": "code",
   "execution_count": null,
   "metadata": {},
   "outputs": [],
   "source": [
    "homer_is_a_dad and marge_is_a_mom"
   ]
  },
  {
   "cell_type": "code",
   "execution_count": null,
   "metadata": {},
   "outputs": [],
   "source": [
    "homer_is_a_dad and marge_is_a_dad"
   ]
  },
  {
   "cell_type": "markdown",
   "metadata": {},
   "source": [
    "**Remember** In order for a boolean expression to be true, **all 'and'** sub-expression must be true"
   ]
  },
  {
   "cell_type": "code",
   "execution_count": null,
   "metadata": {},
   "outputs": [],
   "source": [
    "True and True and True and True and True and False"
   ]
  },
  {
   "cell_type": "markdown",
   "metadata": {},
   "source": [
    "**Example** If you the search using the query \"the AND slings AND and AND arrows AND of AND outrageous AND fortune\", the result will very likely be Shakespeare's \"Hamlet\""
   ]
  },
  {
   "cell_type": "markdown",
   "metadata": {},
   "source": [
    "### \"or\"\n",
    "Boolean expressions can be combined using the `or` operator. In technical terms, this is called a _disjunction_. In set theoretic or relational algebra terms, `or` is the same as a union.\n",
    "\n",
    "Given a datset of basketball players and baseball players, a union will result in _all_ players from either sport."
   ]
  },
  {
   "cell_type": "code",
   "execution_count": null,
   "metadata": {},
   "outputs": [],
   "source": [
    "homer_is_a_dad or marge_is_a_dad"
   ]
  },
  {
   "cell_type": "markdown",
   "metadata": {},
   "source": [
    "**Remember** In order for a boolean expression to be true, **any 'or'** sub-expression must be true"
   ]
  },
  {
   "cell_type": "code",
   "execution_count": null,
   "metadata": {},
   "outputs": [],
   "source": [
    "True or True or True or False"
   ]
  },
  {
   "cell_type": "markdown",
   "metadata": {},
   "source": [
    "**Example** If you the search using the query \"the OR slings OR and OR arrows OR of OR outrageous OR fortune\", the result will include _everything_ which contains any of those words. Just the word \"the\" will bring back pratically every English text ever written (including Hamlet)."
   ]
  },
  {
   "cell_type": "markdown",
   "metadata": {},
   "source": [
    "### \"not\""
   ]
  },
  {
   "cell_type": "markdown",
   "metadata": {},
   "source": [
    "Any boolean expression can be negated (converted to the opposite), by adding a `not`"
   ]
  },
  {
   "cell_type": "code",
   "execution_count": null,
   "metadata": {},
   "outputs": [],
   "source": [
    "not True"
   ]
  },
  {
   "cell_type": "code",
   "execution_count": null,
   "metadata": {},
   "outputs": [],
   "source": [
    "not False"
   ]
  },
  {
   "cell_type": "code",
   "execution_count": null,
   "metadata": {},
   "outputs": [],
   "source": [
    "True and True and True and True and True and False"
   ]
  },
  {
   "cell_type": "code",
   "execution_count": null,
   "metadata": {},
   "outputs": [],
   "source": [
    "not (True and True and True and True and True and False)"
   ]
  },
  {
   "cell_type": "markdown",
   "metadata": {},
   "source": [
    "**Example**\n",
    "Say you are a teacher and you need to give grades to students. A student can earn an 'A' only if they have:\n",
    "1. Done all the assignments\n",
    "2. Earned over 92% in final exam\n",
    "3. Attended every class (or has excused absences)"
   ]
  },
  {
   "cell_type": "code",
   "execution_count": null,
   "metadata": {},
   "outputs": [],
   "source": [
    "assignment_percent = 100\n",
    "attendance_percent = 90\n",
    "excused_absence = True\n",
    "exam_grade = 93"
   ]
  },
  {
   "cell_type": "markdown",
   "metadata": {},
   "source": [
    "Write a boolean expression which follows the rules described earlier:"
   ]
  },
  {
   "cell_type": "code",
   "execution_count": null,
   "metadata": {},
   "outputs": [],
   "source": [
    "student_gets_an_a = assignment_percent == 100 \\\n",
    "    and exam_grade > 92 \\\n",
    "    and (attendance_percent == 100 or excused_absence == True)\n",
    "\n",
    "student_gets_an_a"
   ]
  },
  {
   "cell_type": "markdown",
   "metadata": {},
   "source": [
    "**Exercise** You are a car insurance agent and you will take on a client if the following criteria holds:\n",
    "1. Client is at least at least 18 years old\n",
    "2. They have either a US drivers license or an international one\n",
    "3. They have not been in less than 3 accidents in the last 5 years"
   ]
  },
  {
   "cell_type": "code",
   "execution_count": null,
   "metadata": {},
   "outputs": [],
   "source": [
    "client_age = 23\n",
    "has_us_license = True\n",
    "has_international_license = True\n",
    "accidents_in_5_years = 0"
   ]
  },
  {
   "cell_type": "markdown",
   "metadata": {},
   "source": [
    "Write a boolean expression which follows the rules described earlier:"
   ]
  },
  {
   "cell_type": "code",
   "execution_count": null,
   "metadata": {},
   "outputs": [],
   "source": [
    "%%postcell exercise_025_145_a\n",
    "\n",
    "give_insurance = ???\n",
    "\n",
    "give_insurance"
   ]
  },
  {
   "cell_type": "markdown",
   "metadata": {},
   "source": [
    "### Truth tables\n",
    "Boolean algebra is often described in terms of a \"truth table,\" as listed below:\n",
    "\n",
    "Here is the full **truth table**:\n",
    "\n",
    "|Statement A | Statement B| A and B | A or B|\n",
    "| ---        | ---        | ---     | ---   |\n",
    "| True       | True       | True    | True  |\n",
    "| True       | False      | False   | True  |\n",
    "| False      | True       | False   | True  |\n",
    "| False      | False      | False   | False |"
   ]
  },
  {
   "cell_type": "markdown",
   "metadata": {},
   "source": [
    "### Demorgan's laws\n",
    "\n",
    "Deomrgan's laws are often used to simplify a complex set of boolean expressions. Here is wikipedia's definition:\n",
    "\n",
    "The negation of a disjunction is the conjunction of the negations; and\n",
    "The negation of a conjunction is the disjunction of the negations;\n",
    "or\n",
    "\n",
    "the complement of the union of two sets is the same as the intersection of their complements; and\n",
    "the complement of the intersection of two sets is the same as the union of their complements.\n",
    "or\n",
    "\n",
    "not (A or B) = not A and not B; and\n",
    "\n",
    "not (A and B) = not A or not B\n",
    "\n",
    "In set theory and Boolean algebra, these are written formally as\n",
    "\n",
    "\\begin{aligned}{\\overline {A\\cup B}}&={\\overline {A}}\\cap {\\overline {B}},\\\\{\\overline {A\\cap B}}&={\\overline {A}}\\cup {\\overline {B}},\\end{aligned}\n",
    "\n",
    "\\begin{aligned}{\\overline {A\\cup B}}&={\\overline {A}}\\cap {\\overline {B}},\\\\{\\overline {A\\cap B}}&={\\overline {A}}\\cup {\\overline {B}},\\end{aligned}\n",
    "where\n",
    "\n",
    "A and B are sets,\n",
    "A is the complement of A,\n",
    "∩ is the intersection, and\n",
    "∪ is the union."
   ]
  },
  {
   "cell_type": "markdown",
   "metadata": {},
   "source": [
    "**Example** The following two expressions are equivalent:\n",
    "\n",
    "```\n",
    "homer is a dad AND marge is a mom                      <= True statement\n",
    "(homer is NOT a dad or marge is NOT a mom) is NOT true <= True statement\n",
    "```\n",
    "\n",
    "A more intuitive example of this will be provided in a lecture on Pandas row selection"
   ]
  },
  {
   "cell_type": "code",
   "execution_count": null,
   "metadata": {},
   "outputs": [],
   "source": []
  }
 ],
 "metadata": {
  "kernelspec": {
   "display_name": "Python 3",
   "language": "python",
   "name": "python3"
  },
  "language_info": {
   "codemirror_mode": {
    "name": "ipython",
    "version": 3
   },
   "file_extension": ".py",
   "mimetype": "text/x-python",
   "name": "python",
   "nbconvert_exporter": "python",
   "pygments_lexer": "ipython3",
   "version": "3.7.6"
  }
 },
 "nbformat": 4,
 "nbformat_minor": 2
}
