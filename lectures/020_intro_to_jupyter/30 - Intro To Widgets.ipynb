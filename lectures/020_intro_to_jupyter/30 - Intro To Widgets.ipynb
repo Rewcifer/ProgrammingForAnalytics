{
 "cells": [
  {
   "cell_type": "markdown",
   "id": "02def43a-d209-41ef-adfb-b39f7da7e946",
   "metadata": {},
   "source": [
    "# Jupyter Widgets"
   ]
  },
  {
   "cell_type": "markdown",
   "id": "95bda498-2f48-4152-a497-73634803adcd",
   "metadata": {},
   "source": [
    "Jupyter's widgets take interactivity to a new level! You can create user interface elements which let you or your user interact with your code via graphical elements."
   ]
  },
  {
   "cell_type": "markdown",
   "id": "c56eae6a-3962-4c3d-a827-74dc7ef04f65",
   "metadata": {},
   "source": [
    "#### Import library"
   ]
  },
  {
   "cell_type": "code",
   "execution_count": 1,
   "id": "0bbce1c7-36ac-4bd7-9cd3-0a51c7375e5d",
   "metadata": {},
   "outputs": [],
   "source": [
    "import ipywidgets as widgets"
   ]
  },
  {
   "cell_type": "markdown",
   "id": "bd744e23-4115-4dd5-8779-d75bdeadc7c9",
   "metadata": {},
   "source": [
    "#### Try out some widgets"
   ]
  },
  {
   "cell_type": "markdown",
   "id": "f2c42495-d791-4281-a2fe-a07a43d9e2ed",
   "metadata": {},
   "source": [
    "Set a variable via a widget"
   ]
  },
  {
   "cell_type": "code",
   "execution_count": 3,
   "id": "61dc64f9-1089-40fc-9d2e-6a031f238534",
   "metadata": {},
   "outputs": [
    {
     "data": {
      "application/vnd.jupyter.widget-view+json": {
       "model_id": "ffff948df3124cf6a9f0a3944a8475ba",
       "version_major": 2,
       "version_minor": 0
      },
      "text/plain": [
       "IntSlider(value=0)"
      ]
     },
     "metadata": {},
     "output_type": "display_data"
    }
   ],
   "source": [
    "int_slider = widgets.IntSlider()\n",
    "int_slider"
   ]
  },
  {
   "cell_type": "code",
   "execution_count": 4,
   "id": "c8ff4bc0-7835-486d-ac9d-c18665c93c81",
   "metadata": {},
   "outputs": [
    {
     "data": {
      "text/plain": [
       "0"
      ]
     },
     "execution_count": 4,
     "metadata": {},
     "output_type": "execute_result"
    }
   ],
   "source": [
    "int_slider.value"
   ]
  },
  {
   "cell_type": "markdown",
   "id": "3a68eaa5-d934-44bd-9c22-210afb061f0f",
   "metadata": {},
   "source": [
    "Some quick examples"
   ]
  },
  {
   "cell_type": "code",
   "execution_count": 8,
   "id": "edb5b0b8-ae83-4e20-917f-ec313310fb76",
   "metadata": {},
   "outputs": [
    {
     "data": {
      "application/vnd.jupyter.widget-view+json": {
       "model_id": "89b4a0409013478c9c4c42278522eebe",
       "version_major": 2,
       "version_minor": 0
      },
      "text/plain": [
       "IntRangeSlider(value=(25, 75))"
      ]
     },
     "metadata": {},
     "output_type": "display_data"
    }
   ],
   "source": [
    "int_range_slider = widgets.IntRangeSlider()\n",
    "int_range_slider"
   ]
  },
  {
   "cell_type": "code",
   "execution_count": 10,
   "id": "fdb38698-b257-4f6d-9ab7-eb1fcad105ef",
   "metadata": {},
   "outputs": [
    {
     "data": {
      "text/plain": [
       "(8, 52)"
      ]
     },
     "execution_count": 10,
     "metadata": {},
     "output_type": "execute_result"
    }
   ],
   "source": [
    "int_range_slider.value"
   ]
  },
  {
   "cell_type": "code",
   "execution_count": 14,
   "id": "a4bfde38-46e5-4c63-99bf-bfb934135c01",
   "metadata": {},
   "outputs": [
    {
     "data": {
      "application/vnd.jupyter.widget-view+json": {
       "model_id": "7f30e5b71f0349f9a7dec58d9447dd83",
       "version_major": 2,
       "version_minor": 0
      },
      "text/plain": [
       "ToggleButton(value=True, description='Click me')"
      ]
     },
     "metadata": {},
     "output_type": "display_data"
    }
   ],
   "source": [
    "toggle_button = widgets.ToggleButton(value=True, description=\"Flip me\")\n",
    "toggle_button"
   ]
  },
  {
   "cell_type": "code",
   "execution_count": 17,
   "id": "9b4116fd-1d22-4934-8d29-6333b347af3b",
   "metadata": {},
   "outputs": [
    {
     "data": {
      "text/plain": [
       "True"
      ]
     },
     "execution_count": 17,
     "metadata": {},
     "output_type": "execute_result"
    }
   ],
   "source": [
    "toggle_button.value"
   ]
  },
  {
   "cell_type": "code",
   "execution_count": 18,
   "id": "504b39fd-049e-4ffe-ada9-09d01b65ffe6",
   "metadata": {},
   "outputs": [
    {
     "data": {
      "application/vnd.jupyter.widget-view+json": {
       "model_id": "905fc379691248e79244cd2b43c865ba",
       "version_major": 2,
       "version_minor": 0
      },
      "text/plain": [
       "Checkbox(value=True, description='Check me')"
      ]
     },
     "metadata": {},
     "output_type": "display_data"
    }
   ],
   "source": [
    "checkbox = widgets.Checkbox(value=True, description=\"Check me\")\n",
    "checkbox"
   ]
  },
  {
   "cell_type": "code",
   "execution_count": 21,
   "id": "3cdb1f3c-6408-4285-9a34-d5b5ddbf06da",
   "metadata": {},
   "outputs": [
    {
     "data": {
      "text/plain": [
       "False"
      ]
     },
     "execution_count": 21,
     "metadata": {},
     "output_type": "execute_result"
    }
   ],
   "source": [
    "checkbox.value"
   ]
  },
  {
   "cell_type": "code",
   "execution_count": 22,
   "id": "60ae595e-9c99-43de-803c-aa9fb5dbfc66",
   "metadata": {},
   "outputs": [
    {
     "data": {
      "application/vnd.jupyter.widget-view+json": {
       "model_id": "3ad3a7e4f3b94c62a137e7e77fb76a40",
       "version_major": 2,
       "version_minor": 0
      },
      "text/plain": [
       "DatePicker(value=None)"
      ]
     },
     "metadata": {},
     "output_type": "display_data"
    }
   ],
   "source": [
    "date_picker = widgets.DatePicker()\n",
    "date_picker"
   ]
  },
  {
   "cell_type": "code",
   "execution_count": 24,
   "id": "ba682636-2a47-43bc-83e4-29da9d7f9dd2",
   "metadata": {},
   "outputs": [
    {
     "data": {
      "text/plain": [
       "datetime.date(2022, 1, 6)"
      ]
     },
     "execution_count": 24,
     "metadata": {},
     "output_type": "execute_result"
    }
   ],
   "source": [
    "date_picker.value"
   ]
  },
  {
   "cell_type": "markdown",
   "id": "8a77d4d6-995c-4369-848f-c90c6f8d396e",
   "metadata": {},
   "source": [
    "See this link for full list: \n",
    "https://ipywidgets.readthedocs.io/en/stable/examples/Widget%20List.html"
   ]
  },
  {
   "cell_type": "markdown",
   "id": "f4dc34db-cbe0-4b9a-aa67-ccdbbd0e049b",
   "metadata": {},
   "source": [
    "### You can use these widgets to help you explore ideas _much_ more effectively"
   ]
  },
  {
   "cell_type": "code",
   "execution_count": 28,
   "id": "1ec233ea-3385-4573-a55b-79202d561489",
   "metadata": {},
   "outputs": [],
   "source": [
    "def test_function(x):\n",
    "    return x + 100"
   ]
  },
  {
   "cell_type": "code",
   "execution_count": 32,
   "id": "f308825f-dd50-40f6-8342-d2521746d9ff",
   "metadata": {},
   "outputs": [
    {
     "data": {
      "application/vnd.jupyter.widget-view+json": {
       "model_id": "f019cec736244afd83efba2198799647",
       "version_major": 2,
       "version_minor": 0
      },
      "text/plain": [
       "interactive(children=(IntSlider(value=5, description='x', max=15, min=-5), Output()), _dom_classes=('widget-in…"
      ]
     },
     "metadata": {},
     "output_type": "display_data"
    },
    {
     "data": {
      "text/plain": [
       "<function __main__.test_function(x)>"
      ]
     },
     "execution_count": 32,
     "metadata": {},
     "output_type": "execute_result"
    }
   ],
   "source": [
    "widgets.interact(test_function, x = 5)"
   ]
  },
  {
   "cell_type": "markdown",
   "id": "ec821c1f-d045-421f-974b-672c2d784faa",
   "metadata": {},
   "source": [
    "#### Which chart do you want to see?"
   ]
  },
  {
   "cell_type": "code",
   "execution_count": 39,
   "id": "6326ffce-2b32-420d-bc05-c3858064d8ef",
   "metadata": {},
   "outputs": [],
   "source": [
    "import pandas as pd"
   ]
  },
  {
   "cell_type": "code",
   "execution_count": 43,
   "id": "cc273d9e-abc2-4d16-963e-130f575128f7",
   "metadata": {},
   "outputs": [],
   "source": [
    "life_df = pd.read_csv('../../datasets/life-expectancy/life-expectancy-who.zip2', compression='zip')"
   ]
  },
  {
   "cell_type": "code",
   "execution_count": 44,
   "id": "855ae454-82ae-47fc-bdd9-1e5902f5726d",
   "metadata": {},
   "outputs": [
    {
     "data": {
      "text/html": [
       "<div>\n",
       "<style scoped>\n",
       "    .dataframe tbody tr th:only-of-type {\n",
       "        vertical-align: middle;\n",
       "    }\n",
       "\n",
       "    .dataframe tbody tr th {\n",
       "        vertical-align: top;\n",
       "    }\n",
       "\n",
       "    .dataframe thead th {\n",
       "        text-align: right;\n",
       "    }\n",
       "</style>\n",
       "<table border=\"1\" class=\"dataframe\">\n",
       "  <thead>\n",
       "    <tr style=\"text-align: right;\">\n",
       "      <th></th>\n",
       "      <th>Country</th>\n",
       "      <th>Year</th>\n",
       "      <th>Status</th>\n",
       "      <th>Life expectancy</th>\n",
       "      <th>Adult Mortality</th>\n",
       "      <th>infant deaths</th>\n",
       "      <th>Alcohol</th>\n",
       "      <th>percentage expenditure</th>\n",
       "      <th>Hepatitis B</th>\n",
       "      <th>Measles</th>\n",
       "      <th>...</th>\n",
       "      <th>Polio</th>\n",
       "      <th>Total expenditure</th>\n",
       "      <th>Diphtheria</th>\n",
       "      <th>HIV/AIDS</th>\n",
       "      <th>GDP</th>\n",
       "      <th>Population</th>\n",
       "      <th>thinness  1-19 years</th>\n",
       "      <th>thinness 5-9 years</th>\n",
       "      <th>Income composition of resources</th>\n",
       "      <th>Schooling</th>\n",
       "    </tr>\n",
       "  </thead>\n",
       "  <tbody>\n",
       "    <tr>\n",
       "      <th>0</th>\n",
       "      <td>Afghanistan</td>\n",
       "      <td>2015</td>\n",
       "      <td>Developing</td>\n",
       "      <td>65.0</td>\n",
       "      <td>263.0</td>\n",
       "      <td>62</td>\n",
       "      <td>0.01</td>\n",
       "      <td>71.279624</td>\n",
       "      <td>65.0</td>\n",
       "      <td>1154</td>\n",
       "      <td>...</td>\n",
       "      <td>6.0</td>\n",
       "      <td>8.16</td>\n",
       "      <td>65.0</td>\n",
       "      <td>0.1</td>\n",
       "      <td>584.259210</td>\n",
       "      <td>33736494.0</td>\n",
       "      <td>17.2</td>\n",
       "      <td>17.3</td>\n",
       "      <td>0.479</td>\n",
       "      <td>10.1</td>\n",
       "    </tr>\n",
       "    <tr>\n",
       "      <th>1</th>\n",
       "      <td>Afghanistan</td>\n",
       "      <td>2014</td>\n",
       "      <td>Developing</td>\n",
       "      <td>59.9</td>\n",
       "      <td>271.0</td>\n",
       "      <td>64</td>\n",
       "      <td>0.01</td>\n",
       "      <td>73.523582</td>\n",
       "      <td>62.0</td>\n",
       "      <td>492</td>\n",
       "      <td>...</td>\n",
       "      <td>58.0</td>\n",
       "      <td>8.18</td>\n",
       "      <td>62.0</td>\n",
       "      <td>0.1</td>\n",
       "      <td>612.696514</td>\n",
       "      <td>327582.0</td>\n",
       "      <td>17.5</td>\n",
       "      <td>17.5</td>\n",
       "      <td>0.476</td>\n",
       "      <td>10.0</td>\n",
       "    </tr>\n",
       "    <tr>\n",
       "      <th>2</th>\n",
       "      <td>Afghanistan</td>\n",
       "      <td>2013</td>\n",
       "      <td>Developing</td>\n",
       "      <td>59.9</td>\n",
       "      <td>268.0</td>\n",
       "      <td>66</td>\n",
       "      <td>0.01</td>\n",
       "      <td>73.219243</td>\n",
       "      <td>64.0</td>\n",
       "      <td>430</td>\n",
       "      <td>...</td>\n",
       "      <td>62.0</td>\n",
       "      <td>8.13</td>\n",
       "      <td>64.0</td>\n",
       "      <td>0.1</td>\n",
       "      <td>631.744976</td>\n",
       "      <td>31731688.0</td>\n",
       "      <td>17.7</td>\n",
       "      <td>17.7</td>\n",
       "      <td>0.470</td>\n",
       "      <td>9.9</td>\n",
       "    </tr>\n",
       "    <tr>\n",
       "      <th>3</th>\n",
       "      <td>Afghanistan</td>\n",
       "      <td>2012</td>\n",
       "      <td>Developing</td>\n",
       "      <td>59.5</td>\n",
       "      <td>272.0</td>\n",
       "      <td>69</td>\n",
       "      <td>0.01</td>\n",
       "      <td>78.184215</td>\n",
       "      <td>67.0</td>\n",
       "      <td>2787</td>\n",
       "      <td>...</td>\n",
       "      <td>67.0</td>\n",
       "      <td>8.52</td>\n",
       "      <td>67.0</td>\n",
       "      <td>0.1</td>\n",
       "      <td>669.959000</td>\n",
       "      <td>3696958.0</td>\n",
       "      <td>17.9</td>\n",
       "      <td>18.0</td>\n",
       "      <td>0.463</td>\n",
       "      <td>9.8</td>\n",
       "    </tr>\n",
       "    <tr>\n",
       "      <th>4</th>\n",
       "      <td>Afghanistan</td>\n",
       "      <td>2011</td>\n",
       "      <td>Developing</td>\n",
       "      <td>59.2</td>\n",
       "      <td>275.0</td>\n",
       "      <td>71</td>\n",
       "      <td>0.01</td>\n",
       "      <td>7.097109</td>\n",
       "      <td>68.0</td>\n",
       "      <td>3013</td>\n",
       "      <td>...</td>\n",
       "      <td>68.0</td>\n",
       "      <td>7.87</td>\n",
       "      <td>68.0</td>\n",
       "      <td>0.1</td>\n",
       "      <td>63.537231</td>\n",
       "      <td>2978599.0</td>\n",
       "      <td>18.2</td>\n",
       "      <td>18.2</td>\n",
       "      <td>0.454</td>\n",
       "      <td>9.5</td>\n",
       "    </tr>\n",
       "  </tbody>\n",
       "</table>\n",
       "<p>5 rows × 22 columns</p>\n",
       "</div>"
      ],
      "text/plain": [
       "       Country  Year      Status  Life expectancy   Adult Mortality  \\\n",
       "0  Afghanistan  2015  Developing              65.0            263.0   \n",
       "1  Afghanistan  2014  Developing              59.9            271.0   \n",
       "2  Afghanistan  2013  Developing              59.9            268.0   \n",
       "3  Afghanistan  2012  Developing              59.5            272.0   \n",
       "4  Afghanistan  2011  Developing              59.2            275.0   \n",
       "\n",
       "   infant deaths  Alcohol  percentage expenditure  Hepatitis B  Measles   ...  \\\n",
       "0             62     0.01               71.279624         65.0      1154  ...   \n",
       "1             64     0.01               73.523582         62.0       492  ...   \n",
       "2             66     0.01               73.219243         64.0       430  ...   \n",
       "3             69     0.01               78.184215         67.0      2787  ...   \n",
       "4             71     0.01                7.097109         68.0      3013  ...   \n",
       "\n",
       "   Polio  Total expenditure  Diphtheria    HIV/AIDS         GDP  Population  \\\n",
       "0    6.0               8.16         65.0        0.1  584.259210  33736494.0   \n",
       "1   58.0               8.18         62.0        0.1  612.696514    327582.0   \n",
       "2   62.0               8.13         64.0        0.1  631.744976  31731688.0   \n",
       "3   67.0               8.52         67.0        0.1  669.959000   3696958.0   \n",
       "4   68.0               7.87         68.0        0.1   63.537231   2978599.0   \n",
       "\n",
       "    thinness  1-19 years   thinness 5-9 years  \\\n",
       "0                   17.2                 17.3   \n",
       "1                   17.5                 17.5   \n",
       "2                   17.7                 17.7   \n",
       "3                   17.9                 18.0   \n",
       "4                   18.2                 18.2   \n",
       "\n",
       "   Income composition of resources  Schooling  \n",
       "0                            0.479       10.1  \n",
       "1                            0.476       10.0  \n",
       "2                            0.470        9.9  \n",
       "3                            0.463        9.8  \n",
       "4                            0.454        9.5  \n",
       "\n",
       "[5 rows x 22 columns]"
      ]
     },
     "execution_count": 44,
     "metadata": {},
     "output_type": "execute_result"
    }
   ],
   "source": [
    "life_df.head()"
   ]
  },
  {
   "cell_type": "markdown",
   "id": "5a2b1bf7-ef6a-41af-808c-2d41fbf7dd92",
   "metadata": {},
   "source": [
    "#### Display only the chart you wish to see"
   ]
  },
  {
   "cell_type": "code",
   "execution_count": 46,
   "id": "6051b0b4-bfdd-428a-9e1a-51cd2423aafc",
   "metadata": {},
   "outputs": [],
   "source": [
    "colA = widgets.Dropdown(options=life_df.columns)\n",
    "colB = widgets.Dropdown(options=life_df.columns)"
   ]
  },
  {
   "cell_type": "code",
   "execution_count": 48,
   "id": "1fef7f60-4766-4b34-8c42-5ac875e4755a",
   "metadata": {},
   "outputs": [
    {
     "data": {
      "application/vnd.jupyter.widget-view+json": {
       "model_id": "e5a3adde703e490ba88f2721753c07e5",
       "version_major": 2,
       "version_minor": 0
      },
      "text/plain": [
       "Dropdown(options=('Country', 'Year', 'Status', 'Life expectancy ', 'Adult Mortality', 'infant deaths', 'Alcoho…"
      ]
     },
     "metadata": {},
     "output_type": "display_data"
    },
    {
     "data": {
      "application/vnd.jupyter.widget-view+json": {
       "model_id": "31993c22574e4efcb0344dc5ea8565e1",
       "version_major": 2,
       "version_minor": 0
      },
      "text/plain": [
       "Dropdown(options=('Country', 'Year', 'Status', 'Life expectancy ', 'Adult Mortality', 'infant deaths', 'Alcoho…"
      ]
     },
     "metadata": {},
     "output_type": "display_data"
    }
   ],
   "source": [
    "display(colA)\n",
    "display(colB)"
   ]
  },
  {
   "cell_type": "code",
   "execution_count": 56,
   "id": "3fc2d598-bce5-41b1-9bf4-0a433cc31b37",
   "metadata": {},
   "outputs": [
    {
     "data": {
      "text/plain": [
       "<AxesSubplot:xlabel='Alcohol', ylabel='GDP'>"
      ]
     },
     "execution_count": 56,
     "metadata": {},
     "output_type": "execute_result"
    },
    {
     "data": {
      "image/png": "[encoded data removed]",
      "text/plain": [
       "<Figure size 1440x720 with 1 Axes>"
      ]
     },
     "metadata": {
      "needs_background": "light"
     },
     "output_type": "display_data"
    }
   ],
   "source": [
    "life_df.plot.scatter(colA.value, colB.value, figsize=(20, 10))"
   ]
  },
  {
   "cell_type": "markdown",
   "id": "29d2b2b5-8966-4edd-bde4-a8b41e01887d",
   "metadata": {},
   "source": [
    "#### Use radio buttons to decide the target variable for a model"
   ]
  },
  {
   "cell_type": "code",
   "execution_count": 57,
   "id": "190bebeb-5651-4b6f-834e-41a58c1581b4",
   "metadata": {},
   "outputs": [
    {
     "data": {
      "application/vnd.jupyter.widget-view+json": {
       "model_id": "31b8fad2c2764b9eab8d3a6693cc3931",
       "version_major": 2,
       "version_minor": 0
      },
      "text/plain": [
       "RadioButtons(options=('Country', 'Year', 'Status', 'Life expectancy ', 'Adult Mortality', 'infant deaths', 'Al…"
      ]
     },
     "metadata": {},
     "output_type": "display_data"
    }
   ],
   "source": [
    "widgets.RadioButtons(options=life_df.columns)"
   ]
  },
  {
   "cell_type": "code",
   "execution_count": 72,
   "id": "d9608990-e6d0-4e91-8182-c5149c4f111f",
   "metadata": {},
   "outputs": [
    {
     "data": {
      "text/plain": [
       "Country                             True\n",
       "Year                                True\n",
       "Status                              True\n",
       "Life expectancy                    False\n",
       "Adult Mortality                    False\n",
       "infant deaths                       True\n",
       "Alcohol                            False\n",
       "percentage expenditure             False\n",
       "Hepatitis B                         True\n",
       "Measles                            False\n",
       " BMI                               False\n",
       "under-five deaths                   True\n",
       "Polio                               True\n",
       "Total expenditure                  False\n",
       "Diphtheria                          True\n",
       " HIV/AIDS                           True\n",
       "GDP                                False\n",
       "Population                         False\n",
       " thinness  1-19 years               True\n",
       " thinness 5-9 years                 True\n",
       "Income composition of resources    False\n",
       "Schooling                           True\n",
       "dtype: bool"
      ]
     },
     "execution_count": 72,
     "metadata": {},
     "output_type": "execute_result"
    }
   ],
   "source": [
    "is_categorical = (life_df.nunique() / life_df.count()) * 100 < 10"
   ]
  },
  {
   "cell_type": "code",
   "execution_count": 73,
   "id": "682b3fcf-d7ff-4a29-a459-9d3216070575",
   "metadata": {},
   "outputs": [
    {
     "data": {
      "text/plain": [
       "Country                             object\n",
       "Year                                 int64\n",
       "Status                              object\n",
       "Life expectancy                    float64\n",
       "Adult Mortality                    float64\n",
       "infant deaths                        int64\n",
       "Alcohol                            float64\n",
       "percentage expenditure             float64\n",
       "Hepatitis B                        float64\n",
       "Measles                              int64\n",
       " BMI                               float64\n",
       "under-five deaths                    int64\n",
       "Polio                              float64\n",
       "Total expenditure                  float64\n",
       "Diphtheria                         float64\n",
       " HIV/AIDS                          float64\n",
       "GDP                                float64\n",
       "Population                         float64\n",
       " thinness  1-19 years              float64\n",
       " thinness 5-9 years                float64\n",
       "Income composition of resources    float64\n",
       "Schooling                          float64\n",
       "dtype: object"
      ]
     },
     "execution_count": 73,
     "metadata": {},
     "output_type": "execute_result"
    }
   ],
   "source": [
    "life_df.dtypes"
   ]
  },
  {
   "cell_type": "code",
   "execution_count": null,
   "id": "83441d61-e879-4ba4-99df-f88bd5c47b60",
   "metadata": {},
   "outputs": [],
   "source": []
  }
 ],
 "metadata": {
  "kernelspec": {
   "display_name": "Python 3 (ipykernel)",
   "language": "python",
   "name": "python3"
  },
  "language_info": {
   "codemirror_mode": {
    "name": "ipython",
    "version": 3
   },
   "file_extension": ".py",
   "mimetype": "text/x-python",
   "name": "python",
   "nbconvert_exporter": "python",
   "pygments_lexer": "ipython3",
   "version": "3.8.10"
  }
 },
 "nbformat": 4,
 "nbformat_minor": 5
}
