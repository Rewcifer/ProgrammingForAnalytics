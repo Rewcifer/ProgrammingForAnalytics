{
 "cells": [
  {
   "cell_type": "code",
   "execution_count": 4,
   "metadata": {},
   "outputs": [],
   "source": [
    "from IPython.core.display import display, HTML\n",
    "import math\n",
    "import pandas as pd\n",
    "import numpy as np"
   ]
  },
  {
   "cell_type": "markdown",
   "metadata": {},
   "source": [
    "# Visualize numpy arrays better"
   ]
  },
  {
   "cell_type": "code",
   "execution_count": 2,
   "metadata": {},
   "outputs": [],
   "source": [
    "def pprint_numpy(arr, heatmap=False, max_height=6, max_width=6):\n",
    "    #TODO: use np.get_printoptions()\n",
    "    #TODO: what if just one long array, break up into columns and display side by side\n",
    "    height, width = arr.shape\n",
    "\n",
    "    if width <= max_width: \n",
    "        width_range = range(width)\n",
    "    else :#width > max_width\n",
    "        width_midway = math.floor(max_width/2)\n",
    "        width_range = range(width)\n",
    "        width_range = list(width_range[:width_midway]) + ['...'] + list(width_range[-width_midway:])\n",
    "\n",
    "    if height <= max_height: \n",
    "        height_range = range(height)\n",
    "    else :#width > max_width\n",
    "        height_midway = math.floor(max_width/2)\n",
    "        height_range = range(height)\n",
    "        height_range = list(height_range[:height_midway]) + ['...'] + list(height_range[-height_midway:])\n",
    "\n",
    "    rows = list()\n",
    "\n",
    "    #col header\n",
    "    cols = list()\n",
    "    for col in width_range:\n",
    "        if width > max_width and col == width_midway:\n",
    "            cols.append(f'<th>...</th>')\n",
    "            col = max_width - width_midway\n",
    "        else: cols.append(f'<th>{col}</th>')\n",
    "    rows.append('<th></th>'+''.join(cols))\n",
    "\n",
    "    for row in width_range:\n",
    "        cols = list()\n",
    "\n",
    "        if height > max_height and row == height_midway:\n",
    "            cols.append(f'<th>{row}</th>') # row header\n",
    "            rows.append(f\"<tr>{''.join(cols)}</tr>\")\n",
    "            row = max_height - height_midway\n",
    "            \n",
    "        else:\n",
    "            cols.append(f'<th>{row}</th>') # row header\n",
    "            for col in width_range:\n",
    "                if width > max_width and col == width_midway:\n",
    "                    cols.append(f'<td>...</td>')\n",
    "                    col = max_width - width_midway\n",
    "                else:\n",
    "                    if row == '...' or col == '...': val = '...'\n",
    "                    else: val = arr[row][col]\n",
    "                    cols.append(f'<td>{val}</td>')\n",
    "            \n",
    "            rows.append(f\"<tr>{''.join(cols)}</tr>\")\n",
    "    \n",
    "    output = f\"\"\"\n",
    "    <table>\n",
    "        <caption style='caption-side: bottom'>numpy.ndarray {arr.shape}</caption>\n",
    "        {''.join(rows)}\n",
    "    </table>\n",
    "    \"\"\"\n",
    "    return output"
   ]
  },
  {
   "cell_type": "code",
   "execution_count": 7,
   "metadata": {},
   "outputs": [
    {
     "data": {
      "text/html": [
       "\n",
       "    <table>\n",
       "        <caption style='caption-side: bottom'>numpy.ndarray (768, 9)</caption>\n",
       "        <th></th><th>0</th><th>1</th><th>2</th><th>...</th><th>6</th><th>7</th><th>8</th><tr><th>0</th><td>6.0</td><td>148.0</td><td>72.0</td><td>...</td><td>0.627</td><td>50.0</td><td>1.0</td></tr><tr><th>1</th><td>1.0</td><td>85.0</td><td>66.0</td><td>...</td><td>0.35100000000000003</td><td>31.0</td><td>0.0</td></tr><tr><th>2</th><td>8.0</td><td>183.0</td><td>64.0</td><td>...</td><td>0.672</td><td>32.0</td><td>1.0</td></tr><tr><th>...</th><td>...</td><td>...</td><td>...</td><td>...</td><td>...</td><td>...</td><td>...</td></tr><tr><th>6</th><td>3.0</td><td>78.0</td><td>50.0</td><td>...</td><td>0.248</td><td>26.0</td><td>1.0</td></tr><tr><th>7</th><td>10.0</td><td>115.0</td><td>0.0</td><td>...</td><td>0.134</td><td>29.0</td><td>0.0</td></tr><tr><th>8</th><td>2.0</td><td>197.0</td><td>70.0</td><td>...</td><td>0.158</td><td>53.0</td><td>1.0</td></tr>\n",
       "    </table>\n",
       "    "
      ],
      "text/plain": [
       "<IPython.core.display.HTML object>"
      ]
     },
     "metadata": {},
     "output_type": "display_data"
    }
   ],
   "source": [
    "display(HTML(pprint_numpy(data_arr)))"
   ]
  },
  {
   "cell_type": "code",
   "execution_count": null,
   "metadata": {},
   "outputs": [],
   "source": []
  },
  {
   "cell_type": "code",
   "execution_count": 5,
   "metadata": {},
   "outputs": [
    {
     "data": {
      "text/html": [
       "<div>\n",
       "<style scoped>\n",
       "    .dataframe tbody tr th:only-of-type {\n",
       "        vertical-align: middle;\n",
       "    }\n",
       "\n",
       "    .dataframe tbody tr th {\n",
       "        vertical-align: top;\n",
       "    }\n",
       "\n",
       "    .dataframe thead th {\n",
       "        text-align: right;\n",
       "    }\n",
       "</style>\n",
       "<table border=\"1\" class=\"dataframe\">\n",
       "  <thead>\n",
       "    <tr style=\"text-align: right;\">\n",
       "      <th></th>\n",
       "      <th>Pregnancies</th>\n",
       "      <th>Glucose</th>\n",
       "      <th>BloodPressure</th>\n",
       "      <th>SkinThickness</th>\n",
       "      <th>Insulin</th>\n",
       "      <th>BMI</th>\n",
       "      <th>DiabetesPedigreeFunction</th>\n",
       "      <th>Age</th>\n",
       "      <th>Outcome</th>\n",
       "    </tr>\n",
       "  </thead>\n",
       "  <tbody>\n",
       "    <tr>\n",
       "      <th>0</th>\n",
       "      <td>6</td>\n",
       "      <td>148</td>\n",
       "      <td>72</td>\n",
       "      <td>35</td>\n",
       "      <td>0</td>\n",
       "      <td>33.6</td>\n",
       "      <td>0.627</td>\n",
       "      <td>50</td>\n",
       "      <td>1</td>\n",
       "    </tr>\n",
       "    <tr>\n",
       "      <th>1</th>\n",
       "      <td>1</td>\n",
       "      <td>85</td>\n",
       "      <td>66</td>\n",
       "      <td>29</td>\n",
       "      <td>0</td>\n",
       "      <td>26.6</td>\n",
       "      <td>0.351</td>\n",
       "      <td>31</td>\n",
       "      <td>0</td>\n",
       "    </tr>\n",
       "    <tr>\n",
       "      <th>2</th>\n",
       "      <td>8</td>\n",
       "      <td>183</td>\n",
       "      <td>64</td>\n",
       "      <td>0</td>\n",
       "      <td>0</td>\n",
       "      <td>23.3</td>\n",
       "      <td>0.672</td>\n",
       "      <td>32</td>\n",
       "      <td>1</td>\n",
       "    </tr>\n",
       "    <tr>\n",
       "      <th>3</th>\n",
       "      <td>1</td>\n",
       "      <td>89</td>\n",
       "      <td>66</td>\n",
       "      <td>23</td>\n",
       "      <td>94</td>\n",
       "      <td>28.1</td>\n",
       "      <td>0.167</td>\n",
       "      <td>21</td>\n",
       "      <td>0</td>\n",
       "    </tr>\n",
       "    <tr>\n",
       "      <th>4</th>\n",
       "      <td>0</td>\n",
       "      <td>137</td>\n",
       "      <td>40</td>\n",
       "      <td>35</td>\n",
       "      <td>168</td>\n",
       "      <td>43.1</td>\n",
       "      <td>2.288</td>\n",
       "      <td>33</td>\n",
       "      <td>1</td>\n",
       "    </tr>\n",
       "  </tbody>\n",
       "</table>\n",
       "</div>"
      ],
      "text/plain": [
       "   Pregnancies  Glucose  BloodPressure  SkinThickness  Insulin   BMI  \\\n",
       "0            6      148             72             35        0  33.6   \n",
       "1            1       85             66             29        0  26.6   \n",
       "2            8      183             64              0        0  23.3   \n",
       "3            1       89             66             23       94  28.1   \n",
       "4            0      137             40             35      168  43.1   \n",
       "\n",
       "   DiabetesPedigreeFunction  Age  Outcome  \n",
       "0                     0.627   50        1  \n",
       "1                     0.351   31        0  \n",
       "2                     0.672   32        1  \n",
       "3                     0.167   21        0  \n",
       "4                     2.288   33        1  "
      ]
     },
     "execution_count": 5,
     "metadata": {},
     "output_type": "execute_result"
    }
   ],
   "source": [
    "data_df = pd.read_csv('../../datasets/diabetes/diabetes.csv')\n",
    "data_df.head()"
   ]
  },
  {
   "cell_type": "code",
   "execution_count": 6,
   "metadata": {},
   "outputs": [
    {
     "data": {
      "text/plain": [
       "array([[  6.   , 148.   ,  72.   , ...,   0.627,  50.   ,   1.   ],\n",
       "       [  1.   ,  85.   ,  66.   , ...,   0.351,  31.   ,   0.   ],\n",
       "       [  8.   , 183.   ,  64.   , ...,   0.672,  32.   ,   1.   ],\n",
       "       ...,\n",
       "       [  5.   , 121.   ,  72.   , ...,   0.245,  30.   ,   0.   ],\n",
       "       [  1.   , 126.   ,  60.   , ...,   0.349,  47.   ,   1.   ],\n",
       "       [  1.   ,  93.   ,  70.   , ...,   0.315,  23.   ,   0.   ]])"
      ]
     },
     "execution_count": 6,
     "metadata": {},
     "output_type": "execute_result"
    }
   ],
   "source": [
    "data_arr = data_df.values\n",
    "data_arr"
   ]
  },
  {
   "cell_type": "code",
   "execution_count": null,
   "metadata": {},
   "outputs": [],
   "source": []
  }
 ],
 "metadata": {
  "kernelspec": {
   "display_name": "Python 3",
   "language": "python",
   "name": "python3"
  },
  "language_info": {
   "codemirror_mode": {
    "name": "ipython",
    "version": 3
   },
   "file_extension": ".py",
   "mimetype": "text/x-python",
   "name": "python",
   "nbconvert_exporter": "python",
   "pygments_lexer": "ipython3",
   "version": "3.8.5"
  }
 },
 "nbformat": 4,
 "nbformat_minor": 4
}
